{
 "cells": [
  {
   "cell_type": "code",
   "execution_count": null,
   "metadata": {},
   "outputs": [],
   "source": [
    "##-----------------------------------------------\n",
    "##-----------------------------------------------\n",
    "## 5 kyu\n",
    "## Moving Zeros To The End\n",
    "## inicio (2022-10-10)\n",
    "## DONE   (2022-10-10)\n",
    "##-----------------------------------------------\n",
    "##-----------------------------------------------"
   ]
  },
  {
   "cell_type": "code",
   "execution_count": null,
   "metadata": {},
   "outputs": [],
   "source": [
    "def move_zeros(lst):\n",
    "    return lst"
   ]
  },
  {
   "cell_type": "code",
   "execution_count": 12,
   "metadata": {},
   "outputs": [],
   "source": [
    "import numpy as np\n",
    "\n",
    "def move_zeros(lst):\n",
    "    \n",
    "    x = np.array(lst)\n",
    "    x01 = np.where (x == 0)[0]\n",
    "    x02 = [0] * len (x01) \n",
    "    print ('x01:',x01)\n",
    "    print ('x02:',x02)\n",
    "    \n",
    "    x1 = list(filter(lambda x: x != 0, lst))\n",
    "    print ('x1:',x1)\n",
    "    \n",
    "    x1 += x02\n",
    "    \n",
    "    \n",
    "# x = numpy.array([1,0,2,0,3,0,4,5,6,7,8])\n",
    "# numpy.where(x == 0)[0]\n",
    "# array([1, 3, 5])\n",
    "# import numpy as np\n",
    "# array = [0, 1, 0, 3, 4, 5, 0]\n",
    "# array2 = np.argwhere(array)\n",
    "# print array2\n",
    "    \n",
    "    return x1"
   ]
  },
  {
   "cell_type": "code",
   "execution_count": 4,
   "metadata": {},
   "outputs": [
    {
     "ename": "SyntaxError",
     "evalue": "Missing parentheses in call to 'print'. Did you mean print(array2)? (<ipython-input-4-ee7a03ffda57>, line 8)",
     "output_type": "error",
     "traceback": [
      "\u001b[1;36m  File \u001b[1;32m\"<ipython-input-4-ee7a03ffda57>\"\u001b[1;36m, line \u001b[1;32m8\u001b[0m\n\u001b[1;33m    print array2\u001b[0m\n\u001b[1;37m          ^\u001b[0m\n\u001b[1;31mSyntaxError\u001b[0m\u001b[1;31m:\u001b[0m Missing parentheses in call to 'print'. Did you mean print(array2)?\n"
     ]
    }
   ],
   "source": [
    ">>> x = numpy.array([1,0,2,0,3,0,4,5,6,7,8])\n",
    ">>> numpy.where(x == 0)[0]\n",
    "array([1, 3, 5])\n",
    "\n",
    "import numpy as np\n",
    "array = [0, 1, 0, 3, 4, 5, 0]\n",
    "array2 = np.argwhere(array)\n",
    "print array2\n"
   ]
  },
  {
   "cell_type": "code",
   "execution_count": 13,
   "metadata": {},
   "outputs": [
    {
     "name": "stdout",
     "output_type": "stream",
     "text": [
      "x01: [2 4 6 8]\n",
      "x02: [0, 0, 0, 0]\n",
      "x1: [1, 2, 1, 1, 3, 1]\n",
      "[1, 2, 1, 1, 3, 1, 0, 0, 0, 0]\n"
     ]
    }
   ],
   "source": [
    "print (move_zeros([1, 2, 0, 1, 0, 1, 0, 3, 0, 1]))\n",
    "#out [1, 2, 1, 1, 3, 1, 0, 0, 0, 0]"
   ]
  },
  {
   "cell_type": "code",
   "execution_count": null,
   "metadata": {},
   "outputs": [],
   "source": [
    "print (move_zeros([9, 0, 0, 9, 1, 2, 0, 1, 0, 1, 0, 3, 0, 1, 9, 0, 0, 0, 0, 9]))\n",
    "#out [9, 9, 1, 2, 1, 1, 3, 1, 9, 9, 0, 0, 0, 0, 0, 0, 0, 0, 0, 0]"
   ]
  },
  {
   "cell_type": "code",
   "execution_count": null,
   "metadata": {},
   "outputs": [],
   "source": [
    "print (move_zeros([0, 0]))\n",
    "#out [0, 0]"
   ]
  },
  {
   "cell_type": "code",
   "execution_count": null,
   "metadata": {},
   "outputs": [],
   "source": [
    "print (move_zeros([0]))\n",
    "#out [0]"
   ]
  },
  {
   "cell_type": "code",
   "execution_count": null,
   "metadata": {},
   "outputs": [],
   "source": [
    "##-----------------------------------------------\n",
    "##-----------------------------------------------\n",
    "##-----------------------------------------------\n",
    "##-----------------------------------------------"
   ]
  },
  {
   "cell_type": "code",
   "execution_count": null,
   "metadata": {},
   "outputs": [],
   "source": [
    "##-----------------------------------------------\n",
    "##-----------------------------------------------\n",
    "## 5 kyu\n",
    "## RGB To Hex Conversion\n",
    "## inicio (2022-10-09)\n",
    "## DONE   (2022-10-09)\n",
    "##-----------------------------------------------\n",
    "##-----------------------------------------------"
   ]
  },
  {
   "cell_type": "code",
   "execution_count": 1,
   "metadata": {},
   "outputs": [],
   "source": [
    "def rgb(r, g, b):\n",
    "    # your code here :)\n",
    "    \n",
    "    def fromDtH(dec):\n",
    "        \n",
    "        dc = {0: '0', 1: '1', 2: '2', 3: '3', 4: '4', 5: '5', 6: '6', 7: '7',\n",
    "              8: '8', 9: '9', 10: 'A', 11: 'B', 12: 'C', 13: 'D', 14: 'E', 15: 'F'}\n",
    "        hx = ''\n",
    "        \n",
    "        if dec < 0:\n",
    "            dec = 0\n",
    "        if dec > 255:\n",
    "            dec = 255\n",
    "        \n",
    "        while(dec > 0):\n",
    "            mod = dec % 16\n",
    "            hx = dc[mod] + hx\n",
    "            dec = dec // 16\n",
    "            \n",
    "        \n",
    "        hx = '0' * (2-len(hx)) + hx \n",
    "        \n",
    "        return hx\n",
    "    \n",
    "    return fromDtH(r) + fromDtH(g) + fromDtH(b)"
   ]
  },
  {
   "cell_type": "code",
   "execution_count": 2,
   "metadata": {},
   "outputs": [
    {
     "name": "stdout",
     "output_type": "stream",
     "text": [
      "000000\n"
     ]
    }
   ],
   "source": [
    "print(rgb(0, 0, 0))\n",
    "#\"000000\", \"testing zero values\"        "
   ]
  },
  {
   "cell_type": "code",
   "execution_count": 3,
   "metadata": {},
   "outputs": [
    {
     "name": "stdout",
     "output_type": "stream",
     "text": [
      "010203\n"
     ]
    }
   ],
   "source": [
    "print(rgb(1, 2, 3))\n",
    "#\"010203\", \"testing near zero values\"        "
   ]
  },
  {
   "cell_type": "code",
   "execution_count": 4,
   "metadata": {},
   "outputs": [
    {
     "name": "stdout",
     "output_type": "stream",
     "text": [
      "FFFFFF\n"
     ]
    }
   ],
   "source": [
    "print(rgb(255, 255, 255))\n",
    "#\"FFFFFF\", \"testing max values\""
   ]
  },
  {
   "cell_type": "code",
   "execution_count": 5,
   "metadata": {},
   "outputs": [
    {
     "name": "stdout",
     "output_type": "stream",
     "text": [
      "FEFDFC\n"
     ]
    }
   ],
   "source": [
    "print(rgb(254, 253, 252))\n",
    "#\"FEFDFC\", \"testing near max values\"        "
   ]
  },
  {
   "cell_type": "code",
   "execution_count": 6,
   "metadata": {},
   "outputs": [
    {
     "name": "stdout",
     "output_type": "stream",
     "text": [
      "00FF7D\n"
     ]
    }
   ],
   "source": [
    "print(rgb(-20, 275, 125))\n",
    "#\"00FF7D\", \"testing out of range values\""
   ]
  },
  {
   "cell_type": "code",
   "execution_count": null,
   "metadata": {},
   "outputs": [],
   "source": [
    "##-----------------------------------------------\n",
    "##-----------------------------------------------\n",
    "##-----------------------------------------------\n",
    "##-----------------------------------------------"
   ]
  },
  {
   "cell_type": "code",
   "execution_count": null,
   "metadata": {},
   "outputs": [],
   "source": [
    "##-----------------------------------------------\n",
    "##-----------------------------------------------\n",
    "## 5 kyu\n",
    "## Find the smallest\n",
    "## inicio (2022-09-20)\n",
    "## DONE   (2022-09-pending)\n",
    "##-----------------------------------------------\n",
    "##-----------------------------------------------"
   ]
  },
  {
   "cell_type": "code",
   "execution_count": 9,
   "metadata": {},
   "outputs": [],
   "source": [
    "  def smallest(n):\n",
    "    \n",
    "    # list chart to list int\n",
    "    def lc2li (c):\n",
    "        return [int(i) for i in str(c)]\n",
    "    \n",
    "    # min in list (find min)\n",
    "    def fmin (l):\n",
    "        lmin = l[0]\n",
    "        for n in l:\n",
    "            if n < lmin:\n",
    "                lmin = n\n",
    "        \n",
    "        \n",
    "        if lmin == l[0]:\n",
    "            ind = ind+1\n",
    "            print('pasa',lmin)\n",
    "            fmin (l[ind:])\n",
    "        \n",
    "        return (lmin)\n",
    "        \n",
    "      \n",
    "    ctn = str(n)\n",
    "    ln =  lc2li (ctn)\n",
    "    print('ln:', ln)\n",
    "    Nmin = fmin (ln)\n",
    "    \n",
    "    print ('Nmin_0 (numero):', Nmin[0], 'Nmin_1 (posicion):', Nmin[1])\n",
    "    \n",
    "    # localiza posicion minimo valor\n",
    "    Pmin = ctn.index(str(Nmin[0]))\n",
    "    print('Pmin:',Pmin)\n",
    "    #extrae minimo valor            \n",
    "    ln.pop(Pmin)\n",
    "    print ('ln.pop:',ln)\n",
    "    #insert donde corresponda            \n",
    "    ln.insert(Nmin[1],Nmin[0])\n",
    "    print ('ln.insert:', ln)\n",
    "    \n",
    "    test_list = int(''.join(map(str,ln)))\n",
    "    \n",
    "    return ([test_list, Pmin, Nmin[1]])    \n",
    "    \n",
    "    \n",
    "    #si el primer digito del numero de entrada es el menor entonces\n",
    "    #considerarlo en la busqueda del minimo\n",
    "    #hay que fijar el primer digito y trabajar en la siguiente posición\n",
    "    #alerta porque esto puede pasar con el resto de digitos y posiciones\n",
    "    \n",
    "    #subrf = rf[rf.index(c[0]):rf.index(c[len(chars)-1]) +1]"
   ]
  },
  {
   "cell_type": "code",
   "execution_count": 34,
   "metadata": {},
   "outputs": [
    {
     "name": "stdout",
     "output_type": "stream",
     "text": [
      "ctn: 261235\n",
      "ln: [2, 6, 1, 2, 3, 5]\n",
      "Nmin_0 (numero): 1 Nmin_1 (posicion): 0\n",
      "Pmin: 2\n",
      "ln.pop: [2, 6, 2, 3, 5]\n",
      "ln.insert: [1, 2, 6, 2, 3, 5]\n",
      "[126235, 2, 0]\n"
     ]
    }
   ],
   "source": [
    "print (smallest (261235))"
   ]
  },
  {
   "cell_type": "code",
   "execution_count": 2,
   "metadata": {},
   "outputs": [
    {
     "name": "stdout",
     "output_type": "stream",
     "text": [
      "ln: [2, 0, 9, 9, 1, 7]\n",
      "Nmin_0 (numero): 0 Nmin_1 (posicion): 0\n",
      "Pmin: 1\n",
      "ln.pop: [2, 9, 9, 1, 7]\n",
      "ln.insert: [0, 2, 9, 9, 1, 7]\n",
      "[29917, 1, 0]\n"
     ]
    }
   ],
   "source": [
    "print (smallest (209917))"
   ]
  },
  {
   "cell_type": "code",
   "execution_count": null,
   "metadata": {},
   "outputs": [],
   "source": [
    "testing(261235, [126235, 2, 0]);\n",
    "testing(209917, [29917, 0, 1]);\n",
    "testing(285365, [238565, 3, 1]);\n",
    "testing(269045, [26945, 3, 0]);\n",
    "testing(296837, [239687, 4, 1]);"
   ]
  },
  {
   "cell_type": "code",
   "execution_count": 10,
   "metadata": {},
   "outputs": [
    {
     "name": "stdout",
     "output_type": "stream",
     "text": [
      "ln: [2, 8, 5, 3, 6, 5]\n"
     ]
    },
    {
     "ename": "UnboundLocalError",
     "evalue": "local variable 'ind' referenced before assignment",
     "output_type": "error",
     "traceback": [
      "\u001b[1;31m---------------------------------------------------------------------------\u001b[0m",
      "\u001b[1;31mUnboundLocalError\u001b[0m                         Traceback (most recent call last)",
      "\u001b[1;32m<ipython-input-10-114ea844a8cb>\u001b[0m in \u001b[0;36m<module>\u001b[1;34m\u001b[0m\n\u001b[1;32m----> 1\u001b[1;33m \u001b[0mprint\u001b[0m \u001b[1;33m(\u001b[0m\u001b[0msmallest\u001b[0m \u001b[1;33m(\u001b[0m\u001b[1;36m285365\u001b[0m\u001b[1;33m)\u001b[0m\u001b[1;33m)\u001b[0m\u001b[1;33m\u001b[0m\u001b[1;33m\u001b[0m\u001b[0m\n\u001b[0m",
      "\u001b[1;32m<ipython-input-9-897046b491c7>\u001b[0m in \u001b[0;36msmallest\u001b[1;34m(n)\u001b[0m\n\u001b[0;32m     24\u001b[0m   \u001b[0mln\u001b[0m \u001b[1;33m=\u001b[0m  \u001b[0mlc2li\u001b[0m \u001b[1;33m(\u001b[0m\u001b[0mctn\u001b[0m\u001b[1;33m)\u001b[0m\u001b[1;33m\u001b[0m\u001b[1;33m\u001b[0m\u001b[0m\n\u001b[0;32m     25\u001b[0m   \u001b[0mprint\u001b[0m\u001b[1;33m(\u001b[0m\u001b[1;34m'ln:'\u001b[0m\u001b[1;33m,\u001b[0m \u001b[0mln\u001b[0m\u001b[1;33m)\u001b[0m\u001b[1;33m\u001b[0m\u001b[1;33m\u001b[0m\u001b[0m\n\u001b[1;32m---> 26\u001b[1;33m   \u001b[0mNmin\u001b[0m \u001b[1;33m=\u001b[0m \u001b[0mfmin\u001b[0m \u001b[1;33m(\u001b[0m\u001b[0mln\u001b[0m\u001b[1;33m)\u001b[0m\u001b[1;33m\u001b[0m\u001b[1;33m\u001b[0m\u001b[0m\n\u001b[0m\u001b[0;32m     27\u001b[0m \u001b[1;33m\u001b[0m\u001b[0m\n\u001b[0;32m     28\u001b[0m   \u001b[0mprint\u001b[0m \u001b[1;33m(\u001b[0m\u001b[1;34m'Nmin_0 (numero):'\u001b[0m\u001b[1;33m,\u001b[0m \u001b[0mNmin\u001b[0m\u001b[1;33m[\u001b[0m\u001b[1;36m0\u001b[0m\u001b[1;33m]\u001b[0m\u001b[1;33m,\u001b[0m \u001b[1;34m'Nmin_1 (posicion):'\u001b[0m\u001b[1;33m,\u001b[0m \u001b[0mNmin\u001b[0m\u001b[1;33m[\u001b[0m\u001b[1;36m1\u001b[0m\u001b[1;33m]\u001b[0m\u001b[1;33m)\u001b[0m\u001b[1;33m\u001b[0m\u001b[1;33m\u001b[0m\u001b[0m\n",
      "\u001b[1;32m<ipython-input-9-897046b491c7>\u001b[0m in \u001b[0;36mfmin\u001b[1;34m(l)\u001b[0m\n\u001b[0;32m     13\u001b[0m \u001b[1;33m\u001b[0m\u001b[0m\n\u001b[0;32m     14\u001b[0m \u001b[1;33m\u001b[0m\u001b[0m\n\u001b[1;32m---> 15\u001b[1;33m       \u001b[1;32mif\u001b[0m \u001b[0mlmin\u001b[0m \u001b[1;33m==\u001b[0m \u001b[0ml\u001b[0m\u001b[1;33m[\u001b[0m\u001b[0mind\u001b[0m\u001b[1;33m]\u001b[0m\u001b[1;33m:\u001b[0m\u001b[1;33m\u001b[0m\u001b[1;33m\u001b[0m\u001b[0m\n\u001b[0m\u001b[0;32m     16\u001b[0m           \u001b[0mind\u001b[0m \u001b[1;33m=\u001b[0m \u001b[0mind\u001b[0m\u001b[1;33m+\u001b[0m\u001b[1;36m1\u001b[0m\u001b[1;33m\u001b[0m\u001b[1;33m\u001b[0m\u001b[0m\n\u001b[0;32m     17\u001b[0m           \u001b[0mprint\u001b[0m\u001b[1;33m(\u001b[0m\u001b[1;34m'pasa'\u001b[0m\u001b[1;33m,\u001b[0m\u001b[0mlmin\u001b[0m\u001b[1;33m)\u001b[0m\u001b[1;33m\u001b[0m\u001b[1;33m\u001b[0m\u001b[0m\n",
      "\u001b[1;31mUnboundLocalError\u001b[0m: local variable 'ind' referenced before assignment"
     ]
    }
   ],
   "source": [
    "print (smallest (285365))"
   ]
  },
  {
   "cell_type": "code",
   "execution_count": null,
   "metadata": {},
   "outputs": [],
   "source": [
    "##-----------------------------------------------\n",
    "##-----------------------------------------------\n",
    "##-----------------------------------------------\n",
    "##-----------------------------------------------"
   ]
  },
  {
   "cell_type": "code",
   "execution_count": null,
   "metadata": {},
   "outputs": [],
   "source": [
    "##-----------------------------------------------\n",
    "##--(ENDESA Ninja -- training session)-----------\n",
    "##-----------------------------------------------\n",
    "## 5 kyu\n",
    "## Numbers with The Highest Amount of Divisors\n",
    "## inicio (2022-08-17)\n",
    "## DONE   (2022-08-17)\n",
    "##-----------------------------------------------\n",
    "##-----------------------------------------------"
   ]
  },
  {
   "cell_type": "code",
   "execution_count": 222,
   "metadata": {},
   "outputs": [],
   "source": [
    "def getDivs(N):\n",
    "    factors = {1}\n",
    "    maxP  = int(N**0.5)\n",
    "    p,inc = 2,1\n",
    "    while p <= maxP:\n",
    "        while N%p==0:\n",
    "            factors.update([f*p for f in factors])\n",
    "            N //= p\n",
    "            maxP = int(N**0.5)\n",
    "        p,inc = p+inc,2\n",
    "    if N>1:\n",
    "        factors.update([f*N for f in factors])\n",
    "    return sorted(factors)   "
   ]
  },
  {
   "cell_type": "code",
   "execution_count": 223,
   "metadata": {},
   "outputs": [
    {
     "name": "stdout",
     "output_type": "stream",
     "text": [
      "[1, 2, 3, 4, 6, 9, 12, 18, 36]\n"
     ]
    }
   ],
   "source": [
    "print (getDivs(36))"
   ]
  },
  {
   "cell_type": "code",
   "execution_count": 229,
   "metadata": {},
   "outputs": [],
   "source": [
    "def getDivs(N):\n",
    "    factors = {1}\n",
    "    maxP  = int(N**0.5)\n",
    "    p,inc = 2,1\n",
    "    flag = False\n",
    "    a = N\n",
    "    \n",
    "    while p <= maxP:\n",
    "        while N%p==0:\n",
    "            factors.update([f*p for f in factors])\n",
    "            N //= p\n",
    "            maxP = int(N**0.5)\n",
    "        p,inc = p+inc,2\n",
    "    if N>1:\n",
    "        factors.update([f*N for f in factors])\n",
    "    \n",
    "    lf = len(factors)\n",
    "    if lf==2:\n",
    "        flag = True\n",
    "        \n",
    "    return [a, lf, flag]\n",
    "    #return sorted(factors) "
   ]
  },
  {
   "cell_type": "code",
   "execution_count": 230,
   "metadata": {},
   "outputs": [
    {
     "name": "stdout",
     "output_type": "stream",
     "text": [
      "[36, 9, False]\n"
     ]
    }
   ],
   "source": [
    "print (getDivs(36))"
   ]
  },
  {
   "cell_type": "code",
   "execution_count": 231,
   "metadata": {},
   "outputs": [
    {
     "name": "stdout",
     "output_type": "stream",
     "text": [
      "[2, 2, True]\n"
     ]
    }
   ],
   "source": [
    "print (getDivs(2))"
   ]
  },
  {
   "cell_type": "code",
   "execution_count": 235,
   "metadata": {},
   "outputs": [],
   "source": [
    "## funciona pero con bajo rendimiento\n",
    "def proc_arrInt(listNum):\n",
    "    #you code here\n",
    "    \n",
    "    pri  = 0\n",
    "    numDiv = 0\n",
    "    lmax = []\n",
    "    listNum.sort() \n",
    "       \n",
    "    def calcDiv (a):\n",
    "        c = 2\n",
    "        flag = False\n",
    "        for i in range(2, a + 1):\n",
    "            if (a % i) == 0 and a != i:\n",
    "                flag = True\n",
    "                c +=1\n",
    "        return [a, c, flag]\n",
    "        \n",
    "    \n",
    "    for j in listNum:\n",
    "        l = calcDiv (j)\n",
    "        if l[2] == False:\n",
    "            pri += 1\n",
    "        else:\n",
    "            if l[1] > numDiv:\n",
    "                numDiv = l[1]\n",
    "                lmax = []\n",
    "                lmax.append(l[0])\n",
    "                \n",
    "            elif l[1] == numDiv:\n",
    "                lmax.append(l[0])\n",
    "        \n",
    "    laux = [numDiv, lmax]\n",
    "    return [len(listNum), pri, laux]"
   ]
  },
  {
   "cell_type": "code",
   "execution_count": 240,
   "metadata": {},
   "outputs": [],
   "source": [
    "## funciona OK\n",
    "def proc_arrInt(listNum):\n",
    "    #you code here\n",
    "    \n",
    "    pri  = 0\n",
    "    numDiv = 0\n",
    "    lmax = []\n",
    "    listNum.sort() \n",
    "       \n",
    "    def calcDiv (N):\n",
    "        factors = {1}\n",
    "        maxP  = int(N**0.5)\n",
    "        p,inc = 2,1\n",
    "        flag = False\n",
    "        a = N\n",
    "    \n",
    "        while p <= maxP:\n",
    "            while N%p==0:\n",
    "                factors.update([f*p for f in factors])\n",
    "                N //= p\n",
    "                maxP = int(N**0.5)\n",
    "            p,inc = p+inc,2\n",
    "        \n",
    "        if N>1:\n",
    "            factors.update([f*N for f in factors])\n",
    "    \n",
    "        lf = len(factors)\n",
    "        if lf>2:\n",
    "            flag = True\n",
    "        \n",
    "        return [a, lf, flag]\n",
    "        \n",
    "    \n",
    "    for j in listNum:\n",
    "        l = calcDiv (j)\n",
    "        if l[2] == False:\n",
    "            pri += 1\n",
    "        else:\n",
    "            if l[1] > numDiv:\n",
    "                numDiv = l[1]\n",
    "                lmax = []\n",
    "                lmax.append(l[0])\n",
    "                \n",
    "            elif l[1] == numDiv:\n",
    "                lmax.append(l[0])\n",
    "        \n",
    "    laux = [numDiv, lmax]\n",
    "    return [len(listNum), pri, laux]"
   ]
  },
  {
   "cell_type": "code",
   "execution_count": 241,
   "metadata": {},
   "outputs": [
    {
     "data": {
      "text/plain": [
       "[21, 2, [9, [36]]]"
      ]
     },
     "execution_count": 241,
     "metadata": {},
     "output_type": "execute_result"
    }
   ],
   "source": [
    "arr1 = [66, 36, 49, 40, 73, 12, 77, 78, 76, 8, 50,\n",
    "       20, 85, 22, 24, 68, 26, 59, 92, 93, 30]\n",
    "proc_arrInt (arr1)"
   ]
  },
  {
   "cell_type": "code",
   "execution_count": 242,
   "metadata": {},
   "outputs": [
    {
     "data": {
      "text/plain": [
       "[26, 7, [12, [108, 150, 444, 486]]]"
      ]
     },
     "execution_count": 242,
     "metadata": {},
     "output_type": "execute_result"
    }
   ],
   "source": [
    "arr1 =[267, 273, 271, 145, 275, 150, 487, 169, 428, 50, 314, 444, 445, 67, 458, 211, 58, 95, 357, 486, 359, 491, 108, 493, 247, 379]\n",
    "proc_arrInt (arr1)"
   ]
  },
  {
   "cell_type": "code",
   "execution_count": null,
   "metadata": {},
   "outputs": [],
   "source": [
    "##-----------------------------------------------\n",
    "##-----------------------------------------------\n",
    "##-----------------------------------------------\n",
    "##-----------------------------------------------"
   ]
  },
  {
   "cell_type": "code",
   "execution_count": null,
   "metadata": {},
   "outputs": [],
   "source": [
    "##-----------------------------------------------\n",
    "##--(ENDESA Ninja -- training session)-----------\n",
    "##-----------------------------------------------\n",
    "## 5 kyu\n",
    "## Last digit of a large number\n",
    "## inicio (2022-08-18)\n",
    "## DONE   (2022-08-18)\n",
    "##-----------------------------------------------\n",
    "##-----------------------------------------------"
   ]
  },
  {
   "cell_type": "code",
   "execution_count": 288,
   "metadata": {},
   "outputs": [],
   "source": [
    "# https://www.geeksforgeeks.org/find-last-digit-of-ab-for-large-numbers/\n",
    "\n",
    "#After taking few examples, we can notice below pattern.\n",
    " \n",
    "#Number  |  Last digits that repeat in cycle\n",
    "#  1     |     1\n",
    "#  2     |  4, 8, 6, 2\n",
    "#  3     |  9, 7, 1, 3\n",
    "#  4     |  6, 4\n",
    "#  5     |  5\n",
    "#  6     |  6\n",
    "#  7     |  9, 3, 1, 7\n",
    "#  8     |  4, 2, 6, 8\n",
    "#  9     |  1, 9\n",
    "\n",
    "\n",
    "def last_digit(n1, n2):\n",
    "    a = int(n1)\n",
    "    b = int(n2)\n",
    "     \n",
    "    if (a == 0 and b == 0) or (b == 0):\n",
    "        return 1\n",
    "    elif a == 0:\n",
    "        return 0   \n",
    "       \n",
    "    # if exponent is divisible     by 4 that means last digit will be      (a**4)   % 10\n",
    "    # if exponent is not divisible by 4 that means last digit will be      (a**b%4) % 10\n",
    "    # max value of b%4 is 4\n",
    "    \n",
    "    rs = b%4\n",
    "    \n",
    "    if rs == 0:\n",
    "        exp = 4\n",
    "    else:\n",
    "        exp = rs\n",
    "         \n",
    "    # compute 'a' exponent 'exp'    \n",
    "    # return last digit of n\n",
    "    return (a**exp)%10"
   ]
  },
  {
   "cell_type": "code",
   "execution_count": 289,
   "metadata": {},
   "outputs": [
    {
     "name": "stdout",
     "output_type": "stream",
     "text": [
      "6\n"
     ]
    }
   ],
   "source": [
    "print(last_digit(10006, 7))"
   ]
  },
  {
   "cell_type": "code",
   "execution_count": null,
   "metadata": {},
   "outputs": [],
   "source": [
    "##-----------------------------------------------\n",
    "##-----------------------------------------------\n",
    "##-----------------------------------------------\n",
    "##-----------------------------------------------"
   ]
  },
  {
   "cell_type": "code",
   "execution_count": null,
   "metadata": {},
   "outputs": [],
   "source": [
    "##-----------------------------------------------\n",
    "##--(ENDESA Ninja -- training session)-----------\n",
    "##-----------------------------------------------\n",
    "## 5 kyu\n",
    "## Numbers with The Highest Amount of Divisors\n",
    "## inicio (2022-08-17)\n",
    "## DONE   (2022-08-17)\n",
    "##-----------------------------------------------"
   ]
  },
  {
   "cell_type": "code",
   "execution_count": null,
   "metadata": {},
   "outputs": [],
   "source": [
    "def getDivs(N):\n",
    "    factors = {1}\n",
    "    maxP  = int(N**0.5)\n",
    "    p,inc = 2,1\n",
    "    while p <= maxP:\n",
    "        while N%p==0:\n",
    "            factors.update([f*p for f in factors])\n",
    "            N //= p\n",
    "            maxP = int(N**0.5)\n",
    "        p,inc = p+inc,2\n",
    "    if N>1:\n",
    "        factors.update([f*N for f in factors])\n",
    "    return sorted(factors)   "
   ]
  },
  {
   "cell_type": "code",
   "execution_count": null,
   "metadata": {},
   "outputs": [],
   "source": [
    "print (getDivs(36))"
   ]
  },
  {
   "cell_type": "code",
   "execution_count": null,
   "metadata": {},
   "outputs": [],
   "source": [
    "def getDivs(N):\n",
    "    factors = {1}\n",
    "    maxP  = int(N**0.5)\n",
    "    p,inc = 2,1\n",
    "    flag = False\n",
    "    a = N\n",
    "    \n",
    "    while p <= maxP:\n",
    "        while N%p==0:\n",
    "            factors.update([f*p for f in factors])\n",
    "            N //= p\n",
    "            maxP = int(N**0.5)\n",
    "        p,inc = p+inc,2\n",
    "    if N>1:\n",
    "        factors.update([f*N for f in factors])\n",
    "    \n",
    "    lf = len(factors)\n",
    "    if lf==2:\n",
    "        flag = True\n",
    "        \n",
    "    return [a, lf, flag]\n",
    "    #return sorted(factors) "
   ]
  },
  {
   "cell_type": "code",
   "execution_count": null,
   "metadata": {},
   "outputs": [],
   "source": [
    "print (getDivs(36))"
   ]
  },
  {
   "cell_type": "code",
   "execution_count": null,
   "metadata": {},
   "outputs": [],
   "source": [
    "print (getDivs(2))"
   ]
  },
  {
   "cell_type": "code",
   "execution_count": null,
   "metadata": {},
   "outputs": [],
   "source": [
    "## funciona pero con bajo rendimiento\n",
    "def proc_arrInt(listNum):\n",
    "    #you code here\n",
    "    \n",
    "    pri  = 0\n",
    "    numDiv = 0\n",
    "    lmax = []\n",
    "    listNum.sort() \n",
    "       \n",
    "    def calcDiv (a):\n",
    "        c = 2\n",
    "        flag = False\n",
    "        for i in range(2, a + 1):\n",
    "            if (a % i) == 0 and a != i:\n",
    "                flag = True\n",
    "                c +=1\n",
    "        return [a, c, flag]\n",
    "        \n",
    "    \n",
    "    for j in listNum:\n",
    "        l = calcDiv (j)\n",
    "        if l[2] == False:\n",
    "            pri += 1\n",
    "        else:\n",
    "            if l[1] > numDiv:\n",
    "                numDiv = l[1]\n",
    "                lmax = []\n",
    "                lmax.append(l[0])\n",
    "                \n",
    "            elif l[1] == numDiv:\n",
    "                lmax.append(l[0])\n",
    "        \n",
    "    laux = [numDiv, lmax]\n",
    "    return [len(listNum), pri, laux]"
   ]
  },
  {
   "cell_type": "code",
   "execution_count": null,
   "metadata": {},
   "outputs": [],
   "source": [
    "## funciona OK\n",
    "def proc_arrInt(listNum):\n",
    "    #you code here\n",
    "    \n",
    "    pri  = 0\n",
    "    numDiv = 0\n",
    "    lmax = []\n",
    "    listNum.sort() \n",
    "       \n",
    "    def calcDiv (N):\n",
    "        factors = {1}\n",
    "        maxP  = int(N**0.5)\n",
    "        p,inc = 2,1\n",
    "        flag = False\n",
    "        a = N\n",
    "    \n",
    "        while p <= maxP:\n",
    "            while N%p==0:\n",
    "                factors.update([f*p for f in factors])\n",
    "                N //= p\n",
    "                maxP = int(N**0.5)\n",
    "            p,inc = p+inc,2\n",
    "        \n",
    "        if N>1:\n",
    "            factors.update([f*N for f in factors])\n",
    "    \n",
    "        lf = len(factors)\n",
    "        if lf>2:\n",
    "            flag = True\n",
    "        \n",
    "        return [a, lf, flag]\n",
    "        \n",
    "    \n",
    "    for j in listNum:\n",
    "        l = calcDiv (j)\n",
    "        if l[2] == False:\n",
    "            pri += 1\n",
    "        else:\n",
    "            if l[1] > numDiv:\n",
    "                numDiv = l[1]\n",
    "                lmax = []\n",
    "                lmax.append(l[0])\n",
    "                \n",
    "            elif l[1] == numDiv:\n",
    "                lmax.append(l[0])\n",
    "        \n",
    "    laux = [numDiv, lmax]\n",
    "    return [len(listNum), pri, laux]"
   ]
  },
  {
   "cell_type": "code",
   "execution_count": null,
   "metadata": {},
   "outputs": [],
   "source": [
    "arr1 = [66, 36, 49, 40, 73, 12, 77, 78, 76, 8, 50,\n",
    "       20, 85, 22, 24, 68, 26, 59, 92, 93, 30]\n",
    "proc_arrInt (arr1)"
   ]
  },
  {
   "cell_type": "code",
   "execution_count": null,
   "metadata": {},
   "outputs": [],
   "source": [
    "arr1 =[267, 273, 271, 145, 275, 150, 487, 169, 428, 50, 314, 444, 445, 67, 458, 211, 58, 95, 357, 486, 359, 491, 108, 493, 247, 379]\n",
    "proc_arrInt (arr1)"
   ]
  },
  {
   "cell_type": "code",
   "execution_count": null,
   "metadata": {},
   "outputs": [],
   "source": [
    "##-----------------------------------------------\n",
    "##-----------------------------------------------\n",
    "##-----------------------------------------------\n",
    "##-----------------------------------------------"
   ]
  },
  {
   "cell_type": "code",
   "execution_count": null,
   "metadata": {},
   "outputs": [],
   "source": []
  }
 ],
 "metadata": {
  "kernelspec": {
   "display_name": "Python 3",
   "language": "python",
   "name": "python3"
  },
  "language_info": {
   "codemirror_mode": {
    "name": "ipython",
    "version": 3
   },
   "file_extension": ".py",
   "mimetype": "text/x-python",
   "name": "python",
   "nbconvert_exporter": "python",
   "pygments_lexer": "ipython3",
   "version": "3.8.5"
  }
 },
 "nbformat": 4,
 "nbformat_minor": 4
}
