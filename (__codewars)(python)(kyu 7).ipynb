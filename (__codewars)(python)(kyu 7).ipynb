{
 "cells": [
  {
   "cell_type": "code",
   "execution_count": null,
   "metadata": {},
   "outputs": [],
   "source": [
    "##-----------------------------------------------\n",
    "##--(ENDESA Ninja -- training session)-----------\n",
    "##-----------------------------------------------\n",
    "## 7 kyu\n",
    "## Sum of all arguments\n",
    "## inicio (2022-08-20)\n",
    "## DONE   (2022-08-20)\n",
    "##-----------------------------------------------\n",
    "##-----------------------------------------------"
   ]
  },
  {
   "cell_type": "code",
   "execution_count": null,
   "metadata": {},
   "outputs": [],
   "source": [
    "def sum_args(*args):\n",
    "    s = 0\n",
    "    for x in args:\n",
    "        s = s + x\n",
    "    return s"
   ]
  },
  {
   "cell_type": "code",
   "execution_count": null,
   "metadata": {},
   "outputs": [],
   "source": []
  },
  {
   "cell_type": "code",
   "execution_count": null,
   "metadata": {},
   "outputs": [],
   "source": [
    "##-----------------------------------------------\n",
    "##--(ENDESA Ninja -- training session)-----------\n",
    "##-----------------------------------------------\n",
    "## 7 kyu\n",
    "## Switcheroo\n",
    "## inicio (2022-08-16)\n",
    "## DONE   (2022-08-16)\n",
    "##-----------------------------------------------\n",
    "##-----------------------------------------------"
   ]
  },
  {
   "cell_type": "code",
   "execution_count": null,
   "metadata": {},
   "outputs": [],
   "source": [
    "def switcheroo(s):\n",
    "    #your code here\n",
    "\n",
    "    indx = 0\n",
    "    tmp = list(s)              # convertir caracter en lista\n",
    "    \n",
    "    for c in tmp:\n",
    "        if c == 'a':\n",
    "            tmp [indx] = 'b'\n",
    "            \n",
    "        elif c == 'b':\n",
    "             tmp [indx] = 'a'\n",
    "        \n",
    "        indx += 1\n",
    "    \n",
    "    sstr = \"\".join(tmp)        # unir todos los caracteres a una sola cadena\n",
    "    return sstr"
   ]
  },
  {
   "cell_type": "code",
   "execution_count": null,
   "metadata": {},
   "outputs": [],
   "source": [
    "##-----------------------------------------------\n",
    "##-----------------------------------------------\n",
    "##-----------------------------------------------\n",
    "##-----------------------------------------------"
   ]
  },
  {
   "cell_type": "code",
   "execution_count": null,
   "metadata": {},
   "outputs": [],
   "source": [
    "##-----------------------------------------------\n",
    "##--(ENDESA Ninja -- training session)-----------\n",
    "##-----------------------------------------------\n",
    "## 7 kyu\n",
    "## Sum of angles\n",
    "## inicio (2022-08-16)\n",
    "## DONE   (2022-08-16)\n",
    "##-----------------------------------------------\n",
    "##-----------------------------------------------"
   ]
  },
  {
   "cell_type": "code",
   "execution_count": null,
   "metadata": {},
   "outputs": [],
   "source": [
    "## solucion\n",
    "## https://www.cuemath.com/sum-of-angles-formula/\n",
    "\n",
    "def angle(n):\n",
    "    return (n - 2) * 180\n",
    "    #your code here"
   ]
  },
  {
   "cell_type": "code",
   "execution_count": null,
   "metadata": {},
   "outputs": [],
   "source": [
    "##-----------------------------------------------\n",
    "##-----------------------------------------------\n",
    "##-----------------------------------------------\n",
    "##-----------------------------------------------"
   ]
  },
  {
   "cell_type": "code",
   "execution_count": null,
   "metadata": {},
   "outputs": [],
   "source": [
    "##-----------------------------------------------\n",
    "##--(ENDESA Ninja -- training session)-----------\n",
    "##-----------------------------------------------\n",
    "## 7 kyu\n",
    "## Factorial\n",
    "## inicio (2022-08-16)\n",
    "## DONE   (2022-08-16)\n",
    "##-----------------------------------------------\n",
    "##-----------------------------------------------"
   ]
  },
  {
   "cell_type": "code",
   "execution_count": 12,
   "metadata": {},
   "outputs": [],
   "source": [
    "## solucion\n",
    "## https://www.google.com/search?q=factorial+recursive+pseudocode&rlz=1C1GCEB_enES853ES853&sxsrf=ALiCzsb98Qm6o6njI6CuGnbEFC0Wr2RfYQ%3A1660638351624&ei=j1T7YoW-Jfm79u8P1Zix6Ag&ved=0ahUKEwjFwbH498r5AhX5nf0HHVVMDI0Q4dUDCA4&uact=5&oq=factorial+recursive+pseudocode&gs_lcp=Cgdnd3Mtd2l6EAMyBggAEB4QFjIGCAAQHhAWOgcIABBHELADOgQIABATOggIABAeEBYQEzoICAAQHhAWEApKBAhBGABKBAhGGABQ8gVYvx1g-iNoAXABeACAAYoBiAHgCZIBBDAuMTCYAQCgAQHIAQjAAQE&sclient=gws-wiz\n",
    "\n",
    "def factorial(n):\n",
    "    if n == 0 or n == 1:\n",
    "        return 1\n",
    "    else:\n",
    "        return n*factorial(n-1)\n",
    "    \n",
    "    pass"
   ]
  },
  {
   "cell_type": "code",
   "execution_count": null,
   "metadata": {},
   "outputs": [],
   "source": [
    "##-----------------------------------------------\n",
    "##-----------------------------------------------\n",
    "##-----------------------------------------------\n",
    "##-----------------------------------------------"
   ]
  },
  {
   "cell_type": "code",
   "execution_count": null,
   "metadata": {},
   "outputs": [],
   "source": [
    "##-----------------------------------------------\n",
    "##--(ENDESA Ninja -- training session)-----------\n",
    "##-----------------------------------------------\n",
    "## 7 kyu\n",
    "## Ones and Zeros\n",
    "## inicio (2022-08-17)\n",
    "## DONE   (2022-08-17)\n",
    "##-----------------------------------------------\n",
    "##-----------------------------------------------"
   ]
  },
  {
   "cell_type": "code",
   "execution_count": 249,
   "metadata": {},
   "outputs": [],
   "source": [
    "def binary_array_to_number(arr):\n",
    "    s = 0\n",
    "    c = len(arr)-1\n",
    "    \n",
    "    for i in arr:\n",
    "        s = s + (2**c) * i\n",
    "        #print (c, i, s)\n",
    "        c -= 1\n",
    "    return s"
   ]
  },
  {
   "cell_type": "code",
   "execution_count": 250,
   "metadata": {},
   "outputs": [
    {
     "name": "stdout",
     "output_type": "stream",
     "text": [
      "3 1 8\n",
      "2 1 12\n",
      "1 1 14\n",
      "0 1 15\n",
      "15\n"
     ]
    }
   ],
   "source": [
    "arr = [1, 1, 1, 1]\n",
    "print (binary_array_to_number(arr))"
   ]
  },
  {
   "cell_type": "code",
   "execution_count": null,
   "metadata": {},
   "outputs": [],
   "source": [
    "##-----------------------------------------------\n",
    "##-----------------------------------------------\n",
    "##-----------------------------------------------\n",
    "##-----------------------------------------------"
   ]
  },
  {
   "cell_type": "code",
   "execution_count": null,
   "metadata": {},
   "outputs": [],
   "source": [
    "##-----------------------------------------------\n",
    "##--(ENDESA Ninja -- training session)-----------\n",
    "##-----------------------------------------------\n",
    "## 7 kyu\n",
    "## Don't give me five!\n",
    "## inicio \n",
    "## DONE   \n",
    "##-----------------------------------------------\n",
    "##-----------------------------------------------"
   ]
  },
  {
   "cell_type": "code",
   "execution_count": null,
   "metadata": {},
   "outputs": [],
   "source": [
    "def dont_give_me_five(start, end):\n",
    "    # count the numbers from start to end that don't contain the digit 5\n",
    "    a = start\n",
    "    b = end\n",
    "    \n",
    "    if a == b:\n",
    "        return 0\n",
    "    else:\n",
    "        c = lambda a,b:sum(not '5' in str(n) for n in range(a,b+1))\n",
    "        return (c(start, end))"
   ]
  },
  {
   "cell_type": "code",
   "execution_count": null,
   "metadata": {},
   "outputs": [],
   "source": [
    "result= dont_give_me_five(-5, 4)\n",
    "print (result)"
   ]
  },
  {
   "cell_type": "code",
   "execution_count": null,
   "metadata": {},
   "outputs": [],
   "source": [
    "##-----------------------------------------------\n",
    "##-----------------------------------------------\n",
    "##-----------------------------------------------\n",
    "##-----------------------------------------------"
   ]
  },
  {
   "cell_type": "code",
   "execution_count": null,
   "metadata": {},
   "outputs": [],
   "source": [
    "##-----------------------------------------------\n",
    "##--(ENDESA Ninja -- training session)-----------\n",
    "##-----------------------------------------------\n",
    "## 7 kyu\n",
    "## Coloured Triangles\n",
    "## inicio \n",
    "## DONE   \n",
    "##-----------------------------------------------\n",
    "##-----------------------------------------------"
   ]
  },
  {
   "cell_type": "code",
   "execution_count": null,
   "metadata": {},
   "outputs": [],
   "source": [
    "def triangle(row):\n",
    "    \n",
    "    cl = {'RR':'R','BB':'B','GG':'G','BG':'R','GB':'R','RG':'B','GR':'B','BR':'G','RB':'G'}\n",
    "    lf = ''\n",
    "    \n",
    "    if len(row) == 1:\n",
    "        lf = lf + row\n",
    "        return(lf)\n",
    "    if len(row) > 1:\n",
    "        x = 0\n",
    "        l_tmp = ''\n",
    "        while x + 1 < len(row):\n",
    "            ky = row[x] + row[x+1]\n",
    "            if ky in cl:\n",
    "                l_tmp = l_tmp + cl[ky]\n",
    "                x += 1\n",
    "        return triangle (l_tmp)\n",
    "    "
   ]
  },
  {
   "cell_type": "code",
   "execution_count": null,
   "metadata": {},
   "outputs": [],
   "source": [
    "s = 'GB'\n",
    "triangle (s)"
   ]
  },
  {
   "cell_type": "code",
   "execution_count": null,
   "metadata": {},
   "outputs": [],
   "source": [
    "s = 'RRR'\n",
    "triangle (s)"
   ]
  },
  {
   "cell_type": "code",
   "execution_count": null,
   "metadata": {},
   "outputs": [],
   "source": [
    "s = 'RGBG'\n",
    "triangle (s)"
   ]
  },
  {
   "cell_type": "code",
   "execution_count": null,
   "metadata": {},
   "outputs": [],
   "source": [
    "s = 'RBRGBRB'\n",
    "triangle (s)"
   ]
  },
  {
   "cell_type": "code",
   "execution_count": null,
   "metadata": {},
   "outputs": [],
   "source": [
    "s = 'RBRGBRBGGRRRBGBBBGG'\n",
    "triangle (s)"
   ]
  },
  {
   "cell_type": "code",
   "execution_count": null,
   "metadata": {},
   "outputs": [],
   "source": [
    "s = 'B'\n",
    "triangle (s)"
   ]
  },
  {
   "cell_type": "code",
   "execution_count": null,
   "metadata": {},
   "outputs": [],
   "source": [
    "##-----------------------------------------------\n",
    "##-----------------------------------------------\n",
    "##-----------------------------------------------\n",
    "##-----------------------------------------------"
   ]
  },
  {
   "cell_type": "code",
   "execution_count": null,
   "metadata": {},
   "outputs": [],
   "source": [
    "##-----------------------------------------------\n",
    "##--(ENDESA Ninja -- training session)-----------\n",
    "##-----------------------------------------------\n",
    "## 7 kyu\n",
    "## Shortest Word\n",
    "## inicio \n",
    "## DONE   \n",
    "##-----------------------------------------------\n",
    "##-----------------------------------------------"
   ]
  },
  {
   "cell_type": "code",
   "execution_count": null,
   "metadata": {},
   "outputs": [],
   "source": [
    "def find_short(s):\n",
    "    state = OUT\n",
    "    wc = 0\n",
    "    lg =[]\n",
    "    \n",
    "    for i in range(len(s)):\n",
    "        if  (string[i] == ' ' or string[i] == '\\n' or string[i] == '\\t'):\n",
    "            state = OUT\n",
    "            l.append(i)\n",
    "        elif state == OUT:\n",
    "            state = IN\n",
    "            wc += 1\n",
    "           \n",
    "    \n",
    "    lg.sort()\n",
    "    l = lg[0]\n",
    "    # your code here\n",
    "    return l # l: shortest word length"
   ]
  },
  {
   "cell_type": "code",
   "execution_count": null,
   "metadata": {},
   "outputs": [],
   "source": [
    "#find_short (\"bitcoin take over the world maybe who knows perhaps\")\n",
    "\n",
    "s1= \"bitcoin take over the world maybe who knows perhaps\"\n",
    "s= \"bitcoin take\"\n",
    "lw = 0\n",
    "lg = []\n",
    " \n",
    "    \n",
    "for i in range(len(s)):\n",
    "    if  (s[i] == ' ' or s[i] == '\\n' or s[i] == '\\t'):\n",
    "        \n",
    "        if len(lg) == 0:\n",
    "            lg.append(i)\n",
    "        else:          \n",
    "            print (lw)\n",
    "            j = i - lg[lw]\n",
    "            lg.append (j)\n",
    "            lw += 1\n",
    "            \n",
    "\n",
    "lg.sort()\n",
    "print (lg)\n",
    "l = lg[0]\n",
    "print(l)"
   ]
  },
  {
   "cell_type": "code",
   "execution_count": null,
   "metadata": {},
   "outputs": [],
   "source": [
    "s = \"bitcoin take\"\n",
    "_ss = s.split () \n",
    "lg = []\n",
    "    \n",
    "for x in _ss:\n",
    "    j = len(x)\n",
    "    lg.append (j)\n",
    "    \n",
    "lg.sort()\n",
    "print (lg)\n",
    "l = lg[0]\n",
    "print (l)"
   ]
  },
  {
   "cell_type": "code",
   "execution_count": null,
   "metadata": {},
   "outputs": [],
   "source": [
    "k = 1\n",
    "pf =[k]\n",
    "pf = pf + [k] + [bit ^ 1 for bit in pf[::-1]]\n",
    "print (pf)"
   ]
  },
  {
   "cell_type": "code",
   "execution_count": null,
   "metadata": {},
   "outputs": [],
   "source": [
    "arr = [1]\n",
    "for i in range(8):\n",
    "    arr = arr + [1] + [bit ^ 1 for bit in arr[::-1]]\n",
    "\n",
    "print(''.join([str(bit) for bit in arr]))"
   ]
  },
  {
   "cell_type": "code",
   "execution_count": null,
   "metadata": {},
   "outputs": [],
   "source": [
    " p = paper_fold()"
   ]
  },
  {
   "cell_type": "code",
   "execution_count": null,
   "metadata": {},
   "outputs": [],
   "source": [
    "seq_start = [1]\n",
    "seq_end = []\n",
    "z = 1\n",
    "\n",
    "n = int(input())\n",
    "\n",
    "for i in range(1, n+1):\n",
    "    z = 1\n",
    "    seq_start.reverse()\n",
    "    for j in range(1, 2**(i+1)):\n",
    "        if j % 2 != 0:\n",
    "            if z:\n",
    "                seq_end.append(z)\n",
    "                z = 0\n",
    "            else:\n",
    "                seq_end.append(z)\n",
    "                z = 1\n",
    "        else:\n",
    "            seq_end.append(seq_start.pop())\n",
    "    seq_start = seq_end\n",
    "    seq_end = []\n",
    "\n",
    "print(seq_start)"
   ]
  },
  {
   "cell_type": "code",
   "execution_count": null,
   "metadata": {},
   "outputs": [],
   "source": [
    "##-----------------------------------------------\n",
    "##-----------------------------------------------\n",
    "##-----------------------------------------------\n",
    "##-----------------------------------------------"
   ]
  },
  {
   "cell_type": "code",
   "execution_count": null,
   "metadata": {},
   "outputs": [],
   "source": [
    "##-----------------------------------------------\n",
    "##--(ENDESA Ninja -- training session)-----------\n",
    "##-----------------------------------------------\n",
    "## 7 kyu\n",
    "## Tidy Number (Special Numbers Series #9)\n",
    "## inicio (2022-09-18)\n",
    "## DONE   (2022-09-18)\n",
    "##-----------------------------------------------\n",
    "##-----------------------------------------------"
   ]
  },
  {
   "cell_type": "code",
   "execution_count": 11,
   "metadata": {},
   "outputs": [],
   "source": [
    "def tidyNumber(n):\n",
    "    nl =  list(str(n))\n",
    "    ch = -1\n",
    "    \n",
    "    for l in nl:\n",
    "        if int(l) >= int(ch):\n",
    "            ch = l\n",
    "        else: \n",
    "            return False\n",
    "                \n",
    "    return True\n",
    "    "
   ]
  },
  {
   "cell_type": "code",
   "execution_count": 12,
   "metadata": {},
   "outputs": [
    {
     "name": "stdout",
     "output_type": "stream",
     "text": [
      "True\n"
     ]
    }
   ],
   "source": [
    "print(tidyNumber(12))"
   ]
  },
  {
   "cell_type": "code",
   "execution_count": 13,
   "metadata": {},
   "outputs": [
    {
     "name": "stdout",
     "output_type": "stream",
     "text": [
      "False\n"
     ]
    }
   ],
   "source": [
    "print(tidyNumber(9672))"
   ]
  },
  {
   "cell_type": "code",
   "execution_count": null,
   "metadata": {},
   "outputs": [],
   "source": [
    "##-----------------------------------------------\n",
    "##-----------------------------------------------\n",
    "##-----------------------------------------------\n",
    "##-----------------------------------------------"
   ]
  },
  {
   "cell_type": "code",
   "execution_count": null,
   "metadata": {},
   "outputs": [],
   "source": [
    "##-----------------------------------------------\n",
    "##--(ENDESA Ninja -- training session)-----------\n",
    "##-----------------------------------------------\n",
    "## 7 kyu\n",
    "## Robinson Crusoe\n",
    "## inicio (2022-09-18)\n",
    "## DONE   (2022-09-18)\n",
    "##-----------------------------------------------\n",
    "##-----------------------------------------------"
   ]
  },
  {
   "cell_type": "code",
   "execution_count": 68,
   "metadata": {},
   "outputs": [],
   "source": [
    "import math\n",
    "\n",
    "def crusoe(n, d, ang, dist_mult, ang_mult):\n",
    "    x, y = 0, 0\n",
    "    \n",
    "    for nx in range (1,n+1):\n",
    "        x = x + d * math.cos(math.radians (ang))\n",
    "        y = y + d * math.sin(math.radians (ang))\n",
    "        d = d * dist_mult\n",
    "        ang = ang * ang_mult\n",
    "    \n",
    "    return [x,y]\n",
    "    # your code"
   ]
  },
  {
   "cell_type": "code",
   "execution_count": 69,
   "metadata": {},
   "outputs": [
    {
     "name": "stdout",
     "output_type": "stream",
     "text": [
      "[0.8306737544381833, 0.620694691344071]\n"
     ]
    }
   ],
   "source": [
    "print (crusoe(5, 0.2, 30, 1.02, 1.1))"
   ]
  },
  {
   "cell_type": "code",
   "execution_count": 51,
   "metadata": {},
   "outputs": [],
   "source": [
    "##-----------------------------------------------\n",
    "##-----------------------------------------------\n",
    "##-----------------------------------------------\n",
    "##-----------------------------------------------"
   ]
  },
  {
   "cell_type": "code",
   "execution_count": null,
   "metadata": {},
   "outputs": [],
   "source": []
  }
 ],
 "metadata": {
  "kernelspec": {
   "display_name": "Python 3",
   "language": "python",
   "name": "python3"
  },
  "language_info": {
   "codemirror_mode": {
    "name": "ipython",
    "version": 3
   },
   "file_extension": ".py",
   "mimetype": "text/x-python",
   "name": "python",
   "nbconvert_exporter": "python",
   "pygments_lexer": "ipython3",
   "version": "3.8.5"
  }
 },
 "nbformat": 4,
 "nbformat_minor": 4
}
