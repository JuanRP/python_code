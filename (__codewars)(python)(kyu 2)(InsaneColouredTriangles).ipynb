{
 "cells": [
  {
   "cell_type": "code",
   "execution_count": null,
   "metadata": {},
   "outputs": [],
   "source": [
    "## ===========================================\n",
    "## 2 kyu\n",
    "## Insane Coloured Triangles\n",
    "## inicio (2022-06-11)\n",
    "## DONE\n",
    "##\n",
    "## https://www.mundodeportivo.com/uncomo/educacion/articulo/como-sacar-el-area-del-rombo-37104.html\n",
    "## https://codegolf.stackexchange.com/questions/198987/intersection-of-circles-how-can-i-reduce-this-golf-code-to-127-bytes\n",
    "## ==========================================="
   ]
  },
  {
   "cell_type": "code",
   "execution_count": null,
   "metadata": {},
   "outputs": [],
   "source": [
    "########################\n",
    "## first version\n",
    "## OK\n",
    "########################\n",
    "\n",
    "def triangle(row):\n",
    "    \n",
    "    cl = {'RR':'R','BB':'B','GG':'G','BG':'R','GB':'R','RG':'B','GR':'B','BR':'G','RB':'G'}\n",
    "    lf = ''\n",
    "    \n",
    "    if len(row) == 1:\n",
    "        lf = lf + row\n",
    "        return(lf)\n",
    "    if len(row) > 1:\n",
    "        x = 0\n",
    "        l_tmp = ''\n",
    "        while x + 1 < len(row):\n",
    "            ky = row[x] + row[x+1]\n",
    "            if ky in cl:\n",
    "                l_tmp = l_tmp + cl[ky]\n",
    "                x += 1\n",
    "        print (l_tmp)\n",
    "        return triangle (l_tmp)"
   ]
  },
  {
   "cell_type": "code",
   "execution_count": null,
   "metadata": {},
   "outputs": [],
   "source": [
    "########################\n",
    "## second version\n",
    "## OK\n",
    "########################\n",
    "\n",
    "def fromS_toN (s):\n",
    "    s = s.replace ('R','0')\n",
    "    s = s.replace ('G','1')\n",
    "    s = s.replace ('B','2')\n",
    "    return s\n",
    "\n",
    "def fromN_toS (n):\n",
    "    ni = int(n)\n",
    "    return 'R' if ni == 0 else 'G' if ni == 1 else 'B'\n",
    "\n",
    "\n",
    "def triangle(row):\n",
    "    \n",
    "    num = fromS_toN(row)\n",
    "    \n",
    "    while len(num) > 1:\n",
    "        num = [ a if a == b else (3 - (int(a) + int(b))) for a, b in zip(num, num[1:])]\n",
    "        #print (num)\n",
    "    return fromN_toS(num[0])"
   ]
  },
  {
   "cell_type": "code",
   "execution_count": 119,
   "metadata": {},
   "outputs": [],
   "source": [
    "## Insane Coloured Triangles\n",
    "from time import process_time, process_time_ns\n",
    "\n",
    "def binomMd3(n, k):\n",
    "    # Compute the binomial coefficient C(n, k) modulo 3.\n",
    "    # It is assumed that 0 <= k <= n.\n",
    "    #The implementation uses Lucas's theorem, see for example\n",
    "    #https://en.wikipedia.org/wiki/Lucas%27s_theorem .\n",
    "    \n",
    "    out = 1\n",
    "    while n > 0:\n",
    "        nm, km = n % 3, k % 3\n",
    "        if km > nm:\n",
    "            return 0\n",
    "        tmp = 1 if km == 0 or km == nm else 2\n",
    "        out = (out * tmp) % 3\n",
    "        n, k = n // 3, k // 3\n",
    "    return out\n",
    "\n",
    "\n",
    "def fromC_toN (c):\n",
    "    return 0 if c == 'R' else 1 if c == 'G' else 2\n",
    "\n",
    "def fromN_toC (n):\n",
    "    ni = int(n)\n",
    "    return 'R' if ni == 0 else 'G' if ni == 1 else 'B'\n",
    "\n",
    "def triangle(row):\n",
    "    lg = len(row) - 1\n",
    "    out = 0\n",
    "    for k, cl in enumerate(row):\n",
    "        tmp = fromC_toN (cl)\n",
    "        if tmp != 0:\n",
    "            out = (out + tmp * binomMd3(lg, int(k)))\n",
    "    if lg % 2 == 1:\n",
    "        out = (- out)\n",
    "    return fromN_toC(out % 3)\n"
   ]
  },
  {
   "cell_type": "code",
   "execution_count": 120,
   "metadata": {},
   "outputs": [
    {
     "name": "stdout",
     "output_type": "stream",
     "text": [
      "B B\n",
      "GB R\n",
      "RRR R\n",
      "RGBG B\n",
      "RBRGBRB G\n",
      "RBRGBRBGGRRRBGBBBGGB G\n",
      "Elapsed time: 4250000000 4234375000\n",
      "Elapsed time during the whole program in nanoseconds: 15625000\n"
     ]
    }
   ],
   "source": [
    "# Start the stopwatch / counter \n",
    "t1_start = process_time_ns() \n",
    "\n",
    "s = 'B'\n",
    "print (s,triangle(s))\n",
    "\n",
    "s = 'GB'\n",
    "print (s,triangle(s))\n",
    "\n",
    "s = 'RRR'\n",
    "print (s,triangle(s))\n",
    "\n",
    "s = 'RGBG'\n",
    "print (s,triangle(s))\n",
    "\n",
    "s = 'RBRGBRB'\n",
    "print (s,triangle(s))\n",
    "\n",
    "s = 'RBRGBRBGGRRRBGBBBGGB'\n",
    "print (s,triangle(s))\n",
    "\n",
    "# Stop the stopwatch / counter\n",
    "t1_stop = process_time_ns()\n",
    "print(\"Elapsed time:\", t1_stop, t1_start) \n",
    "print(\"Elapsed time during the whole program in nanoseconds:\", t1_stop-t1_start) "
   ]
  },
  {
   "cell_type": "code",
   "execution_count": null,
   "metadata": {},
   "outputs": [],
   "source": [
    "##-----------------------------------------------\n",
    "##-----------------------------------------------\n",
    "##-----------------------------------------------\n",
    "##-----------------------------------------------"
   ]
  }
 ],
 "metadata": {
  "kernelspec": {
   "display_name": "Python 3",
   "language": "python",
   "name": "python3"
  },
  "language_info": {
   "codemirror_mode": {
    "name": "ipython",
    "version": 3
   },
   "file_extension": ".py",
   "mimetype": "text/x-python",
   "name": "python",
   "nbconvert_exporter": "python",
   "pygments_lexer": "ipython3",
   "version": "3.8.5"
  }
 },
 "nbformat": 4,
 "nbformat_minor": 4
}
