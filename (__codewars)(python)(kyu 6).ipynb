{
 "cells": [
  {
   "cell_type": "code",
   "execution_count": null,
   "metadata": {},
   "outputs": [],
   "source": [
    "##-----------------------------------------------\n",
    "##-----------------------------------------------\n",
    "## 6 kyu\n",
    "## Convert integer to Whitespace format# Unique In Order\n",
    "## inicio (2022-10-10)\n",
    "## DONE   (2022-10-10)\n",
    "##\n",
    "##-----------------------------------------------\n",
    "##-----------------------------------------------"
   ]
  },
  {
   "cell_type": "code",
   "execution_count": 237,
   "metadata": {},
   "outputs": [],
   "source": [
    "def whitespace_number(n):\n",
    "    \n",
    "    fc = ' '\n",
    "    if n == 0:\n",
    "        out = fc + '\\n'\n",
    "        return out\n",
    "        #return  out.replace(' ', '[space]').replace('\\\\t', '[tab]').replace('\\\\n', '[LF]')\n",
    "    \n",
    "    else:\n",
    "        tmp = format(n, \"b\")\n",
    "        if tmp [0] == '-':\n",
    "            fc = '\\t'\n",
    "        mc = ''\n",
    "\n",
    "    \n",
    "        for l in tmp:\n",
    "            if l == '0':\n",
    "                mc = mc + ' '\n",
    "            if l == '1':\n",
    "                mc = mc + '\\t'\n",
    "      \n",
    "        out = fc + mc + '\\n'\n",
    "        return out\n",
    "        #return out.replace(' ', '[space]').replace('\\\\t', '[tab]').replace('\\\\n', '[LF]')"
   ]
  },
  {
   "cell_type": "code",
   "execution_count": 238,
   "metadata": {},
   "outputs": [
    {
     "name": "stdout",
     "output_type": "stream",
     "text": [
      " \t\n",
      "\n"
     ]
    }
   ],
   "source": [
    "print (whitespace_number(1))\n",
    "# \" \\t\\n\""
   ]
  },
  {
   "cell_type": "code",
   "execution_count": 226,
   "metadata": {},
   "outputs": [
    {
     "name": "stdout",
     "output_type": "stream",
     "text": [
      " \\n\n"
     ]
    }
   ],
   "source": [
    "print (whitespace_number(0))\n",
    "# \" \\n\""
   ]
  },
  {
   "cell_type": "code",
   "execution_count": 227,
   "metadata": {},
   "outputs": [
    {
     "name": "stdout",
     "output_type": "stream",
     "text": [
      "\\t\\t\\n\n"
     ]
    }
   ],
   "source": [
    "print (whitespace_number(-1))\n",
    "# \"\\t\\t\\n\""
   ]
  },
  {
   "cell_type": "code",
   "execution_count": 228,
   "metadata": {},
   "outputs": [
    {
     "name": "stdout",
     "output_type": "stream",
     "text": [
      " \\t \\n\n"
     ]
    }
   ],
   "source": [
    "print (whitespace_number(2))\n",
    "# \" \\t \\n\""
   ]
  },
  {
   "cell_type": "code",
   "execution_count": 229,
   "metadata": {},
   "outputs": [
    {
     "name": "stdout",
     "output_type": "stream",
     "text": [
      "\\t\\t\\t\\n\n"
     ]
    }
   ],
   "source": [
    "print (whitespace_number(-3))\n",
    "# \"\\t\\t\\t\\n\""
   ]
  },
  {
   "cell_type": "code",
   "execution_count": 230,
   "metadata": {},
   "outputs": [
    {
     "name": "stdout",
     "output_type": "stream",
     "text": [
      "\\t\\t \\t \\t\\n\n"
     ]
    }
   ],
   "source": [
    "print (whitespace_number(-21))\n",
    "# \"\\t\\t\\t\\n\""
   ]
  },
  {
   "cell_type": "code",
   "execution_count": null,
   "metadata": {},
   "outputs": [],
   "source": [
    "##-----------------------------------------------\n",
    "##-----------------------------------------------\n",
    "##-----------------------------------------------\n",
    "##-----------------------------------------------"
   ]
  },
  {
   "cell_type": "code",
   "execution_count": null,
   "metadata": {},
   "outputs": [],
   "source": [
    "##-----------------------------------------------\n",
    "##-----------------------------------------------\n",
    "## 6 kyu\n",
    "## Unique In Order\n",
    "## inicio (2022-10-10)\n",
    "## DONE   (2022-10-10)\n",
    "##\n",
    "##-----------------------------------------------\n",
    "##-----------------------------------------------"
   ]
  },
  {
   "cell_type": "code",
   "execution_count": 126,
   "metadata": {},
   "outputs": [],
   "source": [
    "def est_subsets(arr):\n",
    "    \n",
    "    def factorial(n):\n",
    "        if n == 0 or n == 1:\n",
    "            return 1\n",
    "        else:\n",
    "            return n*factorial(n-1)\n",
    "        pass\n",
    "\n",
    "    Unique = list(set(arr))\n",
    "    m = len (Unique)\n",
    "    \n",
    "    f1 = factorial (m)\n",
    "    s = 0\n",
    "    \n",
    "    for n in range (m):\n",
    "        s += (f1 // ((factorial (n) * factorial (m-n)))) \n",
    "    \n",
    "    return int(s)"
   ]
  },
  {
   "cell_type": "code",
   "execution_count": 127,
   "metadata": {},
   "outputs": [
    {
     "name": "stdout",
     "output_type": "stream",
     "text": [
      "15\n"
     ]
    }
   ],
   "source": [
    "arr = [1, 2, 3, 4]\n",
    "print (est_subsets(arr))\n",
    "#15"
   ]
  },
  {
   "cell_type": "code",
   "execution_count": 128,
   "metadata": {},
   "outputs": [
    {
     "name": "stdout",
     "output_type": "stream",
     "text": [
      "15\n"
     ]
    }
   ],
   "source": [
    "arr = ['a', 'b', 'c', 'd', 'd']\n",
    "print (est_subsets(arr))\n",
    "#15"
   ]
  },
  {
   "cell_type": "code",
   "execution_count": 129,
   "metadata": {},
   "outputs": [
    {
     "name": "stdout",
     "output_type": "stream",
     "text": [
      "127\n"
     ]
    }
   ],
   "source": [
    "arr = [2, 3, 4, 5, 5, 6, 6, 7, 8, 8]\n",
    "print (est_subsets(arr))\n",
    "#127"
   ]
  },
  {
   "cell_type": "code",
   "execution_count": 130,
   "metadata": {},
   "outputs": [
    {
     "name": "stdout",
     "output_type": "stream",
     "text": [
      "511\n"
     ]
    }
   ],
   "source": [
    "arr = ['a', 'z', 'z', 'z', 'b', 'j', 'f', 'k', 'b', 'd', 'j', 'j', 'n', 'm', 'm']\n",
    "print (est_subsets(arr))\n",
    "#511"
   ]
  },
  {
   "cell_type": "code",
   "execution_count": 121,
   "metadata": {},
   "outputs": [
    {
     "name": "stdout",
     "output_type": "stream",
     "text": [
      "1\n"
     ]
    }
   ],
   "source": [
    "arr = [1] * 8\n",
    "print (est_subsets(arr))\n",
    "#1"
   ]
  },
  {
   "cell_type": "code",
   "execution_count": 125,
   "metadata": {},
   "outputs": [
    {
     "name": "stdout",
     "output_type": "stream",
     "text": [
      "0\n"
     ]
    }
   ],
   "source": [
    "arr = []\n",
    "print (est_subsets(arr))\n",
    "#0"
   ]
  },
  {
   "cell_type": "code",
   "execution_count": null,
   "metadata": {},
   "outputs": [],
   "source": [
    "##-----------------------------------------------\n",
    "##-----------------------------------------------\n",
    "##-----------------------------------------------\n",
    "##-----------------------------------------------"
   ]
  },
  {
   "cell_type": "code",
   "execution_count": null,
   "metadata": {},
   "outputs": [],
   "source": [
    "##-----------------------------------------------\n",
    "##-----------------------------------------------\n",
    "## 6 kyu\n",
    "## Unique In Order\n",
    "## inicio (2022-10-10)\n",
    "## DONE   (2022-10-10)\n",
    "##\n",
    "##-----------------------------------------------\n",
    "##-----------------------------------------------"
   ]
  },
  {
   "cell_type": "code",
   "execution_count": 101,
   "metadata": {},
   "outputs": [],
   "source": [
    "def unique_in_order(iterable):\n",
    "    \n",
    "    out2 = []\n",
    "    \n",
    "    if len (iterable) > 0:\n",
    "        out = str(iterable[0])\n",
    "        a = str(iterable[0])\n",
    "    \n",
    "        for l in iterable:\n",
    "            if a != str(l):\n",
    "                out += str(l)\n",
    "                a = str(l)\n",
    "        \n",
    "        if type(iterable[0]).__name__ == 'int':\n",
    "            out2 = list(map(int,out))\n",
    "        else:\n",
    "            out2 = list(out)\n",
    "    return out2\n"
   ]
  },
  {
   "cell_type": "code",
   "execution_count": 102,
   "metadata": {},
   "outputs": [
    {
     "name": "stdout",
     "output_type": "stream",
     "text": [
      "['A', 'B', 'C', 'D', 'A', 'B']\n"
     ]
    }
   ],
   "source": [
    "print (unique_in_order('AAAABBBCCDAABBB'))\n",
    "#['A', 'B', 'C', 'D', 'A', 'B']       "
   ]
  },
  {
   "cell_type": "code",
   "execution_count": 103,
   "metadata": {},
   "outputs": [
    {
     "name": "stdout",
     "output_type": "stream",
     "text": [
      "['A', 'B', 'C', 'c', 'A', 'D']\n"
     ]
    }
   ],
   "source": [
    "print (unique_in_order('ABBCcAD'))\n",
    "#['A', 'B', 'C', 'c', 'A', 'D'] "
   ]
  },
  {
   "cell_type": "code",
   "execution_count": 104,
   "metadata": {},
   "outputs": [
    {
     "name": "stdout",
     "output_type": "stream",
     "text": [
      "[1, 2, 3]\n"
     ]
    }
   ],
   "source": [
    "print (unique_in_order([1,2,2,3,3]))\n",
    "#[1,2,3]"
   ]
  },
  {
   "cell_type": "code",
   "execution_count": null,
   "metadata": {},
   "outputs": [],
   "source": [
    "##-----------------------------------------------\n",
    "##-----------------------------------------------\n",
    "##-----------------------------------------------\n",
    "##-----------------------------------------------"
   ]
  },
  {
   "cell_type": "code",
   "execution_count": null,
   "metadata": {},
   "outputs": [],
   "source": [
    "##-----------------------------------------------\n",
    "##-----------------------------------------------\n",
    "## 6 kyu\n",
    "## Decode the Morse code\n",
    "## inicio (2022-10-10)\n",
    "## DONE   (2022-10-10)\n",
    "##\n",
    "##-----------------------------------------------\n",
    "##-----------------------------------------------"
   ]
  },
  {
   "cell_type": "code",
   "execution_count": 65,
   "metadata": {},
   "outputs": [],
   "source": [
    "def decode_morse(morse_code):\n",
    "    # ToDo: Accept dots, dashes and spaces, return human-readable message\n",
    "    MorseCode_D = {'SOS':'...---...', 'A':'.-',  'B':'-...', 'C':'-.-.', 'D':'-..',  'E':'.',    'F':'..-.',\n",
    "                   'G':'--.', 'H':'....', 'I':'..',   'J':'.---', 'K':'-.-',  'L':'.-..',\n",
    "                   'M':'--',  'N':'-.',   'O':'---',  'P':'.--.', 'Q':'--.-', 'R':'.-.',\n",
    "                   'S':'...', 'T':'-',    'U':'..-',  'V':'...-', 'W':'.--',  'X':'-..-', 'Y':'-.--', 'Z':'--..',\n",
    "                   '1':'.----', '2':'..---', '3':'...--', '4':'....-', '5':'.....', '6':'-....',\n",
    "                   '7':'--...', '8':'---..', '9':'----.', '0':'-----',\n",
    "                   ', ':'--..--', '.':'.-.-.-', '?':'..--..', '/':'-..-.', '-':'-....-', '(':'-.--.', ')':'-.--.-',\n",
    "                   '!':'-.-.--'}\n",
    "    \n",
    "  \n",
    "    morse_code = morse_code.strip ()\n",
    "    morse_code += ' '\n",
    "    print (morse_code)\n",
    "    dtxt = ''\n",
    "    ctmp = ''\n",
    "    \n",
    "    for l in morse_code:\n",
    "        #print (l)\n",
    "        if (l != ' '):             # checks for space\n",
    "            v = 0                  # counter to keep track of space\n",
    "            ctmp += l              # storing morse code of a single character\n",
    " \n",
    "        else:                      # in case of space\n",
    "            v += 1                 # if v = 1 that indicates a new character\n",
    "            if v == 1:\n",
    "                # accessing the keys using their values (reverse of encryption)\n",
    "                #print ('v:',v,' ctmp:', ctmp)\n",
    "                dtxt += list(MorseCode_D.keys())[list(MorseCode_D.values()).index(ctmp)]\n",
    "                #print ('v:', v, ' ctmp:', ctmp,' dtxt:',dtxt)\n",
    "                ctmp = ''\n",
    "            if v == 3 :            # if v = 2 that indicates a new word\n",
    "                dtxt += ' '        # adding space to separate words\n",
    "    return dtxt\n",
    "    \n",
    "    \n",
    "    #return morse_code.replace('.', MORSE_CODE['.']).replace('-', MORSE_CODE['-']).replace(' ', '')"
   ]
  },
  {
   "cell_type": "code",
   "execution_count": 66,
   "metadata": {},
   "outputs": [
    {
     "name": "stdout",
     "output_type": "stream",
     "text": [
      ".... . -.--   .--- ..- -.. . \n",
      "HEY JUDE\n"
     ]
    }
   ],
   "source": [
    "print (decode_morse('.... . -.--   .--- ..- -.. .'))\n",
    "# HEY JUDE"
   ]
  },
  {
   "cell_type": "code",
   "execution_count": 67,
   "metadata": {},
   "outputs": [
    {
     "name": "stdout",
     "output_type": "stream",
     "text": [
      "...---... \n",
      "SOS\n"
     ]
    }
   ],
   "source": [
    "print (decode_morse('...---...'))\n",
    "# SOS"
   ]
  },
  {
   "cell_type": "code",
   "execution_count": 68,
   "metadata": {},
   "outputs": [
    {
     "name": "stdout",
     "output_type": "stream",
     "text": [
      ". \n",
      "E\n"
     ]
    }
   ],
   "source": [
    "print (decode_morse(' . '))\n",
    "# E"
   ]
  },
  {
   "cell_type": "code",
   "execution_count": 69,
   "metadata": {},
   "outputs": [
    {
     "name": "stdout",
     "output_type": "stream",
     "text": [
      ".   . \n",
      "E E\n"
     ]
    }
   ],
   "source": [
    "print (decode_morse('   .   . '))\n",
    "# E"
   ]
  },
  {
   "cell_type": "code",
   "execution_count": 70,
   "metadata": {},
   "outputs": [
    {
     "name": "stdout",
     "output_type": "stream",
     "text": [
      "...---... -.-.--   - .... .   --.- ..- .. -.-. -.-   -... .-. --- .-- -.   ..-. --- -..-   .--- ..- -- .--. ...   --- ...- . .-.   - .... .   .-.. .- --.. -.--   -.. --- --. .-.-.- \n",
      "SOS! THE QUICK BROWN FOX JUMPS OVER THE LAZY DOG.\n"
     ]
    }
   ],
   "source": [
    "print (decode_morse('      ...---... -.-.--   - .... .   --.- ..- .. -.-. -.-   -... .-. --- .-- -.   ..-. --- -..-   .--- ..- -- .--. ...   --- ...- . .-.   - .... .   .-.. .- --.. -.--   -.. --- --. .-.-.-  '))\n",
    "# 'SOS! THE QUICK BROWN FOX JUMPS OVER THE LAZY DOG.')"
   ]
  },
  {
   "cell_type": "code",
   "execution_count": 45,
   "metadata": {},
   "outputs": [],
   "source": [
    "###===================================================================\n",
    "### https://www.geeksforgeeks.org/morse-code-translator-python/\n",
    "###===================================================================\n",
    "def decrypt(message):\n",
    " \n",
    "    # extra space added at the end to access the last morse code\n",
    "    message += ' '\n",
    "    decipher = ''\n",
    "    citext = ''\n",
    "    \n",
    "    for letter in message:\n",
    "         # checks for space\n",
    "        if (letter != ' '):\n",
    "            # counter to keep track of space\n",
    "            i = 0\n",
    " \n",
    "            # storing morse code of a single character\n",
    "            citext += letter\n",
    " \n",
    "        # in case of space\n",
    "        else:\n",
    "            # if i = 1 that indicates a new character\n",
    "            i += 1\n",
    " \n",
    "            # if i = 2 that indicates a new word\n",
    "            if i == 2 :\n",
    " \n",
    "                 # adding space to separate words\n",
    "                decipher += ' '\n",
    "            else:\n",
    " \n",
    "                # accessing the keys using their values (reverse of encryption)\n",
    "                decipher += list(MORSE_CODE_DICT.keys())[list(MORSE_CODE_DICT\n",
    "                .values()).index(citext)]\n",
    "                citext = ''\n",
    " \n",
    "    return decipher"
   ]
  },
  {
   "cell_type": "code",
   "execution_count": null,
   "metadata": {},
   "outputs": [],
   "source": []
  },
  {
   "cell_type": "code",
   "execution_count": null,
   "metadata": {},
   "outputs": [],
   "source": [
    "\n",
    " \n",
    "# Function to encrypt the string\n",
    "# according to the morse code chart\n",
    "def encrypt(message):\n",
    "    \n",
    "    MorseCode_D = { 'A':'.-', 'B':'-...', 'C':'-.-.', 'D':'-..', 'E':'.', 'F':'..-.',\n",
    "                'G':'--.', 'H':'....', 'I':'..', 'J':'.---', 'K':'-.-', 'L':'.-..',\n",
    "                'M':'--', 'N':'-.', 'O':'---', 'P':'.--.', 'Q':'--.-', 'R':'.-.',\n",
    "                'S':'...', 'T':'-', 'U':'..-', 'V':'...-', 'W':'.--', 'X':'-..-', 'Y':'-.--', 'Z':'--..',\n",
    "                '1':'.----', '2':'..---', '3':'...--', '4':'....-', '5':'.....', '6':'-....',\n",
    "                '7':'--...', '8':'---..', '9':'----.', '0':'-----',\n",
    "                ', ':'--..--', '.':'.-.-.-', '?':'..--..', '/':'-..-.', '-':'-....-', '(':'-.--.', ')':'-.--.-'}\n",
    "    cipher = ''\n",
    "    for letter in message:\n",
    "        if letter != ' ':\n",
    " \n",
    "            # Looks up the dictionary and adds the\n",
    "            # corresponding morse code\n",
    "            # along with a space to separate\n",
    "            # morse codes for different characters\n",
    "            cipher += MorseCode_D[letter] + ' '\n",
    "        else:\n",
    "            # 1 space indicates different characters\n",
    "            # and 2 indicates different words\n",
    "            cipher += ' '\n",
    " \n",
    "    return cipher"
   ]
  },
  {
   "cell_type": "code",
   "execution_count": null,
   "metadata": {},
   "outputs": [],
   "source": [
    "##-----------------------------------------------\n",
    "##-----------------------------------------------\n",
    "##-----------------------------------------------\n",
    "##-----------------------------------------------"
   ]
  },
  {
   "cell_type": "code",
   "execution_count": null,
   "metadata": {},
   "outputs": [],
   "source": [
    "##-----------------------------------------------\n",
    "##-----------------------------------------------\n",
    "## 6 kyu\n",
    "## Take a Ten Minutes Walk\n",
    "## inicio (2022-09-30)\n",
    "## DONE   (2022-09-30)\n",
    "##\n",
    "##-----------------------------------------------\n",
    "##-----------------------------------------------"
   ]
  },
  {
   "cell_type": "code",
   "execution_count": null,
   "metadata": {},
   "outputs": [],
   "source": [
    "def is_valid_walk(walk):\n",
    "    #determine if walk is valid\n",
    "    \n",
    "    x = 0\n",
    "    y = 0\n",
    "    \n",
    "    for w in walk:\n",
    "        print (w,x,y)\n",
    "        match w:\n",
    "            case 'n': x = x+1\n",
    "            case 's': x = x-1 \n",
    "            case 'e': y = y+1 \n",
    "            case 'w': y = y-1 \n",
    "        \n",
    "    \n",
    "    if (len(walk) == 10) and (x == 0 and y == 0):\n",
    "        return True\n",
    "    else :\n",
    "        return False\n",
    "    pass"
   ]
  },
  {
   "cell_type": "code",
   "execution_count": null,
   "metadata": {},
   "outputs": [],
   "source": [
    "##-----------------------------------------------\n",
    "##-----------------------------------------------\n",
    "##-----------------------------------------------\n",
    "##-----------------------------------------------"
   ]
  },
  {
   "cell_type": "code",
   "execution_count": 1,
   "metadata": {},
   "outputs": [],
   "source": [
    "##-----------------------------------------------\n",
    "##-----------------------------------------------\n",
    "## 6 kyu\n",
    "## ASCII Sierpiński Carpet\n",
    "## inicio (2022-09-22)\n",
    "## DONE   (2022-09-22)\n",
    "##\n",
    "## https://www.youtube.com/watch?v=-k3AK02JQlI\n",
    "## https://en.wikipedia.org/wiki/Sierpi%C5%84ski_carpet\n",
    "##-----------------------------------------------\n",
    "##-----------------------------------------------"
   ]
  },
  {
   "cell_type": "code",
   "execution_count": 23,
   "metadata": {},
   "outputs": [],
   "source": [
    "def sierpinski_carpet_string(n):    \n",
    "    mk = [\"██\"]\n",
    "    cont = 1\n",
    "    while cont <= n:\n",
    "        m1 = [3*b for b in mk]\n",
    "        mk = m1 + [b+b.replace(\"█\", \" \") + b for b in mk] + m1\n",
    "        cont += 1\n",
    "    return (\"\\n\".join(mk))"
   ]
  },
  {
   "cell_type": "code",
   "execution_count": 24,
   "metadata": {},
   "outputs": [
    {
     "name": "stdout",
     "output_type": "stream",
     "text": [
      "██████████████████████████████████████████████████████\n",
      "██  ████  ████  ████  ████  ████  ████  ████  ████  ██\n",
      "██████████████████████████████████████████████████████\n",
      "██████      ████████████      ████████████      ██████\n",
      "██  ██      ██  ████  ██      ██  ████  ██      ██  ██\n",
      "██████      ████████████      ████████████      ██████\n",
      "██████████████████████████████████████████████████████\n",
      "██  ████  ████  ████  ████  ████  ████  ████  ████  ██\n",
      "██████████████████████████████████████████████████████\n",
      "██████████████████                  ██████████████████\n",
      "██  ████  ████  ██                  ██  ████  ████  ██\n",
      "██████████████████                  ██████████████████\n",
      "██████      ██████                  ██████      ██████\n",
      "██  ██      ██  ██                  ██  ██      ██  ██\n",
      "██████      ██████                  ██████      ██████\n",
      "██████████████████                  ██████████████████\n",
      "██  ████  ████  ██                  ██  ████  ████  ██\n",
      "██████████████████                  ██████████████████\n",
      "██████████████████████████████████████████████████████\n",
      "██  ████  ████  ████  ████  ████  ████  ████  ████  ██\n",
      "██████████████████████████████████████████████████████\n",
      "██████      ████████████      ████████████      ██████\n",
      "██  ██      ██  ████  ██      ██  ████  ██      ██  ██\n",
      "██████      ████████████      ████████████      ██████\n",
      "██████████████████████████████████████████████████████\n",
      "██  ████  ████  ████  ████  ████  ████  ████  ████  ██\n",
      "██████████████████████████████████████████████████████\n"
     ]
    }
   ],
   "source": [
    "print (sierpinski_carpet_string(3))"
   ]
  },
  {
   "cell_type": "code",
   "execution_count": null,
   "metadata": {},
   "outputs": [],
   "source": [
    "##-----------------------------------------------\n",
    "##-----------------------------------------------\n",
    "##-----------------------------------------------\n",
    "##-----------------------------------------------"
   ]
  },
  {
   "cell_type": "code",
   "execution_count": null,
   "metadata": {},
   "outputs": [],
   "source": [
    "##-----------------------------------------------\n",
    "##-----------------------------------------------\n",
    "## 6 kyu\n",
    "## Framed Reflection\n",
    "## inicio (2022-09-22)\n",
    "## DONE   (2022-09-22)\n",
    "##-----------------------------------------------\n",
    "##-----------------------------------------------"
   ]
  },
  {
   "cell_type": "code",
   "execution_count": 29,
   "metadata": {},
   "outputs": [],
   "source": [
    "def mirror(text):\n",
    "    \n",
    "    def freverse(x):\n",
    "        rx = x[::-1]\n",
    "        return rx\n",
    "    \n",
    "    \n",
    "    nl = text.split()\n",
    "    mx = 0\n",
    "    ltr = []\n",
    "    ltrf = []\n",
    "    \n",
    "    for n in nl:\n",
    "        lg = len(n) \n",
    "        if lg > mx:\n",
    "            mx = lg\n",
    "        ltr.append (freverse(n))\n",
    "    \n",
    "    for tr in ltr:\n",
    "        sz = len(tr)\n",
    "        if sz < mx:\n",
    "            ltrf.append (\"* \" + tr + \" \" * (mx-sz) + \" *\\n\")\n",
    "        else:\n",
    "            ltrf.append(\"* \" + tr + \" *\\n\") \n",
    "    \n",
    "        \n",
    "    tx1 = \"**\" + \"*\" * mx + \"**\\n\"\n",
    "    tx2 = ''.join(map(str,ltrf))\n",
    "    tx3 =  \"**\" + \"*\" * mx + \"**\"\n",
    "    \n",
    "    return (tx1 + tx2 + tx3)"
   ]
  },
  {
   "cell_type": "code",
   "execution_count": 30,
   "metadata": {},
   "outputs": [
    {
     "name": "stdout",
     "output_type": "stream",
     "text": [
      "*********\n",
      "* olleH *\n",
      "* dlroW *\n",
      "*********\n"
     ]
    }
   ],
   "source": [
    "print (mirror(\"Hello World\"))"
   ]
  },
  {
   "cell_type": "code",
   "execution_count": 31,
   "metadata": {},
   "outputs": [
    {
     "name": "stdout",
     "output_type": "stream",
     "text": [
      "***********\n",
      "* Awesome *\n",
      "* Kata!   *\n",
      "***********\n"
     ]
    }
   ],
   "source": [
    "print (mirror(\"emosewA !ataK\"))"
   ]
  },
  {
   "cell_type": "code",
   "execution_count": null,
   "metadata": {},
   "outputs": [],
   "source": [
    "##-----------------------------------------------\n",
    "##-----------------------------------------------\n",
    "##-----------------------------------------------\n",
    "##-----------------------------------------------"
   ]
  },
  {
   "cell_type": "code",
   "execution_count": null,
   "metadata": {},
   "outputs": [],
   "source": [
    "##-----------------------------------------------\n",
    "##-----------------------------------------------\n",
    "## 6 kyu\n",
    "## Find the missing letter\n",
    "## inicio (2022-09-20)\n",
    "## DONE   (2022-09-20)\n",
    "##-----------------------------------------------\n",
    "##-----------------------------------------------"
   ]
  },
  {
   "cell_type": "code",
   "execution_count": 54,
   "metadata": {},
   "outputs": [],
   "source": [
    "def find_missing_letter(chars):\n",
    "    \n",
    "    rf = [\"a\",\"b\",\"c\",\"d\",\"e\",\"f\",\"g\",\"h\",\"i\",\"j\",\"k\",\"l\",\"m\",\"n\",\"o\",\"p\",\"q\",\"r\",\"s\",\"t\",\"u\",\"v\",\"w\",\"x\",\"y\",\"z\"]\n",
    "    flg = 0\n",
    "    \n",
    "    #if chars is \"upper case\" then transform to \"lower case\"\n",
    "    if chars[0].isupper():\n",
    "        flg = 1\n",
    "        c = list(map(str.lower,chars))\n",
    "    else:\n",
    "        c = chars\n",
    "    \n",
    "    subrf = rf[rf.index(c[0]):rf.index(c[len(chars)-1]) +1]\n",
    "    out = list(set(c) ^ set(subrf))\n",
    "    \n",
    "    if flg == 1:\n",
    "        out = list(map(str.upper,out))\n",
    "\n",
    "    return out[0]"
   ]
  },
  {
   "cell_type": "code",
   "execution_count": 55,
   "metadata": {},
   "outputs": [
    {
     "name": "stdout",
     "output_type": "stream",
     "text": [
      "e\n",
      "P\n"
     ]
    }
   ],
   "source": [
    "print(find_missing_letter(['a','b','c','d','f']))\n",
    "print(find_missing_letter(['O','Q','R','S']))"
   ]
  },
  {
   "cell_type": "code",
   "execution_count": null,
   "metadata": {},
   "outputs": [],
   "source": [
    "##-----------------------------------------------\n",
    "##-----------------------------------------------\n",
    "##-----------------------------------------------\n",
    "##-----------------------------------------------"
   ]
  },
  {
   "cell_type": "code",
   "execution_count": null,
   "metadata": {},
   "outputs": [],
   "source": [
    "##-----------------------------------------------\n",
    "##-----------------------------------------------\n",
    "## 6 kyu\n",
    "## Who likes it?\n",
    "## inicio (2022-08-18)\n",
    "## DONE   (2022-08-18)\n",
    "##-----------------------------------------------\n",
    "##-----------------------------------------------"
   ]
  },
  {
   "cell_type": "code",
   "execution_count": 8,
   "metadata": {},
   "outputs": [
    {
     "ename": "SyntaxError",
     "evalue": "invalid syntax (<ipython-input-8-b760aec82229>, line 8)",
     "output_type": "error",
     "traceback": [
      "\u001b[1;36m  File \u001b[1;32m\"<ipython-input-8-b760aec82229>\"\u001b[1;36m, line \u001b[1;32m8\u001b[0m\n\u001b[1;33m    match l:\u001b[0m\n\u001b[1;37m          ^\u001b[0m\n\u001b[1;31mSyntaxError\u001b[0m\u001b[1;31m:\u001b[0m invalid syntax\n"
     ]
    }
   ],
   "source": [
    "def likes(names):\n",
    "    # your code here\n",
    "    txt01 = 'no one'\n",
    "    txtR1 = ' likes this'\n",
    "    txtR2 = ' like this'\n",
    "    l = len (names)\n",
    "    \n",
    "    match l:\n",
    "        case 0: out = txt01 + txtR1\n",
    "        case 1: out = names[0] + txtR1\n",
    "        case 2: out = names[0] + ' and ' + names [1] + txtR2\n",
    "        case 3: out = names[0] + ', ' + names [1] + ' and ' + names [2] + txtR2\n",
    "        case other:  out = names[0] + ', ' + names [1] +  ' and ' + str(l-2) + ' others' + txtR2\n",
    "        \n",
    "    return out  \n",
    "    pass"
   ]
  },
  {
   "cell_type": "code",
   "execution_count": 6,
   "metadata": {},
   "outputs": [
    {
     "ename": "NameError",
     "evalue": "name 'likes' is not defined",
     "output_type": "error",
     "traceback": [
      "\u001b[1;31m---------------------------------------------------------------------------\u001b[0m",
      "\u001b[1;31mNameError\u001b[0m                                 Traceback (most recent call last)",
      "\u001b[1;32m<ipython-input-6-170ce9298520>\u001b[0m in \u001b[0;36m<module>\u001b[1;34m\u001b[0m\n\u001b[1;32m----> 1\u001b[1;33m \u001b[0mprint\u001b[0m \u001b[1;33m(\u001b[0m\u001b[0mlikes\u001b[0m\u001b[1;33m(\u001b[0m\u001b[1;33m[\u001b[0m\u001b[1;33m]\u001b[0m\u001b[1;33m)\u001b[0m\u001b[1;33m)\u001b[0m\u001b[1;33m\u001b[0m\u001b[1;33m\u001b[0m\u001b[0m\n\u001b[0m",
      "\u001b[1;31mNameError\u001b[0m: name 'likes' is not defined"
     ]
    }
   ],
   "source": [
    "print (likes([]))"
   ]
  },
  {
   "cell_type": "code",
   "execution_count": null,
   "metadata": {},
   "outputs": [],
   "source": [
    "print (likes(['Peter']))"
   ]
  },
  {
   "cell_type": "code",
   "execution_count": null,
   "metadata": {},
   "outputs": [],
   "source": [
    "print (likes(['Jacob', 'Alex']))"
   ]
  },
  {
   "cell_type": "code",
   "execution_count": null,
   "metadata": {},
   "outputs": [],
   "source": [
    "print (likes(['Max', 'John', 'Mark']))"
   ]
  },
  {
   "cell_type": "code",
   "execution_count": null,
   "metadata": {},
   "outputs": [],
   "source": [
    "print (likes(['Alex', 'Jacob', 'Mark', 'Max']))"
   ]
  },
  {
   "cell_type": "code",
   "execution_count": null,
   "metadata": {},
   "outputs": [],
   "source": [
    "##-----------------------------------------------\n",
    "##-----------------------------------------------\n",
    "##-----------------------------------------------\n",
    "##-----------------------------------------------"
   ]
  },
  {
   "cell_type": "code",
   "execution_count": null,
   "metadata": {},
   "outputs": [],
   "source": [
    "##-----------------------------------------------\n",
    "##-----------------------------------------------\n",
    "## 6 kyu\n",
    "## How many pages in a book?\n",
    "## inicio (2022-08-16)\n",
    "## DONE   (2022-08-16)\n",
    "##-----------------------------------------------\n",
    "##-----------------------------------------------"
   ]
  },
  {
   "cell_type": "code",
   "execution_count": 19,
   "metadata": {},
   "outputs": [],
   "source": [
    "def amount_of_pages(summary):\n",
    "    if summary == 0:\n",
    "        return None\n",
    "    \n",
    "    else:\n",
    "        val = 0\n",
    "        #l = list(range(1, summary + 1))\n",
    "        \n",
    "        for i in range (1, summary+1):\n",
    "            val = len(str(i)) + val\n",
    "            #print (val)\n",
    "            if val == summary:\n",
    "                return i"
   ]
  },
  {
   "cell_type": "code",
   "execution_count": 20,
   "metadata": {},
   "outputs": [
    {
     "name": "stdout",
     "output_type": "stream",
     "text": [
      "1\n",
      "2\n",
      "3\n",
      "4\n",
      "5\n",
      "6\n",
      "7\n",
      "8\n",
      "9\n",
      "11\n",
      "13\n",
      "15\n",
      "17\n",
      "19\n",
      "21\n",
      "23\n",
      "25\n",
      "17\n"
     ]
    }
   ],
   "source": [
    "print (amount_of_pages(25))"
   ]
  },
  {
   "cell_type": "code",
   "execution_count": null,
   "metadata": {},
   "outputs": [],
   "source": [
    "##-----------------------------------------------\n",
    "##-----------------------------------------------\n",
    "##-----------------------------------------------\n",
    "##-----------------------------------------------"
   ]
  },
  {
   "cell_type": "code",
   "execution_count": null,
   "metadata": {},
   "outputs": [],
   "source": [
    "##-----------------------------------------------\n",
    "##-----------------------------------------------\n",
    "## 6 kyu\n",
    "## Simple number triangle\n",
    "## inicio (2022-08-16)\n",
    "## DONE   (2022-08-18)\n",
    "##-----------------------------------------------\n",
    "##-----------------------------------------------"
   ]
  },
  {
   "cell_type": "code",
   "execution_count": 87,
   "metadata": {},
   "outputs": [],
   "source": [
    "# l0 = np.zeros(n, dtype=np.float64)\n",
    "# a = np.array(dtype=np.int64)\n",
    "# a = np.zeros(shape=(n,n), dtype=np.int64)\n",
    "# a.astype(float)\n",
    "# a = np.arange(n,n, dtype=np.float64) \n",
    "# b = np.int64 (sum (a[n-1,:]))"
   ]
  },
  {
   "cell_type": "code",
   "execution_count": null,
   "metadata": {},
   "outputs": [],
   "source": [
    "## n = 1   # 1 0  0   0    0    0     0      0     0     0       sum = 1\n",
    "## n = 2   # 1 1  0   0    0    0     0      0     0     0       sum = 2   \n",
    "## n = 3   # 1 2  2   0    0    0     0      0     0     0       sum = 5\n",
    "## n = 4   # 1 3  5   5    0    0     0      0     0     0       sum = 14\n",
    "## n = 5   # 1 4  9   14   14   0     0      0     0     0       sum = 42\n",
    "## n = 6   # 1 5  14  28   42   42    0      0     0     0       sum = 132\n",
    "## n = 7   # 1 6  20  48   90   132   132    0     0     0       sum = 429\n",
    "## n = 8   # 1 7  27  75   165  297   429    429   0     0       sum = 1430\n",
    "## n = 9   # 1 8  35  110  275  572   1001   1430  1430  0       sum = 4862 \n",
    "## n = 10  # 1 9  44  154  429  1001  2002   3432  4862  4862    sum = 16796\n"
   ]
  },
  {
   "cell_type": "code",
   "execution_count": 385,
   "metadata": {},
   "outputs": [],
   "source": [
    "# https://en.wikipedia.org/wiki/Catalan_number\n",
    "## RESUELTO OK\n",
    "# Catalan_number\n",
    "# The first Catalan numbers for n = 0, 1, 2, 3, ... are\n",
    "# 1, 1, 2, 5, 14, 42, 132, 429, 1430, 4862, 16796, 58786\n",
    "\n",
    "def solve(n):\n",
    "    \n",
    "    def factorial(f):\n",
    "        if f == 0 or f == 1:\n",
    "            return 1\n",
    "        else:\n",
    "            return f*factorial(f-1)\n",
    "    \n",
    "    a = factorial (2*(n))\n",
    "    b = factorial (n)\n",
    "    C = a // ((b**2)*(n+1))    # if you use / instead // float error appears \n",
    "    #print ('a: ', a, 'b: ', b, 'C: ', C)\n",
    "    \n",
    "    return C\n",
    "    pass"
   ]
  },
  {
   "cell_type": "code",
   "execution_count": 386,
   "metadata": {},
   "outputs": [
    {
     "name": "stdout",
     "output_type": "stream",
     "text": [
      "para n=5 ; 42\n",
      "para n=6 ; 132\n",
      "para n=8 ; 1430\n",
      "para n=10 ; 16796\n",
      "para n=1000;  2046105521468021692642519982997827217179245642339057975844538099572176010191891863964968026156453752449015750569428595097318163634370154637380666882886375203359653243390929717431080443509007504772912973142253209352126946839844796747697638537600100637918819326569730982083021538057087711176285777909275869648636874856805956580057673173655666887003493944650164153396910927037406301799052584663611016897272893305532116292143271037140718751625839812072682464343153792956281748582435751481498598087586998603921577523657477775758899987954012641033870640665444651660246024318184109046864244732001962029120\n"
     ]
    }
   ],
   "source": [
    "print('para n=5 ;',solve (5))\n",
    "print('para n=6 ;',solve (6))\n",
    "print('para n=8 ;',solve (8))\n",
    "print('para n=10 ;',solve (10))\n",
    "print('para n=1000; ', solve (1000))"
   ]
  },
  {
   "cell_type": "code",
   "execution_count": 358,
   "metadata": {},
   "outputs": [],
   "source": [
    "## funciona en CODEWARS pero da ERROR por el tiempo que consume\n",
    "import numpy as np\n",
    "def solve(n):\n",
    "    l0 = [0] * n\n",
    "    l1 = [0] * n\n",
    "    l0 [0] = 1\n",
    "    l1 [0] = 1\n",
    "    c = 1\n",
    "    \n",
    "    while c <= n:\n",
    "        for i in range (1, c):\n",
    "            l1[i] =  np.long (l1[i-1]) + np.long (l0[i])\n",
    "        print (l1)\n",
    "        l0 = list (l1)\n",
    "        l1 = [0] * n\n",
    "        l1 [0] = 1\n",
    "        c = c +1\n",
    "    return np.long(sum (l0))\n",
    "    pass"
   ]
  },
  {
   "cell_type": "code",
   "execution_count": 359,
   "metadata": {},
   "outputs": [
    {
     "name": "stderr",
     "output_type": "stream",
     "text": [
      "IOPub data rate exceeded.\n",
      "The notebook server will temporarily stop sending output\n",
      "to the client in order to avoid crashing it.\n",
      "To change this limit, set the config variable\n",
      "`--NotebookApp.iopub_data_rate_limit`.\n",
      "\n",
      "Current values:\n",
      "NotebookApp.iopub_data_rate_limit=1000000.0 (bytes/sec)\n",
      "NotebookApp.rate_limit_window=3.0 (secs)\n",
      "\n"
     ]
    }
   ],
   "source": [
    "print('para n=5 ;',solve (5))\n",
    "print('para n=6 ;',solve (6))\n",
    "print('para n=8 ;',solve (8))\n",
    "print('para n=10 ;',solve (8))\n",
    "print('para n=1000; ', solve (1000))"
   ]
  },
  {
   "cell_type": "code",
   "execution_count": 332,
   "metadata": {},
   "outputs": [],
   "source": [
    "## solve   (falla para numeros grandes)\n",
    "import numpy as np\n",
    "\n",
    "def solve(n):\n",
    "    a = numpy.zeros(shape=(n,n))\n",
    "    #a = np.zeros(shape=(n,n), dtype=np.long)\n",
    "    a[:,0] = 1\n",
    "    \n",
    "    for i in range (1, n):\n",
    "        for j in range (1, i+1):\n",
    "            #a[i,j] =  np.long (a[i-1,j] + a[i,j-1])                         ## RuntimeWarning: overflow encountered in double_scalars\n",
    "            a[i][j] = np.long (a[i-1][j] + a[i][j-1])                     ## RuntimeWarning: overflow encountered in double_scalars\n",
    "            #a[i][j] = np.long (a[i-1][j]) + np.long (a[i][j-1])            ## OverflowError: int too large to convert to float \n",
    "            #a[i][j] = np.long (np.long (a[i-1][j]) + np.long (a[i][j-1]))\n",
    "    \n",
    "    print (a)\n",
    "    b = sum (a[n-1,:])\n",
    "    b = np.long (sum (a[n-1,:]))\n",
    "    \n",
    "    return b\n",
    "    pass"
   ]
  },
  {
   "cell_type": "code",
   "execution_count": 336,
   "metadata": {},
   "outputs": [
    {
     "name": "stdout",
     "output_type": "stream",
     "text": [
      "[[ 1.  0.  0.  0.  0.]\n",
      " [ 1.  1.  0.  0.  0.]\n",
      " [ 1.  2.  2.  0.  0.]\n",
      " [ 1.  3.  5.  5.  0.]\n",
      " [ 1.  4.  9. 14. 14.]]\n",
      "para n=5 ; 42\n",
      "[[  1.   0.   0.   0.   0.   0.   0.   0.]\n",
      " [  1.   1.   0.   0.   0.   0.   0.   0.]\n",
      " [  1.   2.   2.   0.   0.   0.   0.   0.]\n",
      " [  1.   3.   5.   5.   0.   0.   0.   0.]\n",
      " [  1.   4.   9.  14.  14.   0.   0.   0.]\n",
      " [  1.   5.  14.  28.  42.  42.   0.   0.]\n",
      " [  1.   6.  20.  48.  90. 132. 132.   0.]\n",
      " [  1.   7.  27.  75. 165. 297. 429. 429.]]\n",
      "para n=8 ; 1430\n"
     ]
    },
    {
     "name": "stderr",
     "output_type": "stream",
     "text": [
      "<ipython-input-332-97e4859eaae9>:12: RuntimeWarning: overflow encountered in double_scalars\n",
      "  a[i][j] = np.long (a[i-1][j] + a[i][j-1])                     ## RuntimeWarning: overflow encountered in double_scalars\n"
     ]
    },
    {
     "ename": "OverflowError",
     "evalue": "cannot convert float infinity to integer",
     "output_type": "error",
     "traceback": [
      "\u001b[1;31m---------------------------------------------------------------------------\u001b[0m",
      "\u001b[1;31mOverflowError\u001b[0m                             Traceback (most recent call last)",
      "\u001b[1;32m<ipython-input-336-d67697a18ddd>\u001b[0m in \u001b[0;36m<module>\u001b[1;34m\u001b[0m\n\u001b[0;32m      1\u001b[0m \u001b[0mprint\u001b[0m\u001b[1;33m(\u001b[0m\u001b[1;34m'para n=5 ;'\u001b[0m\u001b[1;33m,\u001b[0m\u001b[0msolve\u001b[0m \u001b[1;33m(\u001b[0m\u001b[1;36m5\u001b[0m\u001b[1;33m)\u001b[0m\u001b[1;33m)\u001b[0m\u001b[1;33m\u001b[0m\u001b[1;33m\u001b[0m\u001b[0m\n\u001b[0;32m      2\u001b[0m \u001b[0mprint\u001b[0m\u001b[1;33m(\u001b[0m\u001b[1;34m'para n=8 ;'\u001b[0m\u001b[1;33m,\u001b[0m\u001b[0msolve\u001b[0m \u001b[1;33m(\u001b[0m\u001b[1;36m8\u001b[0m\u001b[1;33m)\u001b[0m\u001b[1;33m)\u001b[0m\u001b[1;33m\u001b[0m\u001b[1;33m\u001b[0m\u001b[0m\n\u001b[1;32m----> 3\u001b[1;33m \u001b[0mprint\u001b[0m\u001b[1;33m(\u001b[0m\u001b[1;34m'para n=1000; '\u001b[0m\u001b[1;33m,\u001b[0m \u001b[0msolve\u001b[0m \u001b[1;33m(\u001b[0m\u001b[1;36m1000\u001b[0m\u001b[1;33m)\u001b[0m\u001b[1;33m)\u001b[0m\u001b[1;33m\u001b[0m\u001b[1;33m\u001b[0m\u001b[0m\n\u001b[0m",
      "\u001b[1;32m<ipython-input-332-97e4859eaae9>\u001b[0m in \u001b[0;36msolve\u001b[1;34m(n)\u001b[0m\n\u001b[0;32m     10\u001b[0m         \u001b[1;32mfor\u001b[0m \u001b[0mj\u001b[0m \u001b[1;32min\u001b[0m \u001b[0mrange\u001b[0m \u001b[1;33m(\u001b[0m\u001b[1;36m1\u001b[0m\u001b[1;33m,\u001b[0m \u001b[0mi\u001b[0m\u001b[1;33m+\u001b[0m\u001b[1;36m1\u001b[0m\u001b[1;33m)\u001b[0m\u001b[1;33m:\u001b[0m\u001b[1;33m\u001b[0m\u001b[1;33m\u001b[0m\u001b[0m\n\u001b[0;32m     11\u001b[0m             \u001b[1;31m#a[i,j] =  np.long (a[i-1,j] + a[i,j-1])                         ## RuntimeWarning: overflow encountered in double_scalars\u001b[0m\u001b[1;33m\u001b[0m\u001b[1;33m\u001b[0m\u001b[1;33m\u001b[0m\u001b[0m\n\u001b[1;32m---> 12\u001b[1;33m             \u001b[0ma\u001b[0m\u001b[1;33m[\u001b[0m\u001b[0mi\u001b[0m\u001b[1;33m]\u001b[0m\u001b[1;33m[\u001b[0m\u001b[0mj\u001b[0m\u001b[1;33m]\u001b[0m \u001b[1;33m=\u001b[0m \u001b[0mnp\u001b[0m\u001b[1;33m.\u001b[0m\u001b[0mlong\u001b[0m \u001b[1;33m(\u001b[0m\u001b[0ma\u001b[0m\u001b[1;33m[\u001b[0m\u001b[0mi\u001b[0m\u001b[1;33m-\u001b[0m\u001b[1;36m1\u001b[0m\u001b[1;33m]\u001b[0m\u001b[1;33m[\u001b[0m\u001b[0mj\u001b[0m\u001b[1;33m]\u001b[0m \u001b[1;33m+\u001b[0m \u001b[0ma\u001b[0m\u001b[1;33m[\u001b[0m\u001b[0mi\u001b[0m\u001b[1;33m]\u001b[0m\u001b[1;33m[\u001b[0m\u001b[0mj\u001b[0m\u001b[1;33m-\u001b[0m\u001b[1;36m1\u001b[0m\u001b[1;33m]\u001b[0m\u001b[1;33m)\u001b[0m                     \u001b[1;31m## RuntimeWarning: overflow encountered in double_scalars\u001b[0m\u001b[1;33m\u001b[0m\u001b[1;33m\u001b[0m\u001b[0m\n\u001b[0m\u001b[0;32m     13\u001b[0m             \u001b[1;31m#a[i][j] = np.long (a[i-1][j]) + np.long (a[i][j-1])            ## OverflowError: int too large to convert to float\u001b[0m\u001b[1;33m\u001b[0m\u001b[1;33m\u001b[0m\u001b[1;33m\u001b[0m\u001b[0m\n\u001b[0;32m     14\u001b[0m             \u001b[1;31m#a[i][j] = np.long (np.long (a[i-1][j]) + np.long (a[i][j-1]))\u001b[0m\u001b[1;33m\u001b[0m\u001b[1;33m\u001b[0m\u001b[1;33m\u001b[0m\u001b[0m\n",
      "\u001b[1;31mOverflowError\u001b[0m: cannot convert float infinity to integer"
     ]
    }
   ],
   "source": [
    "print('para n=5 ;',solve (5))\n",
    "print('para n=8 ;',solve (8))\n",
    "print('para n=1000; ', solve (1000))"
   ]
  },
  {
   "cell_type": "code",
   "execution_count": null,
   "metadata": {},
   "outputs": [],
   "source": [
    "##-----------------------------------------------\n",
    "##-----------------------------------------------\n",
    "##-----------------------------------------------\n",
    "##-----------------------------------------------"
   ]
  },
  {
   "cell_type": "code",
   "execution_count": null,
   "metadata": {},
   "outputs": [],
   "source": [
    "##-----------------------------------------------\n",
    "##-----------------------------------------------\n",
    "## 6 kyu\n",
    "## Ranking NBA teams\n",
    "## inicio \n",
    "## DONE   \n",
    "##-----------------------------------------------\n",
    "##-----------------------------------------------"
   ]
  },
  {
   "cell_type": "code",
   "execution_count": null,
   "metadata": {},
   "outputs": [],
   "source": [
    "r = (\"Los Angeles Clippers 104 Dallas Mavericks 88,New York Knicks 101 Atlanta Hawks 112,Indiana Pacers 103 Memphis Grizzlies 112,\"\n",
    "     \"Los Angeles Lakers 111 Minnesota Timberwolves 112,Phoenix Suns 95 Dallas Mavericks 111,Portland Trail Blazers 112 New Orleans Pelicans 94,\"\n",
    "     \"Sacramento Kings 104 Los Angeles Clippers 111,Houston Rockets 85 Denver Nuggets 105,Memphis Grizzlies 76 Cleveland Cavaliers 106,\"\n",
    "     \"Milwaukee Bucks 97 New York Knicks 122,Oklahoma City Thunder 112 San Antonio Spurs 106,Boston Celtics 112 Philadelphia 76ers 95,\"\n",
    "     \"Brooklyn Nets 100 Chicago Bulls 115,Detroit Pistons 92 Utah Jazz 87,Miami Heat 104 Charlotte Hornets 94,\"\n",
    "     \"Toronto Raptors 106 Indiana Pacers 99,Orlando Magic 87 Washington Wizards 88,Golden State Warriors 111 New Orleans Pelicans 95,\"\n",
    "     \"Atlanta Hawks 94 Detroit Pistons 106,Chicago Bulls 97 Cleveland Cavaliers 95,\"\n",
    "     \"San Antonio Spurs 111 Houston Rockets 86,Chicago Bulls 103 Dallas Mavericks 102,Minnesota Timberwolves 112 Milwaukee Bucks 108,\"\n",
    "     \"New Orleans Pelicans 93 Miami Heat 90,Boston Celtics 81 Philadelphia 76ers 65,Detroit Pistons 115 Atlanta Hawks 87,\"\n",
    "     \"Toronto Raptors 92 Washington Wizards 82,Orlando Magic 86 Memphis Grizzlies 76,Los Angeles Clippers 115 Portland Trail Blazers 109,\"\n",
    "     \"Los Angeles Lakers 97 Golden State Warriors 136,Utah Jazz 98 Denver Nuggets 78,Boston Celtics 99 New York Knicks 85,\"\n",
    "     \"Indiana Pacers 98 Charlotte Hornets 86,Dallas Mavericks 87 Phoenix Suns 99,Atlanta Hawks 81 Memphis Grizzlies 82,\"\n",
    "     \"Miami Heat 110 Washington Wizards 105,Detroit Pistons 94 Charlotte Hornets 99,Orlando Magic 110 New Orleans Pelicans 107,\"\n",
    "     \"Los Angeles Clippers 130 Golden State Warriors 95,Utah Jazz 102 Oklahoma City Thunder 113,San Antonio Spurs 84 Phoenix Suns 104,\"\n",
    "     \"Chicago Bulls 103 Indiana Pacers 94,Milwaukee Bucks 106 Minnesota Timberwolves 88,Los Angeles Lakers 104 Portland Trail Blazers 102,\"\n",
    "     \"Houston Rockets 120 New Orleans Pelicans 100,Boston Celtics 111 Brooklyn Nets 105,Charlotte Hornets 94 Chicago Bulls 86,\"\n",
    "     \"Cleveland Cavaliers 103 Dallas Mavericks 97,New York Knicks 101.12 Atlanta Hawks 112\")\n"
   ]
  },
  {
   "cell_type": "code",
   "execution_count": null,
   "metadata": {},
   "outputs": [],
   "source": [
    "def nba_cup(result_sheet, to_find):\n",
    "    \n",
    "    teams = (\"Los Angeles Clippers,Dallas Mavericks,New York Knicks,NYK,Atlanta Hawks,Indiana Pacers,Memphis Grizzlies,\"\n",
    "         \"Los Angeles Lakers,Minnesota Timberwolves,Phoenix Suns,Portland Trail Blazers,New Orleans Pelicans,\"\n",
    "         \"Sacramento Kings,Los Angeles Clippers,Houston Rockets,Denver Nuggets,Cleveland Cavaliers,Milwaukee Bucks,\"\n",
    "         \"Oklahoma City Thunder,San Antonio Spurs,Boston Celtics,Philadelphia 76ers,Brooklyn Nets,Chicago Bulls,\"\n",
    "         \"Detroit Pistons,Utah Jazz,Miami Heat,Charlotte Hornets,Toronto Raptors,Orlando Magic,Washington Wizards,\"\n",
    "         \"Golden State Warriors,Dallas Maver\") \n",
    "    \n",
    "    teams_list = teams.split(\",\")\n",
    "    if to_find in teams_list:\n",
    "        \n",
    "        #localiza el equipo\n",
    "        r_list = result_sheet.split(\",\")\n",
    "        chk = [x for x in r_list if to_find in x]\n",
    "        #print (chk)\n",
    "         \n",
    "        mtrx = []\n",
    "        \n",
    "        #identifica los numeros\n",
    "        for chk_item in chk:\n",
    "            #print (chk_item)\n",
    "            #numbers = [float(temp) for temp in chk_item.split() if temp.isdigit()]\n",
    "            numbers = [int(temp) for temp in chk_item.split() if temp.isdigit()]\n",
    "            #print(numbers)\n",
    "            #a = numbers[0]\n",
    "            #b = numbers[1]\n",
    "            #print (len(numbers))\n",
    "            \n",
    "            if len(numbers) <= 1:\n",
    "                output = \"Error(float number):\" + chk_item\n",
    "                return (output)\n",
    "            \n",
    "            else:\n",
    "                pos = chk_item.find(to_find)\n",
    "                l = []\n",
    "                \n",
    "                a = int (numbers[0])\n",
    "                b = int (numbers[1])\n",
    "                \n",
    "                if pos == 0:\n",
    "                    l.append (a)\n",
    "                    l.append (b)\n",
    "                else:\n",
    "                    l.append (b)\n",
    "                    l.append (a)\n",
    "                    \n",
    "                if l[0] > l[1]:   #win\n",
    "                    l.append (1)\n",
    "                    l.append (0)\n",
    "                    l.append (0)\n",
    "            \n",
    "                if l[0] < l[1]:   #loss\n",
    "                    l.append (0)\n",
    "                    l.append (1)\n",
    "                    l.append (0)\n",
    "                \n",
    "                if l[0] == l[1]:  #draw\n",
    "                    l.append (0)\n",
    "                    l.append (0)\n",
    "                    l.append (1)\n",
    "            \n",
    "            mtrx.append(l)\n",
    "            #print (mtrx)\n",
    "        \n",
    "        o1 = 0     #scored\n",
    "        o2 = 0     #conceded \n",
    "        o3 = 0     #W\n",
    "        o4 = 0     #L\n",
    "        o5 = 0     #D\n",
    "        o6 = 0     #points\n",
    "        \n",
    "        for x in range (len(mtrx)):\n",
    "            o1 = o1 + mtrx [x][0]\n",
    "            o2 = o2 + mtrx [x][1]\n",
    "            o3 = o3 + mtrx [x][2]\n",
    "            o4 = o4 + mtrx [x][3]\n",
    "            o5 = o5 + mtrx [x][4]\n",
    "        o6 = o6 + o3 * 3 + o5 \n",
    "        \n",
    "        #print (o1, o2, o3, o4, o5)\n",
    "        output = to_find + ':W=' + str(o3) + ';D=' + str(o5) + ';L=' + str(o4) + ';Scored=' + str(o1) +';Conceded=' + str(o2) + ';Points=' + str(o6)\n",
    "\n",
    "    else:\n",
    "        if to_find == '':\n",
    "            output = ''\n",
    "        else:\n",
    "            output = to_find + \":This team didn't play!\"\n",
    "        return (output)\n",
    "    \n",
    "    return (output)"
   ]
  },
  {
   "cell_type": "code",
   "execution_count": null,
   "metadata": {},
   "outputs": [],
   "source": [
    "nba_cup(r, \"Boston Celt\")"
   ]
  },
  {
   "cell_type": "code",
   "execution_count": null,
   "metadata": {},
   "outputs": [],
   "source": [
    "nba_cup(r, \"Los Angeles Clippers\")"
   ]
  },
  {
   "cell_type": "code",
   "execution_count": null,
   "metadata": {},
   "outputs": [],
   "source": [
    "nba_cup(r, \"Boston Celtics\")"
   ]
  },
  {
   "cell_type": "code",
   "execution_count": null,
   "metadata": {},
   "outputs": [],
   "source": [
    "nba_cup(r, \"New York Knicks\")"
   ]
  },
  {
   "cell_type": "code",
   "execution_count": null,
   "metadata": {},
   "outputs": [],
   "source": [
    "##-----------------------------------------------\n",
    "##-----------------------------------------------\n",
    "##-----------------------------------------------\n",
    "##-----------------------------------------------"
   ]
  }
 ],
 "metadata": {
  "kernelspec": {
   "display_name": "Python 3",
   "language": "python",
   "name": "python3"
  },
  "language_info": {
   "codemirror_mode": {
    "name": "ipython",
    "version": 3
   },
   "file_extension": ".py",
   "mimetype": "text/x-python",
   "name": "python",
   "nbconvert_exporter": "python",
   "pygments_lexer": "ipython3",
   "version": "3.8.5"
  }
 },
 "nbformat": 4,
 "nbformat_minor": 4
}
