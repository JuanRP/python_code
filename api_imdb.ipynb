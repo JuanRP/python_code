{
 "cells": [
  {
   "cell_type": "markdown",
   "metadata": {},
   "source": [
    "# Ejercicio 1 - API IMDB\n",
    "Acceso a la API de IMDB. Recordad instalar las librerías necesarias.\n",
    "\n",
    "El objetivo del ejercicio es la creación de un archivo csv a partir de búsquedas en la API.\n",
    "La solución no es universal. Podéis realizar cualquier mejora o cambio de código para obtener otro resultado. En ese caso debéis comentar cuál sería vuestro objetivo.\n",
    "Podéis consultarme cualquier duda o enviarme vuestras soluciones a mi correo electrónico gmunoz4@us.es"
   ]
  },
  {
   "cell_type": "code",
   "execution_count": 1,
   "metadata": {
    "collapsed": true
   },
   "outputs": [],
   "source": [
    "import csv\n",
    "import json\n",
    "import string\n",
    "import requests\n",
    "import datetime\n",
    "import re\n",
    "#import urllib2\n",
    "import pprint, codecs, unicodedata"
   ]
  },
  {
   "cell_type": "markdown",
   "metadata": {},
   "source": [
    "Execute the API call for searching. Print the keys of the result."
   ]
  },
  {
   "cell_type": "code",
   "execution_count": 2,
   "metadata": {
    "collapsed": false
   },
   "outputs": [],
   "source": [
    "# see http://www.omdbapi.com\n",
    "# buscamos informacion sobre todas las peliculas de la saga \"Star Wars\"\n",
    "url =\"http://www.omdbapi.com/?s=Star Wars\"\n",
    "search_results  = requests.get(url).json()"
   ]
  },
  {
   "cell_type": "code",
   "execution_count": 3,
   "metadata": {
    "collapsed": false
   },
   "outputs": [],
   "source": [
    "# carga en fichero .json, los \"nombres de peliculas\" recuperados relativos a la palabra de busqueda\n",
    "# asi se puede trabajar offline (sin tener que acceder a internet de forma periodica)\n",
    "# nombre fichero - \"imdb_palabra de busqueda_fecha descarga.json\" \n",
    "now=datetime.datetime.now()\n",
    "nameMovie=\"StarWars\"\n",
    "namfile= \"imdb_00_\"+\"StarWars\"+\"_%i-%i-%i\" % (now.year, now.month, now.day)\n",
    "filejson00 = namfile + \".json\"\n",
    "\n",
    "with open(filejson00, 'w') as outfilejson:\n",
    "    json.dump(search_results['Search'], outfilejson)\n",
    "    #json.dump(search_results, outfilejson)"
   ]
  },
  {
   "cell_type": "markdown",
   "metadata": {},
   "source": [
    "We iterate over the results. We store only the results with type 'movie'."
   ]
  },
  {
   "cell_type": "code",
   "execution_count": 4,
   "metadata": {
    "collapsed": false
   },
   "outputs": [],
   "source": [
    "# sobre el fichero json generado, elimina las \"no movie\" \n",
    "with open(filejson00, 'r') as outfilejson:\n",
    "    d=json.load(outfilejson)\n",
    "\n",
    "for i in range(len(d)):\n",
    "    if d[i]['Type'] != \"movie\":\n",
    "        d.pop(i)    \n",
    "\n",
    "with open(filejson00, 'w') as outfilejson:\n",
    "    json.dump(d, outfilejson)"
   ]
  },
  {
   "cell_type": "code",
   "execution_count": 10,
   "metadata": {
    "collapsed": true
   },
   "outputs": [],
   "source": [
    "# la descarga via API con el parametro t no proporciona todos los atributos que se quieren recuperar;\n",
    "# dado que si tenemos los ID de las peliculas haremos una llamada a la API por ID para recuperar lo que se requiere\n",
    "\n",
    "namfile= \"imdb_01_\"+\"StarWars\"+\"_%i-%i-%i\" % (now.year, now.month, now.day)\n",
    "filejson01 = namfile + \".json\"\n",
    "\n",
    "with open(filejson00, 'r') as outfilejson:\n",
    "    d=json.load(outfilejson)\n",
    "\n",
    "# diccionario vacio para recuperar la información que necesitamos\n",
    "infAll = {}\n",
    "cont=1\n",
    "# bucle que llama a la API para buscar por ID la informacion de cada pelicula\n",
    "for i in range(len(d)):\n",
    "        imdbID= d[i]['imdbID'] \n",
    "        url =\"http://www.omdbapi.com/?i=\"+imdbID\n",
    "        search_results  = requests.get(url).json()\n",
    "        infAll[cont]=search_results\n",
    "        cont+=1\n",
    "      \n",
    "with open(filejson01, 'w') as outfilejson:\n",
    "    json.dump(infAll, outfilejson)"
   ]
  },
  {
   "cell_type": "markdown",
   "metadata": {},
   "source": [
    "Define the csv file. The headers will be 'Genre', 'Description', 'Type', 'Title' and 'imdbRating'."
   ]
  },
  {
   "cell_type": "code",
   "execution_count": 6,
   "metadata": {
    "collapsed": true
   },
   "outputs": [],
   "source": [
    "# nombre del fichero de salida .csv\n",
    "filecsv = namfile+\".csv\"\n",
    "\n",
    "# inicializa fichero de salida - carga cabecera  \n",
    "with open (filecsv,'w') as outfilecsv:\n",
    "    # cabecera fichero - campos\n",
    "    fieldnames = \"imdbID type genre year title description imdbRating\".split()\n",
    "    writer= csv.writer(outfilecsv)\n",
    "    writer.writerow(fieldnames)"
   ]
  },
  {
   "cell_type": "markdown",
   "metadata": {},
   "source": [
    "For each movie, we get its info from the API to store in the csv file."
   ]
  },
  {
   "cell_type": "code",
   "execution_count": 8,
   "metadata": {
    "collapsed": false
   },
   "outputs": [],
   "source": [
    "with open(filejson01, 'r') as outfilejson:\n",
    "   fil=json.load(outfilejson)\n",
    "\n",
    "with open (filecsv,'a') as outfilecsv:\n",
    "        writer= csv.writer(outfilecsv)\n",
    "        \n",
    "        for i in fil.keys():\n",
    "            imdbID = fil[i]['imdbID']\n",
    "            type = fil[i]['Type']\n",
    "            genre = fil[i]['Genre']\n",
    "            year = fil[i]['Year']\n",
    "            title = fil[i]['Title']\n",
    "            description = fil[i]['Plot']\n",
    "            imdbRating = fil[i]['imdbRating']\n",
    "            \n",
    "            fieldata = [imdbID, type, genre, year, title, description, imdbRating]\n",
    "            writer.writerow(fieldata)            "
   ]
  },
  {
   "cell_type": "code",
   "execution_count": 9,
   "metadata": {
    "collapsed": false
   },
   "outputs": [
    {
     "data": {
      "text/html": [
       "<div>\n",
       "<table border=\"1\" class=\"dataframe\">\n",
       "  <thead>\n",
       "    <tr style=\"text-align: right;\">\n",
       "      <th></th>\n",
       "      <th>imdbID</th>\n",
       "      <th>type</th>\n",
       "      <th>genre</th>\n",
       "      <th>year</th>\n",
       "      <th>title</th>\n",
       "      <th>description</th>\n",
       "      <th>imdbRating</th>\n",
       "    </tr>\n",
       "  </thead>\n",
       "  <tbody>\n",
       "    <tr>\n",
       "      <th>3</th>\n",
       "      <td>tt3748528</td>\n",
       "      <td>movie</td>\n",
       "      <td>Action, Adventure, Sci-Fi</td>\n",
       "      <td>2016</td>\n",
       "      <td>Rogue One: A Star Wars Story</td>\n",
       "      <td>The Rebel Alliance makes a risky move to steal...</td>\n",
       "      <td>8.1</td>\n",
       "    </tr>\n",
       "    <tr>\n",
       "      <th>6</th>\n",
       "      <td>tt2488496</td>\n",
       "      <td>movie</td>\n",
       "      <td>Action, Adventure, Fantasy</td>\n",
       "      <td>2015</td>\n",
       "      <td>Star Wars: The Force Awakens</td>\n",
       "      <td>Three decades after the defeat of the Galactic...</td>\n",
       "      <td>8.2</td>\n",
       "    </tr>\n",
       "    <tr>\n",
       "      <th>7</th>\n",
       "      <td>tt1185834</td>\n",
       "      <td>movie</td>\n",
       "      <td>Animation, Action, Adventure</td>\n",
       "      <td>2008</td>\n",
       "      <td>Star Wars: The Clone Wars</td>\n",
       "      <td>Anakin Skywalker and Ahsoka Tano must rescue t...</td>\n",
       "      <td>5.8</td>\n",
       "    </tr>\n",
       "    <tr>\n",
       "      <th>2</th>\n",
       "      <td>tt0121766</td>\n",
       "      <td>movie</td>\n",
       "      <td>Action, Adventure, Fantasy</td>\n",
       "      <td>2005</td>\n",
       "      <td>Star Wars: Episode III - Revenge of the Sith</td>\n",
       "      <td>During the near end of the clone wars, Darth S...</td>\n",
       "      <td>7.6</td>\n",
       "    </tr>\n",
       "    <tr>\n",
       "      <th>0</th>\n",
       "      <td>tt0121765</td>\n",
       "      <td>movie</td>\n",
       "      <td>Action, Adventure, Fantasy</td>\n",
       "      <td>2002</td>\n",
       "      <td>Star Wars: Episode II - Attack of the Clones</td>\n",
       "      <td>Ten years after initially meeting, Anakin Skyw...</td>\n",
       "      <td>6.7</td>\n",
       "    </tr>\n",
       "    <tr>\n",
       "      <th>8</th>\n",
       "      <td>tt0120915</td>\n",
       "      <td>movie</td>\n",
       "      <td>Action, Adventure, Fantasy</td>\n",
       "      <td>1999</td>\n",
       "      <td>Star Wars: Episode I - The Phantom Menace</td>\n",
       "      <td>Two Jedi Knights escape a hostile blockade to ...</td>\n",
       "      <td>6.5</td>\n",
       "    </tr>\n",
       "    <tr>\n",
       "      <th>5</th>\n",
       "      <td>tt0086190</td>\n",
       "      <td>movie</td>\n",
       "      <td>Action, Adventure, Fantasy</td>\n",
       "      <td>1983</td>\n",
       "      <td>Star Wars: Episode VI - Return of the Jedi</td>\n",
       "      <td>After rescuing Han Solo from the palace of Jab...</td>\n",
       "      <td>8.4</td>\n",
       "    </tr>\n",
       "    <tr>\n",
       "      <th>4</th>\n",
       "      <td>tt0080684</td>\n",
       "      <td>movie</td>\n",
       "      <td>Action, Adventure, Fantasy</td>\n",
       "      <td>1980</td>\n",
       "      <td>Star Wars: Episode V - The Empire Strikes Back</td>\n",
       "      <td>After the rebels have been brutally overpowere...</td>\n",
       "      <td>8.8</td>\n",
       "    </tr>\n",
       "    <tr>\n",
       "      <th>1</th>\n",
       "      <td>tt0076759</td>\n",
       "      <td>movie</td>\n",
       "      <td>Action, Adventure, Fantasy</td>\n",
       "      <td>1977</td>\n",
       "      <td>Star Wars: Episode IV - A New Hope</td>\n",
       "      <td>Luke Skywalker joins forces with a Jedi Knight...</td>\n",
       "      <td>8.7</td>\n",
       "    </tr>\n",
       "  </tbody>\n",
       "</table>\n",
       "</div>"
      ],
      "text/plain": [
       "      imdbID   type                         genre  year  \\\n",
       "3  tt3748528  movie     Action, Adventure, Sci-Fi  2016   \n",
       "6  tt2488496  movie    Action, Adventure, Fantasy  2015   \n",
       "7  tt1185834  movie  Animation, Action, Adventure  2008   \n",
       "2  tt0121766  movie    Action, Adventure, Fantasy  2005   \n",
       "0  tt0121765  movie    Action, Adventure, Fantasy  2002   \n",
       "8  tt0120915  movie    Action, Adventure, Fantasy  1999   \n",
       "5  tt0086190  movie    Action, Adventure, Fantasy  1983   \n",
       "4  tt0080684  movie    Action, Adventure, Fantasy  1980   \n",
       "1  tt0076759  movie    Action, Adventure, Fantasy  1977   \n",
       "\n",
       "                                            title  \\\n",
       "3                    Rogue One: A Star Wars Story   \n",
       "6                    Star Wars: The Force Awakens   \n",
       "7                       Star Wars: The Clone Wars   \n",
       "2    Star Wars: Episode III - Revenge of the Sith   \n",
       "0    Star Wars: Episode II - Attack of the Clones   \n",
       "8       Star Wars: Episode I - The Phantom Menace   \n",
       "5      Star Wars: Episode VI - Return of the Jedi   \n",
       "4  Star Wars: Episode V - The Empire Strikes Back   \n",
       "1              Star Wars: Episode IV - A New Hope   \n",
       "\n",
       "                                         description  imdbRating  \n",
       "3  The Rebel Alliance makes a risky move to steal...         8.1  \n",
       "6  Three decades after the defeat of the Galactic...         8.2  \n",
       "7  Anakin Skywalker and Ahsoka Tano must rescue t...         5.8  \n",
       "2  During the near end of the clone wars, Darth S...         7.6  \n",
       "0  Ten years after initially meeting, Anakin Skyw...         6.7  \n",
       "8  Two Jedi Knights escape a hostile blockade to ...         6.5  \n",
       "5  After rescuing Han Solo from the palace of Jab...         8.4  \n",
       "4  After the rebels have been brutally overpowere...         8.8  \n",
       "1  Luke Skywalker joins forces with a Jedi Knight...         8.7  "
      ]
     },
     "execution_count": 9,
     "metadata": {},
     "output_type": "execute_result"
    }
   ],
   "source": [
    "import pandas as pd\n",
    "df=pd.read_csv(filecsv)\n",
    "dfsort=df.sort_values('year', ascending=False)\n",
    "dfsort"
   ]
  },
  {
   "cell_type": "code",
   "execution_count": null,
   "metadata": {
    "collapsed": true
   },
   "outputs": [],
   "source": []
  }
 ],
 "metadata": {
  "anaconda-cloud": {},
  "kernelspec": {
   "display_name": "Python [conda root]",
   "language": "python",
   "name": "conda-root-py"
  },
  "language_info": {
   "codemirror_mode": {
    "name": "ipython",
    "version": 3
   },
   "file_extension": ".py",
   "mimetype": "text/x-python",
   "name": "python",
   "nbconvert_exporter": "python",
   "pygments_lexer": "ipython3",
   "version": "3.5.2"
  }
 },
 "nbformat": 4,
 "nbformat_minor": 0
}
