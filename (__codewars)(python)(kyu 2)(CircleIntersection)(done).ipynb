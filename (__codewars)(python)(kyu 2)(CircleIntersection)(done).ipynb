{
 "cells": [
  {
   "cell_type": "code",
   "execution_count": null,
   "metadata": {},
   "outputs": [],
   "source": [
    "## ===========================================\n",
    "## 2 kyu\n",
    "## One Line Task: Circle Intersection\n",
    "## DONE\n",
    "##\n",
    "## https://www.mundodeportivo.com/uncomo/educacion/articulo/como-sacar-el-area-del-rombo-37104.html\n",
    "## https://codegolf.stackexchange.com/questions/198987/intersection-of-circles-how-can-i-reduce-this-golf-code-to-127-bytes\n",
    "## ==========================================="
   ]
  },
  {
   "cell_type": "code",
   "execution_count": null,
   "metadata": {},
   "outputs": [],
   "source": [
    "from math import*;circleIntersection=lambda a,b,r:int(r*r*2*acos(dist(a,b)/r/2)-.5*(4*r*r-dist(a,b)**2)**.5*dist(a,b)) if 2*r>dist(a,b)else 0"
   ]
  },
  {
   "cell_type": "code",
   "execution_count": null,
   "metadata": {},
   "outputs": [],
   "source": [
    "--from math import*;circleIntersection=lambda a,b,r:int(r*r*2*acos(dist(a,b)/r/2)-.5*(4*r*r-dist(a,b)**2)**.5*dist(a,b)) if 2*r>dist(a,b)else 0"
   ]
  },
  {
   "cell_type": "code",
   "execution_count": null,
   "metadata": {},
   "outputs": [],
   "source": [
    "## best  129 caracteres\n",
    "from math import*;circleIntersection=lambda a,b,r:r*r*(2*acos(dist(a,b)/r/2)-sin(2*acos(dist(a,b)/r/2)))//1if 2*r>dist(a,b)else 0"
   ]
  },
  {
   "cell_type": "code",
   "execution_count": null,
   "metadata": {},
   "outputs": [],
   "source": [
    "from math import*;circleIntersection=lambda a,b,r:r*r*(lambda d:d<1and acos(d)-d*(1-d*d)**.5)(dist(a,b)/r/2)//.5"
   ]
  },
  {
   "cell_type": "code",
   "execution_count": null,
   "metadata": {},
   "outputs": [],
   "source": [
    "d=math.hypot(a[0]-b[0],a[1]-b[1])/2\n",
    "a=2*math.acos(d/r)if r>d else 0\n",
    "return int(r*r*(a-math.sin(a)))"
   ]
  },
  {
   "cell_type": "code",
   "execution_count": 91,
   "metadata": {},
   "outputs": [],
   "source": [
    "## mejores formulas\n",
    "from math import *\n",
    "def circleIntersection(a,b,r):\n",
    "    if 2*r > dist(a,b):\n",
    "        \n",
    "        R = r*r\n",
    "        \n",
    "        print(dist(a,b),r,dist(a,b)/r,dist(a,b)/r/2,dist(a,b)/(r*2))\n",
    "        \n",
    "        Aop00 = 2*acos(dist(a,b)/r/2)\n",
    "        Rop00 = sin(2*acos(dist(a,b)/r/2))\n",
    "        print ('R:', R, 'Aop00:', Aop00, 'Rop00:', Rop00, Aop00-Rop00, Rop00/Aop00, int(R*(Aop00 - Rop00)))\n",
    "        \n",
    "        Aop01 = 2*acos(dist(a,b)/r/2)\n",
    "        Rop01 = sin(2*asin(dist(a,b)/r/2))\n",
    "        print ('R:', R, 'Aop01:', Aop01, 'Rop01:', Rop01, Aop01-Rop01, Rop01/Aop01, int(R*(Aop01 - Rop01)))\n",
    "        \n",
    "        Aop02 = 2*acos(dist(a,b)/r/2)\n",
    "        #Rop02 = 2*sin(acos(dist(a,b)/r/2))*cos(acos(dist(a,b)/r/2))\n",
    "        #Rop02 = 2*sin(acos(dist(a,b)/r/2))*(dist(a,b)/r/2)\n",
    "        Rop02 = 2* (1-(dist(a,b)/r/2)**2)**.5*(dist(a,b)/r/2)\n",
    "        \n",
    "        print ('R:', R, 'Aop02:', Aop02, 'Rop02:', Rop02, Aop02-Rop02, int(R*(Aop02 - Rop02)))\n",
    "    \n",
    "        return int( R * (Aop00 - Rop00) )\n",
    "       \n",
    "        \n",
    "    else:\n",
    "        Aop00 = 0\n",
    "        Rop00 = 0\n",
    "               \n",
    "        print ('Aop00', Aop00 )\n",
    "        print ('Rop00', Rop00 )\n",
    "        T = 0\n",
    "    return T/r/2"
   ]
  },
  {
   "cell_type": "code",
   "execution_count": 92,
   "metadata": {},
   "outputs": [
    {
     "name": "stdout",
     "output_type": "stream",
     "text": [
      "==========================================================================================\n",
      "7.0 5 1.4 0.7 0.7\n",
      "R: 25 Aop00: 1.5907976603682872 Rop00: 0.999799979995999 0.5909976803722882 0.6284897224229852 14\n",
      "R: 25 Aop01: 1.5907976603682872 Rop01: 0.999799979995999 0.5909976803722882 0.6284897224229852 14\n",
      "R: 25 Aop02: 1.5907976603682872 Rop02: 0.9997999799959989 0.5909976803722883 14\n",
      "ref: #test.assert_equals(circleIntersection([0, 0],[7, 0],5),14)  result: [0, 0] [7, 0] 5 14\n",
      "==========================================================================================\n",
      "10.0 10 1.0 0.5 0.5\n",
      "R: 100 Aop00: 2.0943951023931957 Rop00: 0.8660254037844386 1.228369698608757 0.41349667156634395 122\n",
      "R: 100 Aop01: 2.0943951023931957 Rop01: 0.8660254037844387 1.2283696986087569 0.413496671566344 122\n",
      "R: 100 Aop02: 2.0943951023931957 Rop02: 0.8660254037844386 1.228369698608757 122\n",
      "ref: #test.assert_equals(circleIntersection([0, 0],[0, 10],10),122)  result: [0, 0] [0, 10] 10 122\n",
      "==========================================================================================\n",
      "0.0 3 0.0 0.0 0.0\n",
      "R: 9 Aop00: 3.141592653589793 Rop00: 1.2246467991473532e-16 3.141592653589793 3.8981718325193755e-17 28\n",
      "R: 9 Aop01: 3.141592653589793 Rop01: 0.0 3.141592653589793 0.0 28\n",
      "R: 9 Aop02: 3.141592653589793 Rop02: 0.0 3.141592653589793 28\n",
      "ref: #test.assert_equals(circleIntersection([5, 6],[5, 6],3),28)  result: [5, 6] [5, 6] 3 28\n",
      "==========================================================================================\n",
      "Aop00 0\n",
      "Rop00 0\n",
      "ref: #test.assert_equals(circleIntersection([-5, 0],[5, 0],3),0)  result: [-5, 0] [5, 0] 3 0.0\n",
      "==========================================================================================\n",
      "38.07886552931954 20 1.9039432764659772 0.9519716382329886 0.9519716382329886\n",
      "R: 400 Aop00: 0.6223684885550204 Rop00: 0.5829611908180508 0.039407297736969604 0.936681727205593 15\n",
      "R: 400 Aop01: 0.6223684885550204 Rop01: 0.5829611908180508 0.039407297736969604 0.936681727205593 15\n",
      "R: 400 Aop02: 0.6223684885550204 Rop02: 0.5829611908180506 0.039407297736969715 15\n",
      "ref: #test.assert_equals(circleIntersection([10, 20],[-5, -15],20),15)  result: [10, 20] [-5, -15] 20 15\n",
      "==========================================================================================\n",
      "25.455844122715714 17 1.4974025954538654 0.7487012977269327 0.7487012977269327\n",
      "R: 289 Aop00: 1.449391043076527 Rop00: 0.9926394259832737 0.4567516170932534 0.6848665380712324 132\n",
      "R: 289 Aop01: 1.449391043076527 Rop01: 0.9926394259832737 0.4567516170932534 0.6848665380712324 132\n",
      "R: 289 Aop02: 1.449391043076527 Rop02: 0.9926394259832737 0.4567516170932534 132\n",
      "ref: #test.assert_equals(circleIntersection([-7, 13],[-25, -5],17),132)  result: [-7, 13] [-25, -5] 17 132\n",
      "==========================================================================================\n",
      "Aop00 0\n",
      "Rop00 0\n",
      "ref: #test.assert_equals(circleIntersection([-20, -4],[-40, 29],7),0)  result: [-20, -4] [-40, 29] 7 0.0\n",
      "==========================================================================================\n",
      "13.601470508735444 10 1.3601470508735445 0.6800735254367722 0.6800735254367722\n",
      "R: 100 Aop00: 1.645866817871613 Rop00: 0.9971835337589565 0.6486832841126564 0.6058713396072261 64\n",
      "R: 100 Aop01: 1.645866817871613 Rop01: 0.9971835337589565 0.6486832841126564 0.6058713396072261 64\n",
      "R: 100 Aop02: 1.645866817871613 Rop02: 0.9971835337589565 0.6486832841126564 64\n",
      "ref: #test.assert_equals(circleIntersection([38, -18],[46, -29],10),64)  result: [38, -18] [46, -29] 10 64\n",
      "==========================================================================================\n",
      "29.0 15 1.9333333333333333 0.9666666666666667 0.9666666666666667\n",
      "R: 225 Aop00: 0.5178430840124424 Rop00: 0.49500717041819914 0.02283591359424325 0.9559018662230612 5\n",
      "R: 225 Aop01: 0.5178430840124424 Rop01: 0.49500717041819925 0.02283591359424314 0.9559018662230614 5\n",
      "R: 225 Aop02: 0.5178430840124424 Rop02: 0.49500717041819936 0.02283591359424303 5\n",
      "ref: #test.assert_equals(circleIntersection([-29, 33],[-8, 13],15),5)  result: [-29, 33] [-8, 13] 15 5\n",
      "==========================================================================================\n",
      "Aop00 0\n",
      "Rop00 0\n",
      "ref: #test.assert_equals(circleIntersection([-12, 20],[43, -49],23),0)  result: [-12, 20] [43, -49] 23 0.0\n"
     ]
    }
   ],
   "source": [
    "txt='#test.assert_equals(circleIntersection([0, 0],[7, 0],5),14)'\n",
    "S = [0,0]\n",
    "P = [7,0]\n",
    "r = 5\n",
    "print('==========================================================================================')\n",
    "print ('ref:',txt,' result:',S,P,r, circleIntersection (S, P, r))\n",
    "\n",
    "txt='#test.assert_equals(circleIntersection([0, 0],[0, 10],10),122)'\n",
    "S = [0,0]\n",
    "P = [0,10]\n",
    "r = 10\n",
    "print('==========================================================================================')\n",
    "print ('ref:',txt,' result:',S,P,r, circleIntersection (S, P, r))\n",
    "\n",
    "txt='#test.assert_equals(circleIntersection([5, 6],[5, 6],3),28)'\n",
    "S = [5,6]\n",
    "P = [5,6]\n",
    "r = 3\n",
    "print('==========================================================================================')\n",
    "print ('ref:',txt,' result:',S,P,r, circleIntersection (S, P, r))\n",
    "\n",
    "txt='#test.assert_equals(circleIntersection([-5, 0],[5, 0],3),0)'\n",
    "S = [-5, 0]\n",
    "P = [5, 0]\n",
    "r = 3\n",
    "print('==========================================================================================')\n",
    "print ('ref:',txt,' result:',S,P,r, circleIntersection (S, P, r))\n",
    "\n",
    "txt='#test.assert_equals(circleIntersection([10, 20],[-5, -15],20),15)'\n",
    "S = [10, 20]\n",
    "P = [-5, -15]\n",
    "r = 20\n",
    "print('==========================================================================================')\n",
    "print ('ref:',txt,' result:',S,P,r, circleIntersection (S, P, r))\n",
    "\n",
    "txt='#test.assert_equals(circleIntersection([-7, 13],[-25, -5],17),132)'\n",
    "S = [-7, 13]\n",
    "P = [-25, -5]\n",
    "r = 17\n",
    "print('==========================================================================================')\n",
    "print ('ref:',txt,' result:',S,P,r, circleIntersection (S, P, r))\n",
    "\n",
    "txt='#test.assert_equals(circleIntersection([-20, -4],[-40, 29],7),0)'\n",
    "S = [-20, -4]\n",
    "P = [-40, 29]\n",
    "r = 7\n",
    "print('==========================================================================================')\n",
    "print ('ref:',txt,' result:',S,P,r, circleIntersection (S, P, r))\n",
    "\n",
    "\n",
    "txt='#test.assert_equals(circleIntersection([38, -18],[46, -29],10),64)'\n",
    "S = [38, -18]\n",
    "P = [46, -29]\n",
    "r = 10\n",
    "print('==========================================================================================')\n",
    "print ('ref:',txt,' result:',S,P,r, circleIntersection (S, P, r))\n",
    "\n",
    "\n",
    "txt='#test.assert_equals(circleIntersection([-29, 33],[-8, 13],15),5)'\n",
    "S = [-29, 33]\n",
    "P = [-8, 13]\n",
    "r = 15\n",
    "print('==========================================================================================')\n",
    "print ('ref:',txt,' result:',S,P,r, circleIntersection (S, P, r))\n",
    "\n",
    "txt ='#test.assert_equals(circleIntersection([-12, 20],[43, -49],23),0)'\n",
    "S = [-12, 20]\n",
    "P = [43, -49]\n",
    "r = 23\n",
    "print('==========================================================================================')\n",
    "print ('ref:',txt,' result:',S,P,r, circleIntersection (S, P, r))\n"
   ]
  },
  {
   "cell_type": "code",
   "execution_count": null,
   "metadata": {},
   "outputs": [],
   "source": []
  },
  {
   "cell_type": "code",
   "execution_count": null,
   "metadata": {},
   "outputs": [],
   "source": []
  },
  {
   "cell_type": "code",
   "execution_count": null,
   "metadata": {},
   "outputs": [],
   "source": [
    "#### ejemplo #####\n",
    "// Datos en\n",
    "double  Sx,Sy,Sr , Px,Py,Pr ;\n",
    "\n",
    "//------------------------------------\n",
    "// Variables locales\n",
    "    double dx,dy,l,s,d,p,q ;\n",
    "    double p1,p2,A ;\n",
    "//--   \n",
    "    dx = Px-Sx ;\n",
    "    dy = Py-Sy ;\n",
    "    l  = (dx*dx+dy*dy)**(1/2) ;\n",
    "\n",
    "    s = (Sr+Pr)/l ;\n",
    "    d = (Sr-Pr)/l ;\n",
    "\n",
    "    p= s*d ;\n",
    "    q= sqrt((s*s-1)*(1-d*d))/2 ;\n",
    " \n",
    "    p1 = (1+p)/2 ;\n",
    "    p2 = (1-p)/2 ;\n",
    "     \n",
    "//  A = Suma de las áreas de cada sector\n",
    "    A  = Sr*Sr*atan(q/p1) - l*l*p1*q + Pr*Pr*atan(q/p2) - l*l*p2*q ; \n",
    "//------------------------------------\n",
    "\n",
    "\n",
    "#### ejemplo #####\n",
    "def insec(self,p1, r1, p2, r2):\n",
    "        x = p1[0]\n",
    "        y = p1[1]\n",
    "        R = r1\n",
    "        a = p2[0]\n",
    "        b = p2[1]\n",
    "        S = r2\n",
    "        d = math.sqrt((abs(a - x)) ** 2 + (abs(b - y)) ** 2)\n",
    "        if d > (R + S) or d < (abs(R - S)):\n",
    "            #print(\"Two circles have no intersection\")\n",
    "            return None,None\n",
    "        elif d == 0:\n",
    "            #print(\"Two circles have same center!\")\n",
    "            return None,None\n",
    "        else:\n",
    "            A = (R ** 2 - S ** 2 + d ** 2) / (2 * d)\n",
    "            h = math.sqrt(R ** 2 - A ** 2)\n",
    "            x2 = x + A * (a - x) / d\n",
    "            y2 = y + A * (b - y) / d\n",
    "            x3 = round(x2 - h * (b - y) / d, 2)\n",
    "            y3 = round(y2 + h * (a - x) / d, 2)\n",
    "            x4 = round(x2 + h * (b - y) / d, 2)\n",
    "            y4 = round(y2 - h * (a - x) / d, 2)\n",
    "            c1 = [x3, y3]\n",
    "            c2 = [x4, y4]\n",
    "            return c1, c2\n"
   ]
  },
  {
   "cell_type": "code",
   "execution_count": null,
   "metadata": {},
   "outputs": [],
   "source": []
  },
  {
   "cell_type": "code",
   "execution_count": null,
   "metadata": {},
   "outputs": [],
   "source": []
  },
  {
   "cell_type": "code",
   "execution_count": null,
   "metadata": {},
   "outputs": [],
   "source": [
    "### solucion con todo el detalle\n",
    "def ciA (S, P, r):\n",
    "\n",
    "    #area circulo\n",
    "    Ac = 3.14 * r**2\n",
    "    print (\"radio:\",r)\n",
    "    print (\"Ac:\", Ac)\n",
    "\n",
    "    if S == P:\n",
    "        print(\"entra 0\")\n",
    "        AT = 3.14 * r**2\n",
    "    \n",
    "    else:\n",
    "        #distancia entre los puntos\n",
    "        l1  = ((P[0] - S[0])**2 + (P[1] - S[1])**2)**(0.5)\n",
    "        print (\"l1:\",l1)\n",
    "        \n",
    "        if l1 >= 2*r:\n",
    "            print(\"entra 1\")\n",
    "            AT = 0\n",
    "        \n",
    "        else:\n",
    "            print(\"entra 2\")\n",
    "            \n",
    "            #calculamos punto de corte de los circulos\n",
    "            A = (r**2 - r**2 + l1**2) / (2 * l1)\n",
    "            h = (r**2 - A**2)**(0.5)\n",
    "            x2 = S[0] + A * (P[0] - S[0]) / l1\n",
    "            y2 = S[1] + A * (P[1] - S[1]) / l1\n",
    "            x3 = round(x2 - h * (P[1] - S[1]) / l1,2)\n",
    "            y3 = round(y2 + h * (P[0] - S[0]) / l1,2)\n",
    "            x4 = round(x2 + h * (P[1] - S[1]) / l1,2)\n",
    "            y4 = round(y2 - h * (P[0] - S[0]) / l1,2)\n",
    "            c1 = [x3, y3]\n",
    "            c2 = [x4, y4]\n",
    "            print(c1, c2)\n",
    "            \n",
    "            #calculamos distancia entre los puntos de corte (hipotenusa)\n",
    "            l2  = ((c1[0] - c2[0])**2 + (c1[1] - c2[1])**2)**(0.5)\n",
    "            print (\"l2:\", l2)\n",
    "            \n",
    "            #calculo del angulo\n",
    "            ang = math.degrees(math.acos ((r**2 + r**2 - l2**2)/(2 * r**2)))\n",
    "            print (\"angulo:\",ang)\n",
    "            \n",
    "            Aa = (ang/360) * 3.14 * r**2\n",
    "            print (\"Aa:\",Aa)\n",
    "            \n",
    "            #area triangulo ( b * h / 2 )\n",
    "            At = (l2 * l1/2) / 2\n",
    "            print (\"At:\",At, At*4, Ac-(At*4), (Ac-(At*4))/4\n",
    "           \n",
    "            #area total\n",
    "            AT = (Aa - At) * 2 \n",
    "    \n",
    "    print (int(AT))"
   ]
  },
  {
   "cell_type": "code",
   "execution_count": null,
   "metadata": {},
   "outputs": [],
   "source": [
    "import math"
   ]
  },
  {
   "cell_type": "code",
   "execution_count": null,
   "metadata": {},
   "outputs": [],
   "source": [
    "def ciAm (S, P, r):\n",
    "\n",
    "    if S == P:\n",
    "        AT = 3.14 * r**2\n",
    "    \n",
    "    else:\n",
    "        l1  = ((P[0] - S[0])**2 + (P[1] - S[1])**2)**(0.5)\n",
    "        \n",
    "        if l1 >= 2*r:\n",
    "            AT = 0\n",
    "        \n",
    "        else:\n",
    "            A = l1 / 2\n",
    "            h = (r**2 - A**2)**(0.5)\n",
    "            x2 = S[0] + (P[0] - S[0]) / 2\n",
    "            y2 = S[1] + (P[1] - S[1]) / 2\n",
    "            x3 = round(x2 - h * (P[1] - S[1]) / l1,2)\n",
    "            y3 = round(y2 + h * (P[0] - S[0]) / l1,2)\n",
    "            x4 = round(x2 + h * (P[1] - S[1]) / l1,2)\n",
    "            y4 = round(y2 - h * (P[0] - S[0]) / l1,2)\n",
    "            \n",
    "            #calculamos distancia entre los puntos de corte (hipotenusa)\n",
    "            l2  = ((x3 - x4)**2 + (y3 - y4)**2)**(0.5)\n",
    "            \n",
    "            #area arco \n",
    "            Aa = (math.degrees(math.acos ((2 * r**2 - l2**2)/(2 * r**2)))/360) * 3.14 * r**2\n",
    "            \n",
    "            #area triangulo\n",
    "            At = (l2 * l1/2) / 2\n",
    "            \n",
    "            #area interseccion\n",
    "            AT = (Aa - At) * 2 \n",
    "    \n",
    "    print (int(AT))"
   ]
  },
  {
   "cell_type": "code",
   "execution_count": null,
   "metadata": {},
   "outputs": [],
   "source": [
    "import math\n",
    "def ciAm (S, P, r):\n",
    "    if S == P:\n",
    "        AT = 3.14 * r**2\n",
    "    else:\n",
    "        l1  = ((P[0] - S[0])**2 + (P[1] - S[1])**2)**(0.5)\n",
    "        if l1 >= 2*r:\n",
    "            AT = 0\n",
    "        else:\n",
    "            h = (r**2 - (l1 / 2)**2)**(0.5)\n",
    "            x = (S[0] + P[0]) / 2\n",
    "            y = (S[1] + P[1]) / 2 \n",
    "            x1 = x - h * (P[1] - S[1]) / l1\n",
    "            y1 = y + h * (P[0] - S[0]) / l1\n",
    "            x2 = x + h * (P[1] - S[1]) / l1\n",
    "            y2 = y - h * (P[0] - S[0]) / l1\n",
    "            l2  = ((x1 - x2)**2 + (y1 - y2)**2)**(0.5)\n",
    "            Aa = (math.degrees(math.acos ((2 * r**2 - l2**2)/(2 * r**2)))/360) * 3.14 * r**2\n",
    "            #area interseccion\n",
    "            AT = 2*Aa - (l2 * l1/2)\n",
    "    \n",
    "    return (int(AT))"
   ]
  },
  {
   "cell_type": "code",
   "execution_count": null,
   "metadata": {},
   "outputs": [],
   "source": [
    "S = [0,0]\n",
    "P = [7,0]\n",
    "r = 5\n",
    "print (S,P,r, ciAm (S, P, r))\n",
    "S = [0,0]\n",
    "P = [0,10]\n",
    "r = 10\n",
    "print (S,P,r, ciAm (S, P, r))\n",
    "S = [5,6]\n",
    "P = [5,6]\n",
    "r = 3\n",
    "print (S,P,r, ciAm (S, P, r))\n",
    "S = [-5, 0]\n",
    "P = [5, 0]\n",
    "r = 3\n",
    "print (S,P,r, ciAm (S, P, r))\n",
    "S = [10, 20]\n",
    "P = [-5, -15]\n",
    "r = 20\n",
    "print (S,P,r, ciAm (S, P, r))\n",
    "S = [-7, 13]\n",
    "P = [-25, -5]\n",
    "r = 17\n",
    "print (S,P,r, ciAm (S, P, r))\n",
    "S = [-20,-4]\n",
    "P = [-40,29]\n",
    "r = 7\n",
    "print (S,P,r, ciAm (S, P, r))\n",
    "S = [38, -18]\n",
    "P = [46, -29]\n",
    "r = 10\n",
    "print (S,P,r, ciAm (S, P, r))\n",
    "S = [-29, 33]\n",
    "P = [-8, 13]\n",
    "r = 15\n",
    "print (S,P,r, ciAm (S, P, r))\n",
    "S = [-12, 20]\n",
    "P = [43, -49]\n",
    "r = 23\n",
    "print (S,P,r, ciAm (S, P, r))"
   ]
  },
  {
   "cell_type": "code",
   "execution_count": null,
   "metadata": {},
   "outputs": [],
   "source": [
    "### solucion simplificacion maxima\n",
    "import math\n",
    "def ciAm2a (S,P,r):\n",
    "    r2=r**2\n",
    "    if S==P:\n",
    "        AT=3.14*r2\n",
    "    else:\n",
    "        c0=P[0]-S[0]\n",
    "        c1=P[1]-S[1]\n",
    "        l1 =((c0)**2+(c1)**2)**(0.5)\n",
    "        if l1>=2*r:\n",
    "            AT=0\n",
    "        else:\n",
    "            h=(r2-(l1/2)**2)**(0.5)\n",
    "            l2=(((c1/l1)*(-2)*h)**2+(c0/l1*(-2)*h)**2)**(0.5)\n",
    "            Aa=(math.degrees(math.acos ((2*r2-l2**2)/(2*r2)))/360)*3.14*r2\n",
    "            AT=2*Aa - (l2 * l1/2)\n",
    "    return (int(AT))"
   ]
  },
  {
   "cell_type": "code",
   "execution_count": null,
   "metadata": {},
   "outputs": [],
   "source": [
    "### solucion simplificacion maxima (mejorada)\n",
    "import math\n",
    "def ciAm3a (S,P,r):\n",
    "    r2=r**2\n",
    "    if S==P:\n",
    "        AT=3.14*r2\n",
    "    else:\n",
    "        if math.dist(S,P)>=2*r:\n",
    "            AT=0\n",
    "        else:\n",
    "            l2=2*(r2-(math.dist(S,P)/2)**2)**(0.5)\n",
    "            print(l2)\n",
    "            Aa=(math.degrees(math.acos ((2*r2-l2**2)/(2*r2)))/360)*3.14*r2\n",
    "            AT=2*Aa - (l2 * math.dist(S,P)/2)\n",
    "    return (int(AT))"
   ]
  },
  {
   "cell_type": "code",
   "execution_count": null,
   "metadata": {},
   "outputs": [],
   "source": [
    "### solucion simplificacion maxima (mejorada)\n",
    "import math\n",
    "def ciAm3b (S,P,r):\n",
    "    r2=r**2\n",
    "    if S==P:\n",
    "        AT=3.14*r2\n",
    "    else:\n",
    "        if math.dist(S,P)>=2*r:\n",
    "            AT=0\n",
    "        else:\n",
    "            #l2=(2*(r2-(math.dist(S,P)/2)**2)**(0.5))\n",
    "            #print(l2)\n",
    "            Aa=(math.degrees(math.acos ((2*r2-(2*(r2-(math.dist(S,P)/2)**2)**(0.5))**2)/(2*r2)))/360)*3.14*r2\n",
    "            AT=2*Aa - ((2*(r2-(math.dist(S,P)/2)**2)**(0.5)) * math.dist(S,P)/2)\n",
    "    return (int(AT))"
   ]
  },
  {
   "cell_type": "code",
   "execution_count": null,
   "metadata": {},
   "outputs": [],
   "source": [
    "### solucion simplificacion maxima (mejorada)\n",
    "import math\n",
    "def ciAm3c (S,P,r):\n",
    "    r2=r**2\n",
    "    if S==P:\n",
    "        AT=3.14*r2\n",
    "    else:\n",
    "        if math.dist(S,P)>=2*r:\n",
    "            AT=0\n",
    "        else:\n",
    "            Aa=(math.degrees(math.acos ((2*r2-(2*(r2-(math.dist(S,P)/2)**2)**0.5)**2)/(2*r2)))/360)*3.14*r2\n",
    "            #AT=2*Aa - (4*r2-math.dist(S,P)**2)**0.5 * math.dist(S,P)/2\n",
    "            AT=2*Aa-math.dist(S,P)*(r2-math.dist(S,P)**2/4)**0.5\n",
    "    return (int(AT))"
   ]
  },
  {
   "cell_type": "code",
   "execution_count": null,
   "metadata": {},
   "outputs": [],
   "source": [
    "### solucion simplificacion maxima (mejorada)\n",
    "import math\n",
    "def ciAm3d (a,b,r):\n",
    "    r2=r**2\n",
    "    if a==b:\n",
    "        AT=3.14*r2\n",
    "    else:\n",
    "        if math.dist(a,b)>=2*r:\n",
    "            AT=0\n",
    "        else:\n",
    "            #Aa=(180/3.14*(math.acos ((2*r2-(2*(r2-(math.dist(a,b)/2)**2)**0.5)**2)/(2*r2)))/360)*3.14*r2\n",
    "            Aa = math.acos ((2*r2-(2*(r2-(math.dist(a,b)**2/4))**0.5)**2)/(2*r2))/2*r2\n",
    "            AT=2*Aa-math.dist(a,b)*(r2-math.dist(a,b)**2/4)**0.5\n",
    "    return (int(AT))"
   ]
  },
  {
   "cell_type": "code",
   "execution_count": null,
   "metadata": {},
   "outputs": [],
   "source": [
    "### solucion simplificacion maxima (mejorada)\n",
    "import math\n",
    "def ciAm3e (a,b,r):\n",
    "    r2=r**2\n",
    "    if a==b:\n",
    "        AT=3.14*r2\n",
    "    else:\n",
    "        if math.dist(a,b)>=2*r:\n",
    "            AT=0\n",
    "        else:\n",
    "            Aa = math.acos ((2*r2-(2*(r2-(math.dist(a,b)**2/4))**0.5)**2)/(2*r2))/2*r2\n",
    "            AT=2*Aa-math.dist(a,b)*(r2-math.dist(a,b)**2/4)**0.5\n",
    "    return (int(AT))"
   ]
  },
  {
   "cell_type": "code",
   "execution_count": null,
   "metadata": {},
   "outputs": [],
   "source": [
    "### solucion simplificacion maxima (mejorada)\n",
    "import math\n",
    "def ciAm3f (a,b,r):\n",
    "    r2=r**2\n",
    "    if a==b:\n",
    "        AT=3.14*r2\n",
    "    else:\n",
    "        if math.dist(a,b)>=2*r:\n",
    "            AT=0\n",
    "        else:\n",
    "            AT= 2*(math.acos ((2*r2-((4*r2-math.dist(a,b)**2)**0.5)**2)/(2*r2))/ 2*r2) - math.dist(a,b)*(r2-math.dist(a,b)**2/4)**0.5\n",
    "    return (int(AT))"
   ]
  },
  {
   "cell_type": "code",
   "execution_count": 71,
   "metadata": {},
   "outputs": [],
   "source": [
    "import math\n",
    "def ciAm3 (a,b,r):\n",
    "    if math.dist(a,b)>=2*r:\n",
    "            AT=0\n",
    "    else:\n",
    "        AT= 2*(math.acos((2*r**2-((4*r**2-math.dist(a,b)**2)**0.5)**2)/(2*r**2))/2*r**2)-math.dist(a,b)*(r**2-math.dist(a,b)**2/4)**0.5\n",
    "    return (int(AT))"
   ]
  },
  {
   "cell_type": "code",
   "execution_count": 80,
   "metadata": {},
   "outputs": [],
   "source": [
    "import math\n",
    "def ciAm3 (a,b,r):\n",
    "    if math.dist(a,b)>=2*r:\n",
    "            AT=0\n",
    "    else:\n",
    "        AT= int(r**2*(2*math.acos(math.dist(a,b)/r)- math.sin(2*math.aco(math.dist(a,b)/r))))\n",
    "    return (AT)\n"
   ]
  },
  {
   "cell_type": "code",
   "execution_count": 81,
   "metadata": {},
   "outputs": [
    {
     "ename": "ValueError",
     "evalue": "math domain error",
     "output_type": "error",
     "traceback": [
      "\u001b[1;31m---------------------------------------------------------------------------\u001b[0m",
      "\u001b[1;31mValueError\u001b[0m                                Traceback (most recent call last)",
      "\u001b[1;32m<ipython-input-81-7ad9b42a2077>\u001b[0m in \u001b[0;36m<module>\u001b[1;34m\u001b[0m\n\u001b[0;32m      2\u001b[0m \u001b[0mP\u001b[0m \u001b[1;33m=\u001b[0m \u001b[1;33m[\u001b[0m\u001b[1;36m7\u001b[0m\u001b[1;33m,\u001b[0m\u001b[1;36m0\u001b[0m\u001b[1;33m]\u001b[0m\u001b[1;33m\u001b[0m\u001b[1;33m\u001b[0m\u001b[0m\n\u001b[0;32m      3\u001b[0m \u001b[0mr\u001b[0m \u001b[1;33m=\u001b[0m \u001b[1;36m5\u001b[0m\u001b[1;33m\u001b[0m\u001b[1;33m\u001b[0m\u001b[0m\n\u001b[1;32m----> 4\u001b[1;33m \u001b[0mprint\u001b[0m \u001b[1;33m(\u001b[0m\u001b[0mS\u001b[0m\u001b[1;33m,\u001b[0m\u001b[0mP\u001b[0m\u001b[1;33m,\u001b[0m\u001b[0mr\u001b[0m\u001b[1;33m,\u001b[0m \u001b[0mciAm3\u001b[0m \u001b[1;33m(\u001b[0m\u001b[0mS\u001b[0m\u001b[1;33m,\u001b[0m \u001b[0mP\u001b[0m\u001b[1;33m,\u001b[0m \u001b[0mr\u001b[0m\u001b[1;33m)\u001b[0m\u001b[1;33m)\u001b[0m\u001b[1;33m\u001b[0m\u001b[1;33m\u001b[0m\u001b[0m\n\u001b[0m\u001b[0;32m      5\u001b[0m \u001b[0mS\u001b[0m \u001b[1;33m=\u001b[0m \u001b[1;33m[\u001b[0m\u001b[1;36m0\u001b[0m\u001b[1;33m,\u001b[0m\u001b[1;36m0\u001b[0m\u001b[1;33m]\u001b[0m\u001b[1;33m\u001b[0m\u001b[1;33m\u001b[0m\u001b[0m\n\u001b[0;32m      6\u001b[0m \u001b[0mP\u001b[0m \u001b[1;33m=\u001b[0m \u001b[1;33m[\u001b[0m\u001b[1;36m0\u001b[0m\u001b[1;33m,\u001b[0m\u001b[1;36m10\u001b[0m\u001b[1;33m]\u001b[0m\u001b[1;33m\u001b[0m\u001b[1;33m\u001b[0m\u001b[0m\n",
      "\u001b[1;32m<ipython-input-80-c2bd1352d608>\u001b[0m in \u001b[0;36mciAm3\u001b[1;34m(a, b, r)\u001b[0m\n\u001b[0;32m      4\u001b[0m             \u001b[0mAT\u001b[0m\u001b[1;33m=\u001b[0m\u001b[1;36m0\u001b[0m\u001b[1;33m\u001b[0m\u001b[1;33m\u001b[0m\u001b[0m\n\u001b[0;32m      5\u001b[0m     \u001b[1;32melse\u001b[0m\u001b[1;33m:\u001b[0m\u001b[1;33m\u001b[0m\u001b[1;33m\u001b[0m\u001b[0m\n\u001b[1;32m----> 6\u001b[1;33m         \u001b[0mAT\u001b[0m\u001b[1;33m=\u001b[0m \u001b[0mint\u001b[0m\u001b[1;33m(\u001b[0m\u001b[0mr\u001b[0m\u001b[1;33m**\u001b[0m\u001b[1;36m2\u001b[0m\u001b[1;33m*\u001b[0m\u001b[1;33m(\u001b[0m\u001b[1;36m2\u001b[0m\u001b[1;33m*\u001b[0m\u001b[0mmath\u001b[0m\u001b[1;33m.\u001b[0m\u001b[0macos\u001b[0m\u001b[1;33m(\u001b[0m\u001b[0mmath\u001b[0m\u001b[1;33m.\u001b[0m\u001b[0mdist\u001b[0m\u001b[1;33m(\u001b[0m\u001b[0ma\u001b[0m\u001b[1;33m,\u001b[0m\u001b[0mb\u001b[0m\u001b[1;33m)\u001b[0m\u001b[1;33m/\u001b[0m\u001b[0mr\u001b[0m\u001b[1;33m)\u001b[0m\u001b[1;33m-\u001b[0m \u001b[0mmath\u001b[0m\u001b[1;33m.\u001b[0m\u001b[0msin\u001b[0m\u001b[1;33m(\u001b[0m\u001b[1;36m2\u001b[0m\u001b[1;33m*\u001b[0m\u001b[0mmath\u001b[0m\u001b[1;33m.\u001b[0m\u001b[0maco\u001b[0m\u001b[1;33m(\u001b[0m\u001b[0mmath\u001b[0m\u001b[1;33m.\u001b[0m\u001b[0mdist\u001b[0m\u001b[1;33m(\u001b[0m\u001b[0ma\u001b[0m\u001b[1;33m,\u001b[0m\u001b[0mb\u001b[0m\u001b[1;33m)\u001b[0m\u001b[1;33m/\u001b[0m\u001b[0mr\u001b[0m\u001b[1;33m)\u001b[0m\u001b[1;33m)\u001b[0m\u001b[1;33m)\u001b[0m\u001b[1;33m)\u001b[0m\u001b[1;33m\u001b[0m\u001b[1;33m\u001b[0m\u001b[0m\n\u001b[0m\u001b[0;32m      7\u001b[0m     \u001b[1;32mreturn\u001b[0m \u001b[1;33m(\u001b[0m\u001b[0mAT\u001b[0m\u001b[1;33m)\u001b[0m\u001b[1;33m\u001b[0m\u001b[1;33m\u001b[0m\u001b[0m\n",
      "\u001b[1;31mValueError\u001b[0m: math domain error"
     ]
    }
   ],
   "source": [
    "S = [0,0]\n",
    "P = [7,0]\n",
    "r = 5\n",
    "print (S,P,r, ciAm3 (S, P, r))\n",
    "S = [0,0]\n",
    "P = [0,10]\n",
    "r = 10\n",
    "print (S,P,r, ciAm3 (S, P, r))\n",
    "S = [5,6]\n",
    "P = [5,6]\n",
    "r = 3\n",
    "print (S,P,r, ciAm3 (S, P, r))\n",
    "S = [-5, 0]\n",
    "P = [5, 0]\n",
    "r = 3\n",
    "print (S,P,r, ciAm3 (S, P, r))\n",
    "S = [10, 20]\n",
    "P = [-5, -15]\n",
    "r = 20\n",
    "print (S,P,r, ciAm3 (S, P, r))\n",
    "S = [-7, 13]\n",
    "P = [-25, -5]\n",
    "r = 17\n",
    "print (S,P,r, ciAm3 (S, P, r))\n",
    "S = [-20,-4]\n",
    "P = [-40,29]\n",
    "r = 7\n",
    "print (S,P,r, ciAm3 (S, P, r))\n",
    "S = [38, -18]\n",
    "P = [46, -29]\n",
    "r = 10\n",
    "print (S,P,r, ciAm3 (S, P, r))\n",
    "S = [-29, 33]\n",
    "P = [-8, 13]\n",
    "r = 15\n",
    "print (S,P,r, ciAm3 (S, P, r))\n",
    "S = [-12, 20]\n",
    "P = [43, -49]\n",
    "r = 23\n",
    "print (S,P,r, ciAm3 (S, P, r))"
   ]
  },
  {
   "cell_type": "code",
   "execution_count": null,
   "metadata": {},
   "outputs": [],
   "source": [
    "import math\n",
    "circleIntersection=lambda a,b,r: 0 if math.dist(a,b)>=2*r else int(2*(math.acos((2*r**2-((4*r**2-math.dist(a,b)**2)**0.5)**2)/(2*r**2))/2*r**2)-math.dist(a,b)*(r**2-math.dist(a,b)**2/4)**0.5)"
   ]
  },
  {
   "cell_type": "code",
   "execution_count": null,
   "metadata": {},
   "outputs": [],
   "source": [
    "def circleIntersection(a,b,r):\n",
    "    d=math.hypot(a[0]-b[0],a[1]-b[1])/2\n",
    "    a=2*math.acos(d/r)if r>d else 0\n",
    "    return int(r*r*(a-math.sin(a)))"
   ]
  },
  {
   "cell_type": "code",
   "execution_count": null,
   "metadata": {},
   "outputs": [],
   "source": [
    "import math\n",
    "def circleIntersection(a,b,r):\n",
    "    d=math.dist(a,b)/2\n",
    "    a=2*math.acos(d/r)if r>d else 0\n",
    "    return int(r*r*(a-math.sin(a)))"
   ]
  },
  {
   "cell_type": "code",
   "execution_count": null,
   "metadata": {},
   "outputs": [],
   "source": [
    "import math\n",
    "def circleIntersection(a,b,r):\n",
    "    a=2*math.acos(math.dist(a,b)/2/r) if 2*r > math.dist(a,b) else 0\n",
    "    return int(r*r*(a-math.sin(a)))"
   ]
  },
  {
   "cell_type": "code",
   "execution_count": 47,
   "metadata": {},
   "outputs": [],
   "source": [
    "import math\n",
    "def circleIntersection(a,b,r):\n",
    "    if 2*r > math.dist(a,b):\n",
    "        return int(r*r*(2*math.acos(math.dist(a,b)/2/r)-math.sin(2*math.acos(math.dist(a,b)/2/r))))\n",
    "    else:\n",
    "        T = 0\n",
    "    return T"
   ]
  },
  {
   "cell_type": "code",
   "execution_count": null,
   "metadata": {},
   "outputs": [],
   "source": [
    "a=2*math.acos((math.dist(a,b)/2)/r)if r>d else 0\n",
    "int(r**2*((2*math.acos(math.dist(a,b)*r/2))-math.sin(2*math.acos(math.dist(a,b)*r/2))))"
   ]
  },
  {
   "cell_type": "code",
   "execution_count": 45,
   "metadata": {},
   "outputs": [],
   "source": [
    "import math\n",
    "def circleIntersection(a,b,r):\n",
    "    if 2*r > math.dist(a,b):\n",
    "        return int(r*r*(2*math.acos(math.dist(a,b)*0.1)-math.dist(a,b)/r*(1-(math.dist(a,b)*0.1)**2)**0.5))\n",
    "    else:\n",
    "        T = 0\n",
    "    return T"
   ]
  },
  {
   "cell_type": "code",
   "execution_count": null,
   "metadata": {},
   "outputs": [],
   "source": [
    "import math;circleIntersection=lambda a,b,r,d=math.dist(a,b):int(r*r*(2*math.acos(d*0.1)-d/r*(1-d*0.1**2)**0.5)) if 2*r>d else 0"
   ]
  },
  {
   "cell_type": "code",
   "execution_count": 40,
   "metadata": {},
   "outputs": [
    {
     "ename": "NameError",
     "evalue": "name 'a' is not defined",
     "output_type": "error",
     "traceback": [
      "\u001b[1;31m---------------------------------------------------------------------------\u001b[0m",
      "\u001b[1;31mNameError\u001b[0m                                 Traceback (most recent call last)",
      "\u001b[1;32m<ipython-input-40-53092a0a6074>\u001b[0m in \u001b[0;36m<module>\u001b[1;34m\u001b[0m\n\u001b[1;32m----> 1\u001b[1;33m \u001b[1;32mimport\u001b[0m \u001b[0mmath\u001b[0m\u001b[1;33m;\u001b[0m\u001b[0mcircleIntersection\u001b[0m\u001b[1;33m=\u001b[0m\u001b[1;32mlambda\u001b[0m \u001b[0mr\u001b[0m\u001b[1;33m,\u001b[0m\u001b[0md\u001b[0m\u001b[1;33m=\u001b[0m\u001b[0mmath\u001b[0m\u001b[1;33m.\u001b[0m\u001b[0mdist\u001b[0m\u001b[1;33m(\u001b[0m\u001b[0ma\u001b[0m\u001b[1;33m,\u001b[0m\u001b[0mb\u001b[0m\u001b[1;33m)\u001b[0m\u001b[1;33m,\u001b[0m\u001b[0mz\u001b[0m\u001b[1;33m=\u001b[0m\u001b[0md\u001b[0m\u001b[1;33m*\u001b[0m\u001b[1;36m0.1\u001b[0m\u001b[1;33m:\u001b[0m\u001b[0mint\u001b[0m\u001b[1;33m(\u001b[0m\u001b[0mr\u001b[0m\u001b[1;33m*\u001b[0m\u001b[0mr\u001b[0m\u001b[1;33m*\u001b[0m\u001b[1;33m(\u001b[0m\u001b[1;36m2\u001b[0m\u001b[1;33m*\u001b[0m\u001b[0mmath\u001b[0m\u001b[1;33m.\u001b[0m\u001b[0macos\u001b[0m\u001b[1;33m(\u001b[0m\u001b[0mz\u001b[0m\u001b[1;33m)\u001b[0m\u001b[1;33m-\u001b[0m\u001b[0md\u001b[0m\u001b[1;33m/\u001b[0m\u001b[0mr\u001b[0m\u001b[1;33m*\u001b[0m\u001b[1;33m(\u001b[0m\u001b[1;36m1\u001b[0m\u001b[1;33m-\u001b[0m\u001b[0mz\u001b[0m\u001b[1;33m**\u001b[0m\u001b[1;36m2\u001b[0m\u001b[1;33m)\u001b[0m\u001b[1;33m**\u001b[0m\u001b[1;36m0.5\u001b[0m\u001b[1;33m)\u001b[0m\u001b[1;33m)\u001b[0m\u001b[1;32mif\u001b[0m \u001b[1;36m2\u001b[0m\u001b[1;33m*\u001b[0m\u001b[0mr\u001b[0m\u001b[1;33m>\u001b[0m\u001b[0md\u001b[0m \u001b[1;32melse\u001b[0m \u001b[1;36m0\u001b[0m\u001b[1;33m\u001b[0m\u001b[1;33m\u001b[0m\u001b[0m\n\u001b[0m",
      "\u001b[1;31mNameError\u001b[0m: name 'a' is not defined"
     ]
    }
   ],
   "source": [
    "import math;circleIntersection=lambda r,d=math.dist(a,b),z=d*0.1:int(r*r*(2*math.acos(z)-d/r*(1-z**2)**0.5))if 2*r>d else 0"
   ]
  },
  {
   "cell_type": "code",
   "execution_count": 76,
   "metadata": {},
   "outputs": [],
   "source": [
    "import math as m\n",
    "def circleIntersection(a,b,r):\n",
    "    if 2*r > m.dist(a,b):\n",
    "        return int(r*r*2*m.acos(m.dist(a,b)/r/2)-m.dist(a,b)*r*(1-(m.dist(a,b)/r/2)**2)**0.5)\n",
    "    else:\n",
    "        T = 0\n",
    "    return T"
   ]
  },
  {
   "cell_type": "code",
   "execution_count": null,
   "metadata": {},
   "outputs": [],
   "source": [
    "import math as m\n",
    "def circleIntersection(a,b,r):\n",
    "    if 2*r > m.dist(a,b):\n",
    "        return int(r*r*2*m.acos(m.dist(a,b)/r/2)- r.dist(a,b))\n",
    "    else:\n",
    "        T = 0\n",
    "    return T"
   ]
  },
  {
   "cell_type": "code",
   "execution_count": null,
   "metadata": {},
   "outputs": [],
   "source": [
    "#calculo del angulo\n",
    "            ang = math.degrees(math.acos ((r**2 + r**2 - l2**2)/(2 * r**2)))\n",
    "            print (\"angulo:\",ang)\n",
    "            \n",
    "            Aa = (ang/360) * 3.14 * r**2\n",
    "            print (\"Aa:\",Aa)"
   ]
  },
  {
   "cell_type": "code",
   "execution_count": 35,
   "metadata": {},
   "outputs": [
    {
     "name": "stdout",
     "output_type": "stream",
     "text": [
      "l2 17.32 h 14.142135623730951\n",
      "s1 43.3 s2 43.30127018922194\n",
      "Aa 104.66158870892757 Ap 104.71975511965978\n"
     ]
    }
   ],
   "source": [
    "import math as m\n",
    "S = [0,0]\n",
    "P = [0,10]\n",
    "r = 10\n",
    "\n",
    "l1  = ((P[0] - S[0])**2 + (P[1] - S[1])**2)**(0.5)\n",
    "A = l1 / 2\n",
    "h = (r**2 - A**2)**(0.5)\n",
    "x2 = S[0] + (P[0] - S[0]) / 2\n",
    "y2 = S[1] + (P[1] - S[1]) / 2\n",
    "x3 = round(x2 - h * (P[1] - S[1]) / l1,2)\n",
    "y3 = round(y2 + h * (P[0] - S[0]) / l1,2)\n",
    "x4 = round(x2 + h * (P[1] - S[1]) / l1,2)\n",
    "y4 = round(y2 - h * (P[0] - S[0]) / l1,2)\n",
    "#calculamos distancia entre los puntos de corte (hipotenusa)\n",
    "l2  = ((x3 - x4)**2 + (y3 - y4)**2)**(0.5)\n",
    "#area triangulo\n",
    "At = (l2 * l1/2) / 2\n",
    "Aa = (m.degrees(m.acos ((2 * r**2 - l2**2)/(2 * r**2)))/360) * 3.14 * r**2\n",
    "\n",
    "print ('l2',l2,'h',r*(2**.5))\n",
    "\n",
    "#print ('s1', At, 's2', .3535*r*m.dist(S,P))\n",
    "print ('s1', At, 's2', .25*(4*r*r-m.dist(S,P)**2)**.5*m.dist(S,P))\n",
    "print ('Aa',Aa,'Ap',r*r*m.acos(m.dist(S,P)/r/2))"
   ]
  },
  {
   "cell_type": "code",
   "execution_count": null,
   "metadata": {},
   "outputs": [],
   "source": [
    "#area arco \n",
    "            Aa = (math.degrees(math.acos ((2 * r**2 - l2**2)/(2 * r**2)))/360) * 3.14 * r**2"
   ]
  },
  {
   "cell_type": "code",
   "execution_count": 30,
   "metadata": {},
   "outputs": [],
   "source": [
    "import math as m\n",
    "def circleIntersection(a,b,r):\n",
    "    if 2*r > m.dist(a,b):\n",
    "        return int(  2*   ((.5*r*r*m.acos(.5*(2-(m.dist(a,b)/r)**2))) - .25*(4*r*r-m.dist(S,P)**2)**.5*m.dist(S,P)))\n",
    "    else:\n",
    "        T = 0\n",
    "    return T"
   ]
  },
  {
   "cell_type": "code",
   "execution_count": 31,
   "metadata": {},
   "outputs": [
    {
     "name": "stdout",
     "output_type": "stream",
     "text": [
      "[0, 0] [7, 0] 5 13\n",
      "[0, 0] [0, 10] 10 18\n",
      "[5, 6] [5, 6] 3 0\n"
     ]
    }
   ],
   "source": [
    "S = [0,0]\n",
    "P = [7,0]\n",
    "r = 5\n",
    "print (S,P,r, circleIntersection (S, P, r))\n",
    "S = [0,0]\n",
    "P = [0,10]\n",
    "r = 10\n",
    "print (S,P,r, circleIntersection (S, P, r))\n",
    "S = [5,6]\n",
    "P = [5,6]\n",
    "r = 3\n",
    "print (S,P,r, circleIntersection (S, P, r))"
   ]
  },
  {
   "cell_type": "code",
   "execution_count": 62,
   "metadata": {},
   "outputs": [
    {
     "name": "stdout",
     "output_type": "stream",
     "text": [
      "0.7\n"
     ]
    }
   ],
   "source": [
    "S = [0,0]\n",
    "P = [7,0]\n",
    "r = 5\n",
    "print (math.dist(S,P)/2/r)"
   ]
  },
  {
   "cell_type": "code",
   "execution_count": 67,
   "metadata": {},
   "outputs": [
    {
     "name": "stdout",
     "output_type": "stream",
     "text": [
      "7.0\n",
      "17.5\n",
      "0.7\n"
     ]
    }
   ],
   "source": [
    "S = [0,0]\n",
    "P = [7,0]\n",
    "r = 5\n",
    "print (math.dist(S,P))\n",
    "print (math.dist(S,P)/2*r)\n",
    "print (math.dist(S,P)/r/2)"
   ]
  },
  {
   "cell_type": "code",
   "execution_count": 66,
   "metadata": {},
   "outputs": [
    {
     "name": "stdout",
     "output_type": "stream",
     "text": [
      "10.0\n",
      "0.5\n",
      "0.5\n"
     ]
    }
   ],
   "source": [
    "S = [0,0]\n",
    "P = [0,10]\n",
    "r = 10\n",
    "print (math.dist(S,P))\n",
    "print (math.dist(S,P)/(2*r))\n",
    "print (math.dist(S,P)/2/r)"
   ]
  },
  {
   "cell_type": "code",
   "execution_count": null,
   "metadata": {},
   "outputs": [],
   "source": [
    "import math as m;circleIntersection=lambda a,b,r:2*int(r*r*m.acos(m.dist(a,b)/r/2)-.25*(4*r*r-m.dist(a,b)**2)**.5*m.dist(a,b))"
   ]
  },
  {
   "cell_type": "code",
   "execution_count": null,
   "metadata": {},
   "outputs": [],
   "source": [
    "from math import*;circleIntersection=lambda a,b,r: 2*int(r*r*acos(dist(a,b)/r/2)-.25*(4*r*r-dist(a,b)**2)**.5*dist(a,b))"
   ]
  }
 ],
 "metadata": {
  "kernelspec": {
   "display_name": "Python 3",
   "language": "python",
   "name": "python3"
  },
  "language_info": {
   "codemirror_mode": {
    "name": "ipython",
    "version": 3
   },
   "file_extension": ".py",
   "mimetype": "text/x-python",
   "name": "python",
   "nbconvert_exporter": "python",
   "pygments_lexer": "ipython3",
   "version": "3.8.5"
  }
 },
 "nbformat": 4,
 "nbformat_minor": 4
}
