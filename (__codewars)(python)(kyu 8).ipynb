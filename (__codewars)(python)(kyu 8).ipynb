{
 "cells": [
  {
   "cell_type": "code",
   "execution_count": 46,
   "metadata": {},
   "outputs": [],
   "source": [
    "def abbrev_name(name):\n",
    "    \n",
    "    txt = name\n",
    "    x = txt.split()\n",
    "    return x"
   ]
  },
  {
   "cell_type": "code",
   "execution_count": 47,
   "metadata": {},
   "outputs": [
    {
     "name": "stdout",
     "output_type": "stream",
     "text": [
      "['Sam', 'Harris']\n"
     ]
    }
   ],
   "source": [
    "print (abbrev_name(\"Sam Harris\"))"
   ]
  },
  {
   "cell_type": "code",
   "execution_count": null,
   "metadata": {},
   "outputs": [],
   "source": []
  },
  {
   "cell_type": "code",
   "execution_count": null,
   "metadata": {},
   "outputs": [],
   "source": []
  },
  {
   "cell_type": "code",
   "execution_count": null,
   "metadata": {},
   "outputs": [],
   "source": [
    "##-----------------------------------------------\n",
    "##--(ENDESA Ninja -- training session)-----------\n",
    "##-----------------------------------------------\n",
    "## 8 kyu\n",
    "## Convert a Number to a String!\n",
    "## DONE  (2022-08-16)\n",
    "##-----------------------------------------------\n",
    "##-----------------------------------------------"
   ]
  },
  {
   "cell_type": "code",
   "execution_count": null,
   "metadata": {},
   "outputs": [],
   "source": [
    "## solucion\n",
    "def number_to_string(num):\n",
    "    return str(num)\n",
    "    # Return a string of the number here!"
   ]
  },
  {
   "cell_type": "code",
   "execution_count": null,
   "metadata": {},
   "outputs": [],
   "source": [
    "##-----------------------------------------------\n",
    "##-----------------------------------------------\n",
    "##-----------------------------------------------\n",
    "##-----------------------------------------------"
   ]
  },
  {
   "cell_type": "code",
   "execution_count": null,
   "metadata": {},
   "outputs": [],
   "source": [
    "##-----------------------------------------------\n",
    "##--(ENDESA Ninja -- training session)-----------\n",
    "##-----------------------------------------------\n",
    "## 8 kyu\n",
    "## Summ Possitive Number\n",
    "## inicio (2022-08-18)\n",
    "## DONE   (2022-08-18)\n",
    "##-----------------------------------------------\n",
    "##-----------------------------------------------"
   ]
  },
  {
   "cell_type": "code",
   "execution_count": null,
   "metadata": {},
   "outputs": [],
   "source": [
    "def positive_sum(arr):\n",
    "     # Your code here  \n",
    "    s = 0\n",
    "    \n",
    "    if len(arr) == 0:\n",
    "        return 0\n",
    "    \n",
    "    for n in arr:\n",
    "        if n >= 0:\n",
    "            s = n + s\n",
    "    return s"
   ]
  },
  {
   "cell_type": "code",
   "execution_count": null,
   "metadata": {},
   "outputs": [],
   "source": [
    "##-----------------------------------------------\n",
    "##-----------------------------------------------\n",
    "##-----------------------------------------------\n",
    "##-----------------------------------------------"
   ]
  },
  {
   "cell_type": "code",
   "execution_count": null,
   "metadata": {},
   "outputs": [],
   "source": [
    "##-----------------------------------------------\n",
    "##--(ENDESA Ninja -- training session)-----------\n",
    "##-----------------------------------------------\n",
    "## 8 kyu\n",
    "## Abbreviate a Two Word Name\n",
    "## inicio (2022-08-18)\n",
    "## DONE   (2022-08-18)\n",
    "##-----------------------------------------------\n",
    "##-----------------------------------------------"
   ]
  },
  {
   "cell_type": "code",
   "execution_count": 263,
   "metadata": {},
   "outputs": [],
   "source": [
    "def abbrev_name(name):\n",
    "    xs = (name)\n",
    "    nl = xs. split()\n",
    "\n",
    "    letter_1 = nl[0][0]\n",
    "    letter_2 = nl[1][0]\n",
    "    \n",
    "    return (letter_1.upper() + '.' + letter_2.upper())"
   ]
  },
  {
   "cell_type": "code",
   "execution_count": 264,
   "metadata": {},
   "outputs": [
    {
     "name": "stdout",
     "output_type": "stream",
     "text": [
      "S.H\n"
     ]
    }
   ],
   "source": [
    "print (abbrev_name(\"Sam Harris\"))"
   ]
  },
  {
   "cell_type": "code",
   "execution_count": null,
   "metadata": {},
   "outputs": [],
   "source": [
    "##-----------------------------------------------\n",
    "##-----------------------------------------------\n",
    "##-----------------------------------------------\n",
    "##-----------------------------------------------"
   ]
  },
  {
   "cell_type": "code",
   "execution_count": null,
   "metadata": {},
   "outputs": [],
   "source": [
    "##-----------------------------------------------\n",
    "##--(ENDESA Ninja -- training session)-----------\n",
    "##-----------------------------------------------\n",
    "## 8 kyu\n",
    "## Multiply\n",
    "## inicio \n",
    "## DONE   \n",
    "##-----------------------------------------------\n",
    "##-----------------------------------------------"
   ]
  },
  {
   "cell_type": "code",
   "execution_count": null,
   "metadata": {},
   "outputs": [],
   "source": [
    "## da error porque falta el  return\n",
    "## def multiply(a, b):\n",
    "##     a * b\n",
    "\n",
    "def multiply(a, b):\n",
    "    return a * b"
   ]
  },
  {
   "cell_type": "code",
   "execution_count": null,
   "metadata": {},
   "outputs": [],
   "source": [
    "##-----------------------------------------------\n",
    "##-----------------------------------------------\n",
    "##-----------------------------------------------\n",
    "##-----------------------------------------------"
   ]
  },
  {
   "cell_type": "code",
   "execution_count": null,
   "metadata": {},
   "outputs": [],
   "source": [
    "##-----------------------------------------------\n",
    "##--(ENDESA Ninja -- training session)-----------\n",
    "##-----------------------------------------------\n",
    "## 8 kyu\n",
    "## Get Planet Name By ID\n",
    "## inicio (2022-09-18)\n",
    "## DONE   (2022-09-18)\n",
    "## https://www.freecodecamp.org/news/python-switch-statement-switch-case-example/\n",
    "##-----------------------------------------------\n",
    "##-----------------------------------------------"
   ]
  },
  {
   "cell_type": "code",
   "execution_count": null,
   "metadata": {},
   "outputs": [],
   "source": [
    "## da error porque hay que sustituir  switch por  match\n",
    "\n",
    "def get_planet_name(id):\n",
    "    # This doesn't work; Fix it!\n",
    "    name=\"\"\n",
    "    match id:\n",
    "        case 1: name = \"Mercury\"\n",
    "        case 2: name = \"Venus\"\n",
    "        case 3: name = \"Earth\"\n",
    "        case 4: name = \"Mars\"\n",
    "        case 5: name = \"Jupiter\"\n",
    "        case 6: name = \"Saturn\"\n",
    "        case 7: name = \"Uranus\"  \n",
    "        case 8: name = \"Neptune\"\n",
    "        \n",
    "    return name"
   ]
  },
  {
   "cell_type": "code",
   "execution_count": null,
   "metadata": {},
   "outputs": [],
   "source": [
    "##-----------------------------------------------\n",
    "##-----------------------------------------------\n",
    "##-----------------------------------------------\n",
    "##-----------------------------------------------"
   ]
  },
  {
   "cell_type": "code",
   "execution_count": null,
   "metadata": {},
   "outputs": [],
   "source": [
    "##-----------------------------------------------\n",
    "##--(ENDESA Ninja -- training session)-----------\n",
    "##-----------------------------------------------\n",
    "## 8 kyu\n",
    "## Help the Elite Squad of Brazilian forces BOPE\n",
    "## inicio (2022-09-20)\n",
    "## DONE   (2022-09-20)\n",
    "## pendiente subir a codewars\n",
    "##-----------------------------------------------\n",
    "##-----------------------------------------------"
   ]
  },
  {
   "cell_type": "code",
   "execution_count": 40,
   "metadata": {},
   "outputs": [],
   "source": [
    "from typing import Tuple\n",
    "\n",
    "def mag_number(info: Tuple[str, int]) -> int:\n",
    "    \n",
    "    d = {'PT92':17, 'M4A1':30, 'M16A2':30, 'PSG1':5}\n",
    "    \n",
    "    t1 = info[0]\n",
    "    t2 = info[1]\n",
    "    \n",
    "    v = ((t2*3)//d[t1]) +1\n",
    "    return v\n",
    "    pass"
   ]
  },
  {
   "cell_type": "code",
   "execution_count": 41,
   "metadata": {},
   "outputs": [
    {
     "name": "stdout",
     "output_type": "stream",
     "text": [
      "PT92 6 17\n",
      "2\n"
     ]
    }
   ],
   "source": [
    "print(mag_number((\"PT92\", 6)))"
   ]
  },
  {
   "cell_type": "code",
   "execution_count": 42,
   "metadata": {},
   "outputs": [
    {
     "name": "stdout",
     "output_type": "stream",
     "text": [
      "M4A1 8 30\n",
      "1\n"
     ]
    }
   ],
   "source": [
    "print(mag_number((\"M4A1\", 8)))"
   ]
  },
  {
   "cell_type": "code",
   "execution_count": 43,
   "metadata": {},
   "outputs": [
    {
     "name": "stdout",
     "output_type": "stream",
     "text": [
      "M16A2 19 30\n",
      "2\n"
     ]
    }
   ],
   "source": [
    "print(mag_number((\"M16A2\", 19)))"
   ]
  },
  {
   "cell_type": "code",
   "execution_count": 44,
   "metadata": {},
   "outputs": [
    {
     "name": "stdout",
     "output_type": "stream",
     "text": [
      "PSG1 31 5\n",
      "19\n"
     ]
    }
   ],
   "source": [
    "print(mag_number((\"PSG1\", 31)))"
   ]
  },
  {
   "cell_type": "code",
   "execution_count": 45,
   "metadata": {},
   "outputs": [
    {
     "name": "stdout",
     "output_type": "stream",
     "text": [
      "PT92 19 17\n",
      "4\n"
     ]
    }
   ],
   "source": [
    "print(mag_number((\"PT92\", 19)))"
   ]
  },
  {
   "cell_type": "code",
   "execution_count": null,
   "metadata": {},
   "outputs": [],
   "source": [
    "##-----------------------------------------------\n",
    "##-----------------------------------------------\n",
    "##-----------------------------------------------\n",
    "##-----------------------------------------------"
   ]
  }
 ],
 "metadata": {
  "kernelspec": {
   "display_name": "Python 3",
   "language": "python",
   "name": "python3"
  },
  "language_info": {
   "codemirror_mode": {
    "name": "ipython",
    "version": 3
   },
   "file_extension": ".py",
   "mimetype": "text/x-python",
   "name": "python",
   "nbconvert_exporter": "python",
   "pygments_lexer": "ipython3",
   "version": "3.8.5"
  }
 },
 "nbformat": 4,
 "nbformat_minor": 4
}
