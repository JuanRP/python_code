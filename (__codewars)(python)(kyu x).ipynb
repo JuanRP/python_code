{
 "cells": [
  {
   "cell_type": "markdown",
   "metadata": {},
   "source": [
    "## (codewars) Strings "
   ]
  },
  {
   "cell_type": "code",
   "execution_count": 1,
   "metadata": {},
   "outputs": [
    {
     "name": "stdout",
     "output_type": "stream",
     "text": [
      "Hi my age is 32 years and 250 days12\n",
      "[32, 250]\n"
     ]
    }
   ],
   "source": [
    "temp_string = \"Hi my age is 32 years and 250 days12\"\n",
    "print(temp_string)\n",
    "\n",
    "numbers = [int(temp)for temp in temp_string.split() if temp.isdigit()]\n",
    "\n",
    "print(numbers)"
   ]
  },
  {
   "cell_type": "code",
   "execution_count": null,
   "metadata": {},
   "outputs": [],
   "source": [
    "##-----------------------------------------------\n",
    "##-----------------------------------------------\n",
    "##-----------------------------------------------\n",
    "##-----------------------------------------------"
   ]
  }
 ],
 "metadata": {
  "kernelspec": {
   "display_name": "Python 3",
   "language": "python",
   "name": "python3"
  },
  "language_info": {
   "codemirror_mode": {
    "name": "ipython",
    "version": 3
   },
   "file_extension": ".py",
   "mimetype": "text/x-python",
   "name": "python",
   "nbconvert_exporter": "python",
   "pygments_lexer": "ipython3",
   "version": "3.8.5"
  }
 },
 "nbformat": 4,
 "nbformat_minor": 4
}
