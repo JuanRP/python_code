{
 "cells": [
  {
   "cell_type": "code",
   "execution_count": null,
   "metadata": {},
   "outputs": [],
   "source": [
    "##-----------------------------------------------\n",
    "##-----------------------------------------------\n",
    "## https://www.codewars.com/kata/591748b3f014a2593d0000d9/train/python\n",
    "## 4 kyu\n",
    "## Sum of Intervals\n",
    "## inicio (2022-09-22)\n",
    "## DONE   (2022-09-xx) pending\n",
    "##\n",
    "## \n",
    "## \n",
    "##-----------------------------------------------\n",
    "##-----------------------------------------------"
   ]
  },
  {
   "cell_type": "code",
   "execution_count": null,
   "metadata": {},
   "outputs": [],
   "source": [
    "class Datamining:\n",
    "\n",
    "    def __init__(self, train_set):\n",
    "        pass\n",
    "\n",
    "    def predict(self, x):\n",
    "        # should return predicted y\n",
    "        return x ** 7 + 42"
   ]
  },
  {
   "cell_type": "code",
   "execution_count": null,
   "metadata": {},
   "outputs": [],
   "source": [
    "import math\n",
    "y_actual = [1,2,3,4,5]\n",
    "y_predicted = [1.6,2.5,2.9,3,4.1]\n",
    " \n",
    "MSE = np.square(np.subtract(y_actual,y_predicted)).mean() \n",
    " \n",
    "RMSE = math.sqrt(MSE)\n",
    "print(\"Root Mean Square Error:\\n\")\n",
    "print(RMSE)"
   ]
  },
  {
   "cell_type": "code",
   "execution_count": null,
   "metadata": {},
   "outputs": [],
   "source": []
  },
  {
   "cell_type": "code",
   "execution_count": null,
   "metadata": {},
   "outputs": [],
   "source": [
    "##-----------------------------------------------\n",
    "##-----------------------------------------------\n",
    "##-----------------------------------------------\n",
    "##-----------------------------------------------"
   ]
  },
  {
   "cell_type": "code",
   "execution_count": null,
   "metadata": {},
   "outputs": [],
   "source": [
    "##-----------------------------------------------\n",
    "##-----------------------------------------------\n",
    "## 4 kyu\n",
    "## Sum of Intervals\n",
    "## inicio (2022-09-22)\n",
    "## DONE   (2022-09-22)\n",
    "##\n",
    "## https://www.geeksforgeeks.org/merging-intervals/\n",
    "## da buenas pista aunque hay que hacer algunos ajustes\n",
    "##-----------------------------------------------\n",
    "##-----------------------------------------------"
   ]
  },
  {
   "cell_type": "code",
   "execution_count": 52,
   "metadata": {},
   "outputs": [],
   "source": [
    "def sum_of_intervals(intervals):\n",
    "    \n",
    "    # eliminate duplicate intervals\n",
    "    nw = list(dict.fromkeys(intervals))\n",
    "    #from list of tuples to list of list\n",
    "    NWintervals = list(map(list, nw))\n",
    "    # initialize stack\n",
    "    stack = []\n",
    "    \n",
    "    if len(NWintervals) > 0:\n",
    "        #sort the list\n",
    "        NWintervals.sort()\n",
    "        stack = []\n",
    "        \n",
    "        # insert first interval in the stack\n",
    "        stack.append(NWintervals[0])\n",
    "        \n",
    "        # check for overlapping interval\n",
    "        for i in NWintervals[1:]:\n",
    "            if stack[-1][0] <= i[0] <= stack[-1][-1]:\n",
    "                stack[-1][-1] = max(stack[-1][-1], i[-1])\n",
    "            else:\n",
    "                stack.append(i)\n",
    "    else:\n",
    "        stack.append(NWintervals)\n",
    "    \n",
    "    # sum values\n",
    "    sm = 0\n",
    "    for s in stack:\n",
    "        sm = (s[1] - s[0]) +  sm\n",
    "    \n",
    "    return sm"
   ]
  },
  {
   "cell_type": "code",
   "execution_count": 53,
   "metadata": {
    "scrolled": true
   },
   "outputs": [
    {
     "name": "stdout",
     "output_type": "stream",
     "text": [
      "7\n"
     ]
    }
   ],
   "source": [
    "print(sum_of_intervals([(1, 4),(7, 10),(3,5)]))"
   ]
  },
  {
   "cell_type": "code",
   "execution_count": null,
   "metadata": {},
   "outputs": [],
   "source": [
    "##-----------------------------------------------\n",
    "##-----------------------------------------------\n",
    "##-----------------------------------------------\n",
    "##-----------------------------------------------"
   ]
  },
  {
   "cell_type": "code",
   "execution_count": null,
   "metadata": {},
   "outputs": [],
   "source": [
    "##-----------------------------------------------\n",
    "##-----------------------------------------------\n",
    "## 4 kyu\n",
    "## Hamming Numbers\n",
    "## inicio (2022-06-07)\n",
    "## DONE   (2022-06-07)\n",
    "##\n",
    "# This version is based on a snippet from:\n",
    "# https://web.archive.org/web/20081219014725/\n",
    "# http://dobbscodetalk.com:80/index.php?option=com_content&task=view&id=913&Itemid=85\n",
    "# http://www.drdobbs.com/architecture-and-design/hamming-problem/228700538\n",
    "# Hamming problem\n",
    "# Written by Will Ness\n",
    "# December 07, 2008\n",
    "##-----------------------------------------------\n",
    "##-----------------------------------------------"
   ]
  },
  {
   "cell_type": "code",
   "execution_count": 19,
   "metadata": {},
   "outputs": [],
   "source": [
    "from itertools import islice\n",
    " \n",
    "def hamming2():\n",
    "    h = 1\n",
    "    _h = [h]\n",
    "    multipliers = (2, 3, 5)\n",
    "    multindeces = [0 for i in multipliers]\n",
    "    multvalues  = [x * _h[i] for x,i in zip(multipliers, multindeces)]\n",
    "    yield h\n",
    "    while True:\n",
    "        h = min(multvalues)\n",
    "        _h.append(h)\n",
    "        for (n,(v,x,i)) in enumerate(zip(multvalues, multipliers, multindeces)):\n",
    "            if v == h:\n",
    "                i += 1\n",
    "                multindeces[n] = i\n",
    "                multvalues[n]  = x * _h[i]\n",
    "        mini = min(multindeces)\n",
    "        if mini >= 1000:\n",
    "            del _h[:mini]\n",
    "            multindeces = [i - mini for i in multindeces]\n",
    "        yield h"
   ]
  },
  {
   "cell_type": "code",
   "execution_count": 30,
   "metadata": {},
   "outputs": [],
   "source": [
    "from itertools import islice\n",
    " \n",
    "def hamming2():\n",
    "    h = 1\n",
    "    hl = [h]\n",
    "    base = (2, 3, 5)\n",
    "    ind = [0 for i in base]\n",
    "    val  = [x * hl[i] for x,i in zip(base, ind)]\n",
    "    yield h\n",
    "    while True:\n",
    "        h = min(val)\n",
    "        hl.append(h)\n",
    "        for (j,(v,x,i)) in enumerate(zip(val, base, ind)):\n",
    "            if v == h:\n",
    "                i += 1\n",
    "                ind[j] = i\n",
    "                val[j]  = x * hl[i]\n",
    "        min_ind = min(ind)\n",
    "        if min_ind >= 1500:\n",
    "            del hl[:min_ind]\n",
    "            ind = [i - min_ind for i in ind]\n",
    "        yield h"
   ]
  },
  {
   "cell_type": "code",
   "execution_count": 31,
   "metadata": {},
   "outputs": [],
   "source": [
    "# output  number\n",
    "def hamming(n):\n",
    "    a = list(islice(hamming2(), n-1, n))\n",
    "    return int(a[0])"
   ]
  },
  {
   "cell_type": "code",
   "execution_count": 49,
   "metadata": {},
   "outputs": [],
   "source": [
    "# output  string\n",
    "def hamming(n):\n",
    "    a = list(islice(hamming2(), n-1, n))\n",
    "    out = 'hamming(' + str(n) +') should be ' + str(a[0])\n",
    "    print(str(out))"
   ]
  },
  {
   "cell_type": "code",
   "execution_count": 16,
   "metadata": {},
   "outputs": [
    {
     "name": "stdout",
     "output_type": "stream",
     "text": [
      "[0, 0, 0]\n"
     ]
    },
    {
     "data": {
      "text/plain": [
       "45"
      ]
     },
     "execution_count": 16,
     "metadata": {},
     "output_type": "execute_result"
    }
   ],
   "source": [
    "hamming(22)"
   ]
  },
  {
   "cell_type": "code",
   "execution_count": 26,
   "metadata": {},
   "outputs": [
    {
     "data": {
      "text/plain": [
       "8062156800"
      ]
     },
     "execution_count": 26,
     "metadata": {},
     "output_type": "execute_result"
    }
   ],
   "source": [
    "hamming(2000)"
   ]
  },
  {
   "cell_type": "code",
   "execution_count": 32,
   "metadata": {},
   "outputs": [
    {
     "data": {
      "text/plain": [
       "8062156800"
      ]
     },
     "execution_count": 32,
     "metadata": {},
     "output_type": "execute_result"
    }
   ],
   "source": [
    "hamming(2000)"
   ]
  },
  {
   "cell_type": "code",
   "execution_count": null,
   "metadata": {},
   "outputs": [],
   "source": [
    "##-----------------------------------------------\n",
    "##-----------------------------------------------\n",
    "##-----------------------------------------------\n",
    "##-----------------------------------------------"
   ]
  },
  {
   "cell_type": "code",
   "execution_count": null,
   "metadata": {},
   "outputs": [],
   "source": [
    "##===========================================\n",
    "##===========================================\n",
    "## 4 kyu\n",
    "## Roman Numerals Helper.\n",
    "## inicio (2022-06-11)\n",
    "## DONE   (2022-06-11)\n",
    "## ==========================================="
   ]
  },
  {
   "cell_type": "code",
   "execution_count": null,
   "metadata": {},
   "outputs": [],
   "source": [
    "## solucion\n",
    "\n",
    "class RomanNumerals:\n",
    "    \n",
    "    rnd00 = {\"M\": 1000, \"CM\":900, \"D\":500, \"CD\":400, \"C\":100,\n",
    "             \"XC\":90, \"L\":50, \"XL\":40, \"X\":10,\n",
    "             \"IX\":9, \"V\":5, \"IV\":4, \"I\":1}\n",
    "    \n",
    "    rnd01 = [[1000,\"M\"], [900,\"CM\"], [500,\"D\"], [400,\"CD\"], [100,\"C\"],\n",
    "             [90,\"XC\"], [50,\"L\"], [40,\"XL\"], [10,\"X\"],\n",
    "             [9,\"IX\"], [5,\"V\"], [4,\"IV\"], [1,\"I\"]]\n",
    "    \n",
    "    \n",
    "    def to_roman(val):\n",
    "        roman_num = ''\n",
    "        i = 0\n",
    "        while  val > 0:\n",
    "            for _ in range(val // RomanNumerals().rnd01[i][0]):\n",
    "                roman_num += RomanNumerals().rnd01[i][1]\n",
    "                val -= RomanNumerals().rnd01[i][0]\n",
    "            i += 1\n",
    "        return roman_num\n",
    "\n",
    "\n",
    "    def from_roman(roman_num):\n",
    "        val = 0\n",
    "        for i in range(len(roman_num)):\n",
    "            if i > 0 and RomanNumerals().rnd00[roman_num[i]] > RomanNumerals().rnd00[roman_num[i-1]]:\n",
    "                val += RomanNumerals().rnd00[roman_num[i]] - 2 * RomanNumerals().rnd00[roman_num[i-1]]\n",
    "            else:\n",
    "                val += RomanNumerals().rnd00[roman_num[i]]\n",
    "        return val"
   ]
  },
  {
   "cell_type": "code",
   "execution_count": null,
   "metadata": {},
   "outputs": [],
   "source": [
    "##-----------------------------------------------\n",
    "##-----------------------------------------------\n",
    "##-----------------------------------------------\n",
    "##-----------------------------------------------"
   ]
  },
  {
   "cell_type": "code",
   "execution_count": null,
   "metadata": {},
   "outputs": [],
   "source": [
    "##===========================================\n",
    "##===========================================\n",
    "## 4 kyu\n",
    "## Pyramid Slide Down\n",
    "## inicio (2022-04-07)\n",
    "## DONE   (2022-04-07)\n",
    "##\n",
    "## https://stackoverflow.com/questions/63834519/find-the-possible-slide-downs-in-a-pyramid\n",
    "##==========================================="
   ]
  },
  {
   "cell_type": "code",
   "execution_count": null,
   "metadata": {},
   "outputs": [],
   "source": [
    "import numpy as np\n",
    "def longest_slide_down(pyramid):\n",
    "    p = pyramid\n",
    "    if len(p) == 1:\n",
    "        return pyramid[0][0]\n",
    "    p = np.array(p,dtype=object,)\n",
    "    p[-2] += np.maximum(p[-1][:-1], p[-1][1:])\n",
    "    return longest_slide_down(p[:-1])"
   ]
  },
  {
   "cell_type": "code",
   "execution_count": null,
   "metadata": {},
   "outputs": [],
   "source": [
    "pyramid = [[3], [7, 4], [2, 4, 6], [8, 5, 9, 3]]"
   ]
  },
  {
   "cell_type": "code",
   "execution_count": null,
   "metadata": {},
   "outputs": [],
   "source": [
    "pyramid = np.array([[3], [7, 4], [2, 4, 6], [8, 5, 9, 3]],dtype=object,)"
   ]
  },
  {
   "cell_type": "code",
   "execution_count": null,
   "metadata": {},
   "outputs": [],
   "source": [
    "longest_slide_down(pyramid)"
   ]
  },
  {
   "cell_type": "code",
   "execution_count": null,
   "metadata": {},
   "outputs": [],
   "source": [
    "##-----------------------------------------------\n",
    "##-----------------------------------------------\n",
    "##-----------------------------------------------\n",
    "##-----------------------------------------------"
   ]
  },
  {
   "cell_type": "code",
   "execution_count": null,
   "metadata": {},
   "outputs": [],
   "source": [
    "##===========================================\n",
    "##===========================================\n",
    "## 4 kyu\n",
    "## Strings Mix\n",
    "## inicio \n",
    "## DONE   \n",
    "##==========================================="
   ]
  },
  {
   "cell_type": "code",
   "execution_count": null,
   "metadata": {},
   "outputs": [],
   "source": [
    "import re"
   ]
  },
  {
   "cell_type": "code",
   "execution_count": null,
   "metadata": {},
   "outputs": [],
   "source": [
    "def mix(s1, s2):\n",
    "    \n",
    "    def build_dic (s):\n",
    "        rs = re.sub(\"[^a-z]\", \"\", s).strip()\n",
    "        Fout = {i:rs.count(i) for i in rs}\n",
    "        return(Fout)\n",
    "    \n",
    "    Fout1 = build_dic (s1)\n",
    "    Fout2 = build_dic (s2)\n",
    "        \n",
    "    Fout3 = {}\n",
    "\n",
    "    for key in Fout1:\n",
    "        if key in Fout2:\n",
    "            if Fout1[key] > Fout2[key]:\n",
    "                Fout3 [key] = '1' + str(Fout1[key])\n",
    "            \n",
    "            else:\n",
    "                if Fout1[key] < Fout2[key]:\n",
    "                    Fout3 [key] = '2' + str(Fout2[key])\n",
    "                    \n",
    "                else:\n",
    "                    if Fout1[key] == Fout2[key] and (Fout1[key] != 1 and Fout2[key] != 1):\n",
    "                        Fout3 [key] = '=' + str(Fout1[key])\n",
    "                    \n",
    "        else:\n",
    "            if Fout1[key] > 1:\n",
    "                Fout3 [key] = '1' + str(Fout1[key])\n",
    "\n",
    "    \n",
    "    for key in Fout2:\n",
    "        if Fout3.get(key, -1) == -1  and Fout2[key] > 1:\n",
    "            Fout3 [key] = '2' + str(Fout2[key])\n",
    "\n",
    "    l1 = []\n",
    "       \n",
    "    for key in Fout3:\n",
    "        l1.append ([Fout3[key][0], key[0], int(Fout3[key][1:]), int(Fout3[key][1:]) * key[0]])\n",
    "    \n",
    "    sorted_l10 = sorted(l1, key = lambda x: (x[0], x[1]))\n",
    "    sorted_l11 = sorted(sorted_l10, key = lambda x:x[2], reverse = True)\n",
    "     \n",
    "    sol = ''\n",
    "    for v in sorted_l11:\n",
    "        sol = sol + v[0] + ':' + v[3] + '/'\n",
    "    sol = sol[:-1]\n",
    "    \n",
    "    return (sol)\n"
   ]
  },
  {
   "cell_type": "code",
   "execution_count": null,
   "metadata": {},
   "outputs": [],
   "source": [
    "s1 = \"my&friend&Paul has heavy hats! &\"\n",
    "s2 = \"my friend John has many many friends &\"\n",
    "print (s1, s2, mix(s1, s2))"
   ]
  },
  {
   "cell_type": "code",
   "execution_count": null,
   "metadata": {},
   "outputs": [],
   "source": [
    "s1 = \" In many languages\"\n",
    "s2 = \" there's a pair of functions\"\n",
    "mix(s1, s2)"
   ]
  },
  {
   "cell_type": "code",
   "execution_count": null,
   "metadata": {},
   "outputs": [],
   "source": [
    "s1 = \" In many languages\"\n",
    "rs = re.sub(\"[^a-z]\", \"\", s1).strip()\n",
    "Fout = {i:rs.count(i) for i in rs}\n",
    "print(Fout)\n"
   ]
  },
  {
   "cell_type": "code",
   "execution_count": null,
   "metadata": {},
   "outputs": [],
   "source": [
    "s1 = \"Sadus:cpms>orqn3zecwGvnznSgacs\"\n",
    "s2 = \"MynwdKizfd$lvse+gnbaGydxyXzayp\"\n",
    "mix(s1, s2)"
   ]
  },
  {
   "cell_type": "code",
   "execution_count": null,
   "metadata": {},
   "outputs": [],
   "source": [
    "s1 = \"codewars\"\n",
    "s2 = \"codewars\"\n",
    "mix(s1, s2)"
   ]
  },
  {
   "cell_type": "code",
   "execution_count": null,
   "metadata": {},
   "outputs": [],
   "source": [
    "##-----------------------------------------------\n",
    "##-----------------------------------------------\n",
    "##-----------------------------------------------\n",
    "##-----------------------------------------------"
   ]
  }
 ],
 "metadata": {
  "kernelspec": {
   "display_name": "Python 3",
   "language": "python",
   "name": "python3"
  },
  "language_info": {
   "codemirror_mode": {
    "name": "ipython",
    "version": 3
   },
   "file_extension": ".py",
   "mimetype": "text/x-python",
   "name": "python",
   "nbconvert_exporter": "python",
   "pygments_lexer": "ipython3",
   "version": "3.8.5"
  }
 },
 "nbformat": 4,
 "nbformat_minor": 4
}
